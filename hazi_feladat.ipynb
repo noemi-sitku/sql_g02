{
    "metadata": {
        "kernelspec": {
            "name": "SQL",
            "display_name": "SQL",
            "language": "sql"
        },
        "language_info": {
            "name": "sql",
            "version": ""
        }
    },
    "nbformat_minor": 2,
    "nbformat": 4,
    "cells": [
        {
            "cell_type": "code",
            "source": [
                "SELECT tipus, COUNT(*)\r\n",
                "FROM (SELECT\r\n",
                "        CASE WHEN lang IS NULL THEN 'Null'\r\n",
                "        ELSE 'Nem üres'\r\n",
                "        END AS tipus\r\n",
                "        FROM dvd) dvd\r\n",
                "GROUP BY tipus"
            ],
            "metadata": {
                "azdata_cell_guid": "f6433f23-938a-4d19-a874-039dfc33646a",
                "language": "sql"
            },
            "outputs": [
                {
                    "output_type": "display_data",
                    "data": {
                        "text/html": "(2 rows affected)"
                    },
                    "metadata": {}
                },
                {
                    "output_type": "display_data",
                    "data": {
                        "text/html": "Total execution time: 00:00:00.095"
                    },
                    "metadata": {}
                },
                {
                    "output_type": "execute_result",
                    "execution_count": 7,
                    "data": {
                        "application/vnd.dataresource+json": {
                            "schema": {
                                "fields": [
                                    {
                                        "name": "tipus"
                                    },
                                    {
                                        "name": "(No column name)"
                                    }
                                ]
                            },
                            "data": [
                                {
                                    "tipus": "Nem üres",
                                    "(No column name)": "315"
                                },
                                {
                                    "tipus": "Null",
                                    "(No column name)": "3"
                                }
                            ]
                        },
                        "text/html": "<table><tr><th>tipus</th><th>(No column name)</th></tr><tr><td>Nem üres</td><td>315</td></tr><tr><td>Null</td><td>3</td></tr></table>"
                    },
                    "metadata": {
                        "azdata_chartOptions": {
                            "type": "pie",
                            "dataDirection": "vertical",
                            "columnsAsLabels": true,
                            "labelFirstColumn": false,
                            "legendPosition": "top"
                        }
                    }
                }
            ],
            "execution_count": 7
        },
        {
            "cell_type": "code",
            "source": [
                "SELECT STDEV(lang) AS 'Szórás',\r\n",
                "       VAR(lang) AS 'Eltérés'\r\n",
                "FROM dvd"
            ],
            "metadata": {
                "language": "sql",
                "azdata_cell_guid": "0390eb56-c788-47e6-92f4-3b2eb831eed1"
            },
            "outputs": [
                {
                    "output_type": "display_data",
                    "data": {
                        "text/html": "Warning: Null value is eliminated by an aggregate or other SET operation."
                    },
                    "metadata": {}
                },
                {
                    "output_type": "display_data",
                    "data": {
                        "text/html": "(1 row affected)"
                    },
                    "metadata": {}
                },
                {
                    "output_type": "display_data",
                    "data": {
                        "text/html": "Total execution time: 00:00:00.065"
                    },
                    "metadata": {}
                },
                {
                    "output_type": "execute_result",
                    "execution_count": 13,
                    "data": {
                        "application/vnd.dataresource+json": {
                            "schema": {
                                "fields": [
                                    {
                                        "name": "Szórás"
                                    },
                                    {
                                        "name": "Eltérés"
                                    }
                                ]
                            },
                            "data": [
                                {
                                    "Szórás": "1,1861687313470872",
                                    "Eltérés": "1,4069962592255585"
                                }
                            ]
                        },
                        "text/html": "<table><tr><th>Szórás</th><th>Eltérés</th></tr><tr><td>1,1861687313470872</td><td>1,4069962592255585</td></tr></table>"
                    },
                    "metadata": {}
                }
            ],
            "execution_count": 13
        },
        {
            "cell_type": "code",
            "source": [
                "SELECT MIN(LEN(cim)) AS 'Min cím hossz',\r\n",
                "       MAX(LEN(cim)) AS 'Max cím hossz',\r\n",
                "       AVG(LEN(cim)) AS 'Átlag cím hossz'\r\n",
                "FROM dvd\r\n",
                "WHERE cim IS NOT NULL\r\n",
                "AND LEN(cim) > 0"
            ],
            "metadata": {
                "azdata_cell_guid": "b7c4e949-b2bb-478b-8ffc-c0131ef6f67a",
                "language": "sql"
            },
            "outputs": [
                {
                    "output_type": "display_data",
                    "data": {
                        "text/html": "(1 row affected)"
                    },
                    "metadata": {}
                },
                {
                    "output_type": "display_data",
                    "data": {
                        "text/html": "Total execution time: 00:00:00.075"
                    },
                    "metadata": {}
                },
                {
                    "output_type": "execute_result",
                    "execution_count": 10,
                    "data": {
                        "application/vnd.dataresource+json": {
                            "schema": {
                                "fields": [
                                    {
                                        "name": "Min cím hossz"
                                    },
                                    {
                                        "name": "Max cím hossz"
                                    },
                                    {
                                        "name": "Átlag cím hossz"
                                    }
                                ]
                            },
                            "data": [
                                {
                                    "Min cím hossz": "5",
                                    "Max cím hossz": "63",
                                    "Átlag cím hossz": "26"
                                }
                            ]
                        },
                        "text/html": "<table><tr><th>Min cím hossz</th><th>Max cím hossz</th><th>Átlag cím hossz</th></tr><tr><td>5</td><td>63</td><td>26</td></tr></table>"
                    },
                    "metadata": {
                        "azdata_chartOptions": {
                            "type": "bar",
                            "dataDirection": "horizontal",
                            "columnsAsLabels": true,
                            "labelFirstColumn": false,
                            "legendPosition": "top",
                            "yAxisLabel": "",
                            "xAxisLabel": ""
                        }
                    }
                }
            ],
            "execution_count": 10
        },
        {
            "cell_type": "code",
            "source": [
                "SELECT top 10 stilus, COUNT(*) as 'darabszám'\r\n",
                "from dvd\r\n",
                "WHERE stilus IS NOT null\r\n",
                "GROUP BY stilus\r\n",
                "ORDER BY COUNT(*) desc"
            ],
            "metadata": {
                "language": "sql",
                "azdata_cell_guid": "d3b558f2-4940-4c5a-9698-e73544ef9494"
            },
            "outputs": [
                {
                    "output_type": "display_data",
                    "data": {
                        "text/html": "(10 rows affected)"
                    },
                    "metadata": {}
                },
                {
                    "output_type": "display_data",
                    "data": {
                        "text/html": "Total execution time: 00:00:00.104"
                    },
                    "metadata": {}
                },
                {
                    "output_type": "execute_result",
                    "execution_count": 18,
                    "data": {
                        "application/vnd.dataresource+json": {
                            "schema": {
                                "fields": [
                                    {
                                        "name": "stilus"
                                    },
                                    {
                                        "name": "darabszám"
                                    }
                                ]
                            },
                            "data": [
                                {
                                    "stilus": "játék",
                                    "darabszám": "60"
                                },
                                {
                                    "stilus": "ismeretterjesztő",
                                    "darabszám": "46"
                                },
                                {
                                    "stilus": "nyelvtanító",
                                    "darabszám": "42"
                                },
                                {
                                    "stilus": "történelem",
                                    "darabszám": "41"
                                },
                                {
                                    "stilus": "földrajz",
                                    "darabszám": "16"
                                },
                                {
                                    "stilus": "irodalom",
                                    "darabszám": "16"
                                },
                                {
                                    "stilus": "matematika",
                                    "darabszám": "9"
                                },
                                {
                                    "stilus": "csillagászat",
                                    "darabszám": "7"
                                },
                                {
                                    "stilus": "szótár",
                                    "darabszám": "7"
                                },
                                {
                                    "stilus": "felvételi",
                                    "darabszám": "6"
                                }
                            ]
                        },
                        "text/html": "<table><tr><th>stilus</th><th>darabszám</th></tr><tr><td>játék</td><td>60</td></tr><tr><td>ismeretterjesztő</td><td>46</td></tr><tr><td>nyelvtanító</td><td>42</td></tr><tr><td>történelem</td><td>41</td></tr><tr><td>földrajz</td><td>16</td></tr><tr><td>irodalom</td><td>16</td></tr><tr><td>matematika</td><td>9</td></tr><tr><td>csillagászat</td><td>7</td></tr><tr><td>szótár</td><td>7</td></tr><tr><td>felvételi</td><td>6</td></tr></table>"
                    },
                    "metadata": {
                        "azdata_chartOptions": {
                            "type": "doughnut",
                            "dataDirection": "vertical",
                            "columnsAsLabels": true,
                            "labelFirstColumn": false,
                            "legendPosition": "top"
                        }
                    }
                }
            ],
            "execution_count": 18
        },
        {
            "cell_type": "code",
            "source": [
                "SELECT TOP 10 stilus, \r\n",
                "        LEN(stilus) AS 'szó hossza'\r\n",
                "FROM dvd\r\n",
                "WHERE stilus is not null\r\n",
                "GROUP BY stilus\r\n",
                "ORDER BY 2 ASC"
            ],
            "metadata": {
                "language": "sql",
                "azdata_cell_guid": "8abdabad-7d30-4a0a-aa50-5fc00706f2f8"
            },
            "outputs": [
                {
                    "output_type": "display_data",
                    "data": {
                        "text/html": "(10 rows affected)"
                    },
                    "metadata": {}
                },
                {
                    "output_type": "display_data",
                    "data": {
                        "text/html": "Total execution time: 00:00:00.056"
                    },
                    "metadata": {}
                },
                {
                    "output_type": "execute_result",
                    "execution_count": 23,
                    "data": {
                        "application/vnd.dataresource+json": {
                            "schema": {
                                "fields": [
                                    {
                                        "name": "stilus"
                                    },
                                    {
                                        "name": "szó hossza"
                                    }
                                ]
                            },
                            "data": [
                                {
                                    "stilus": "zene",
                                    "szó hossza": "4"
                                },
                                {
                                    "stilus": "humor",
                                    "szó hossza": "5"
                                },
                                {
                                    "stilus": "játék",
                                    "szó hossza": "5"
                                },
                                {
                                    "stilus": "kémia",
                                    "szó hossza": "5"
                                },
                                {
                                    "stilus": "kresz",
                                    "szó hossza": "5"
                                },
                                {
                                    "stilus": "sport",
                                    "szó hossza": "5"
                                },
                                {
                                    "stilus": "fizika",
                                    "szó hossza": "6"
                                },
                                {
                                    "stilus": "szótár",
                                    "szó hossza": "6"
                                },
                                {
                                    "stilus": "gépírás",
                                    "szó hossza": "7"
                                },
                                {
                                    "stilus": "színház",
                                    "szó hossza": "7"
                                }
                            ]
                        },
                        "text/html": "<table><tr><th>stilus</th><th>szó hossza</th></tr><tr><td>zene</td><td>4</td></tr><tr><td>humor</td><td>5</td></tr><tr><td>játék</td><td>5</td></tr><tr><td>kémia</td><td>5</td></tr><tr><td>kresz</td><td>5</td></tr><tr><td>sport</td><td>5</td></tr><tr><td>fizika</td><td>6</td></tr><tr><td>szótár</td><td>6</td></tr><tr><td>gépírás</td><td>7</td></tr><tr><td>színház</td><td>7</td></tr></table>"
                    },
                    "metadata": {}
                }
            ],
            "execution_count": 23
        },
        {
            "cell_type": "code",
            "source": [
                "SELECT TOP (5) stilus\r\n",
                "FROM dvd\r\n",
                "GROUP BY stilus\r\n",
                "ORDER BY NEWID()"
            ],
            "metadata": {
                "language": "sql",
                "azdata_cell_guid": "1bb44770-e3ab-4e7c-bc26-fafb2df2d13d"
            },
            "outputs": [
                {
                    "output_type": "display_data",
                    "data": {
                        "text/html": "(5 rows affected)"
                    },
                    "metadata": {}
                },
                {
                    "output_type": "display_data",
                    "data": {
                        "text/html": "Total execution time: 00:00:00.056"
                    },
                    "metadata": {}
                },
                {
                    "output_type": "execute_result",
                    "execution_count": 26,
                    "data": {
                        "application/vnd.dataresource+json": {
                            "schema": {
                                "fields": [
                                    {
                                        "name": "stilus"
                                    }
                                ]
                            },
                            "data": [
                                {
                                    "stilus": "játék (jégkorong)"
                                },
                                {
                                    "stilus": "kerttervező"
                                },
                                {
                                    "stilus": "játék (labdarúgás)"
                                },
                                {
                                    "stilus": "játék (autóverseny)"
                                },
                                {
                                    "stilus": "játék - autós"
                                }
                            ]
                        },
                        "text/html": "<table><tr><th>stilus</th></tr><tr><td>játék (jégkorong)</td></tr><tr><td>kerttervező</td></tr><tr><td>játék (labdarúgás)</td></tr><tr><td>játék (autóverseny)</td></tr><tr><td>játék - autós</td></tr></table>"
                    },
                    "metadata": {}
                }
            ],
            "execution_count": 26
        }
    ]
}