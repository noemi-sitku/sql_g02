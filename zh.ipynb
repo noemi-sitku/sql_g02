{
    "metadata": {
        "kernelspec": {
            "name": "SQL",
            "display_name": "SQL",
            "language": "sql"
        },
        "language_info": {
            "name": "sql",
            "version": ""
        }
    },
    "nbformat_minor": 2,
    "nbformat": 4,
    "cells": [
        {
            "cell_type": "code",
            "source": [
                "SELECT ROGZITETTE, SZALLAS_NEV, CIM\r\n",
                "FROM Szallashely\r\n",
                "WHERE HELY = '*Balaton*' AND MONTH(ROGZ_IDO) = '3'\r\n",
                "ORDER BY CSILLAGOK_SZAMA DESC"
            ],
            "metadata": {
                "azdata_cell_guid": "a8c52a81-f58d-4455-8975-ad901b065489",
                "language": "sql",
                "tags": []
            },
            "outputs": [
                {
                    "output_type": "display_data",
                    "data": {
                        "text/html": "(0 rows affected)"
                    },
                    "metadata": {}
                },
                {
                    "output_type": "display_data",
                    "data": {
                        "text/html": "Total execution time: 00:00:00.002"
                    },
                    "metadata": {}
                },
                {
                    "output_type": "execute_result",
                    "execution_count": 8,
                    "data": {
                        "application/vnd.dataresource+json": {
                            "schema": {
                                "fields": [
                                    {
                                        "name": "ROGZITETTE"
                                    },
                                    {
                                        "name": "SZALLAS_NEV"
                                    },
                                    {
                                        "name": "CIM"
                                    }
                                ]
                            },
                            "data": []
                        },
                        "text/html": "<table><tr><th>ROGZITETTE</th><th>SZALLAS_NEV</th><th>CIM</th></tr></table>"
                    },
                    "metadata": {}
                }
            ],
            "execution_count": 8
        },
        {
            "cell_type": "code",
            "source": [
                "SELECT TIPUS, round(AVG(CSILLAGOK_SZAMA), 0)\r\n",
                "FROM Szallashely\r\n",
                "WHERE TIPUS <> 'panzió'\r\n",
                "GROUP BY TIPUS\r\n",
                "HAVING AVG(CSILLAGOK_SZAMA) >= 3"
            ],
            "metadata": {
                "azdata_cell_guid": "fca87ea2-9c20-481f-802c-062a83109c57",
                "language": "sql",
                "tags": []
            },
            "outputs": [
                {
                    "output_type": "display_data",
                    "data": {
                        "text/html": "(1 row affected)"
                    },
                    "metadata": {}
                },
                {
                    "output_type": "display_data",
                    "data": {
                        "text/html": "Total execution time: 00:00:00.004"
                    },
                    "metadata": {}
                },
                {
                    "output_type": "execute_result",
                    "metadata": {},
                    "execution_count": 8,
                    "data": {
                        "application/vnd.dataresource+json": {
                            "schema": {
                                "fields": [
                                    {
                                        "name": "TIPUS"
                                    },
                                    {
                                        "name": "(No column name)"
                                    }
                                ]
                            },
                            "data": [
                                {
                                    "TIPUS": "Hotel",
                                    "(No column name)": "3"
                                }
                            ]
                        },
                        "text/html": [
                            "<table>",
                            "<tr><th>TIPUS</th><th>(No column name)</th></tr>",
                            "<tr><td>Hotel</td><td>3</td></tr>",
                            "</table>"
                        ]
                    }
                }
            ],
            "execution_count": 8
        },
        {
            "cell_type": "code",
            "source": [
                "SELECT "
            ],
            "metadata": {
                "azdata_cell_guid": "84b5b34b-6770-4068-b36c-53a1f5d50cd1",
                "language": "sql"
            },
            "outputs": [],
            "execution_count": null
        }
    ]
}