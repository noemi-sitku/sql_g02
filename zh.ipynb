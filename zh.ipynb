{
    "metadata": {
        "kernelspec": {
            "name": "SQL",
            "display_name": "SQL",
            "language": "sql"
        },
        "language_info": {
            "name": "sql",
            "version": ""
        }
    },
    "nbformat_minor": 2,
    "nbformat": 4,
    "cells": [
        {
            "cell_type": "code",
            "source": [
                "SELECT ROGZITETTE, SZALLAS_NEV, CIM\r\n",
                "FROM Szallashely\r\n",
                "WHERE HELY = '*Balaton*' AND MONTH(ROGZ_IDO) = '3'\r\n",
                "ORDER BY CSILLAGOK_SZAMA DESC"
            ],
            "metadata": {
                "azdata_cell_guid": "a8c52a81-f58d-4455-8975-ad901b065489",
                "language": "sql",
                "tags": []
            },
            "outputs": [
                {
                    "output_type": "display_data",
                    "data": {
                        "text/html": "(0 rows affected)"
                    },
                    "metadata": {}
                },
                {
                    "output_type": "display_data",
                    "data": {
                        "text/html": "Total execution time: 00:00:00.002"
                    },
                    "metadata": {}
                },
                {
                    "output_type": "execute_result",
                    "execution_count": 8,
                    "data": {
                        "application/vnd.dataresource+json": {
                            "schema": {
                                "fields": [
                                    {
                                        "name": "ROGZITETTE"
                                    },
                                    {
                                        "name": "SZALLAS_NEV"
                                    },
                                    {
                                        "name": "CIM"
                                    }
                                ]
                            },
                            "data": []
                        },
                        "text/html": "<table><tr><th>ROGZITETTE</th><th>SZALLAS_NEV</th><th>CIM</th></tr></table>"
                    },
                    "metadata": {}
                }
            ],
            "execution_count": 8
        },
        {
            "cell_type": "code",
            "source": [
                "SELECT TIPUS, round(AVG(CSILLAGOK_SZAMA), 0)\r\n",
                "FROM Szallashely\r\n",
                "WHERE TIPUS <> 'panzió'\r\n",
                "GROUP BY TIPUS\r\n",
                "HAVING AVG(CSILLAGOK_SZAMA) >= 03"
            ],
            "metadata": {
                "azdata_cell_guid": "fca87ea2-9c20-481f-802c-062a83109c57",
                "language": "sql",
                "tags": []
            },
            "outputs": [
                {
                    "output_type": "display_data",
                    "data": {
                        "text/html": "(1 row affected)"
                    },
                    "metadata": {}
                },
                {
                    "output_type": "display_data",
                    "data": {
                        "text/html": "Total execution time: 00:00:00.004"
                    },
                    "metadata": {}
                },
                {
                    "output_type": "execute_result",
                    "metadata": {},
                    "execution_count": 8,
                    "data": {
                        "application/vnd.dataresource+json": {
                            "schema": {
                                "fields": [
                                    {
                                        "name": "TIPUS"
                                    },
                                    {
                                        "name": "(No column name)"
                                    }
                                ]
                            },
                            "data": [
                                {
                                    "TIPUS": "Hotel",
                                    "(No column name)": "3"
                                }
                            ]
                        },
                        "text/html": [
                            "<table>",
                            "<tr><th>TIPUS</th><th>(No column name)</th></tr>",
                            "<tr><td>Hotel</td><td>3</td></tr>",
                            "</table>"
                        ]
                    }
                }
            ],
            "execution_count": 8
        },
        {
            "cell_type": "code",
            "source": [
                "SELECT SZOBA_ID, SZOBA_SZAMA, FEROHELY, POTAGY, KLIMAS, SZALLAS_FK, sza.SZALLAS_NEV, IIF(sza.TIPUS = 'panzió', 'Igen', 'Nem')\r\n",
                "FROM Szoba sz JOIN szallashely sza on sz.SZALLAS_FK = sza.SZALLAS_ID\r\n",
                "\r\n",
                "EXCEPT\r\n",
                "\r\n",
                "SELECT DISTINCT sz.SZOBA_ID, SZOBA_SZAMA, FEROHELY, POTAGY, KLIMAS, SZALLAS_FK, sza.SZALLAS_NEV\r\n",
                "FROM Szoba sz JOIN Foglalas f ON sz.SZOBA_ID = f.SZOBA_FK\r\n",
                "              JOIN szallashely sza on sz.SZALLAS_FK = sza.SZALLAS_ID\r\n",
                ""
            ],
            "metadata": {
                "azdata_cell_guid": "84b5b34b-6770-4068-b36c-53a1f5d50cd1",
                "language": "sql"
            },
            "outputs": [
                {
                    "output_type": "display_data",
                    "data": {
                        "text/html": "(97 rows affected)"
                    },
                    "metadata": {}
                },
                {
                    "output_type": "display_data",
                    "data": {
                        "text/html": "Total execution time: 00:00:00.026"
                    },
                    "metadata": {}
                },
                {
                    "output_type": "execute_result",
                    "metadata": {},
                    "execution_count": 25,
                    "data": {
                        "application/vnd.dataresource+json": {
                            "schema": {
                                "fields": [
                                    {
                                        "name": "SZOBA_ID"
                                    },
                                    {
                                        "name": "SZOBA_SZAMA"
                                    },
                                    {
                                        "name": "FEROHELY"
                                    },
                                    {
                                        "name": "POTAGY"
                                    },
                                    {
                                        "name": "KLIMAS"
                                    },
                                    {
                                        "name": "SZALLAS_FK"
                                    },
                                    {
                                        "name": "SZALLAS_NEV"
                                    }
                                ]
                            },
                            "data": [
                                {
                                    "SZOBA_ID": "159",
                                    "SZOBA_SZAMA": "25",
                                    "FEROHELY": "3",
                                    "POTAGY": "1",
                                    "KLIMAS": "n",
                                    "SZALLAS_FK": "10",
                                    "SZALLAS_NEV": "Lagúna Hotel"
                                },
                                {
                                    "SZOBA_ID": "199",
                                    "SZOBA_SZAMA": "35",
                                    "FEROHELY": "3",
                                    "POTAGY": "2",
                                    "KLIMAS": "i",
                                    "SZALLAS_FK": "12",
                                    "SZALLAS_NEV": "Gold Hotel"
                                },
                                {
                                    "SZOBA_ID": "200",
                                    "SZOBA_SZAMA": "36",
                                    "FEROHELY": "2",
                                    "POTAGY": "0",
                                    "KLIMAS": "i",
                                    "SZALLAS_FK": "12",
                                    "SZALLAS_NEV": "Gold Hotel"
                                },
                                {
                                    "SZOBA_ID": "201",
                                    "SZOBA_SZAMA": "37",
                                    "FEROHELY": "3",
                                    "POTAGY": "1",
                                    "KLIMAS": "n",
                                    "SZALLAS_FK": "12",
                                    "SZALLAS_NEV": "Gold Hotel"
                                },
                                {
                                    "SZOBA_ID": "202",
                                    "SZOBA_SZAMA": "38",
                                    "FEROHELY": "3",
                                    "POTAGY": "1",
                                    "KLIMAS": "i",
                                    "SZALLAS_FK": "12",
                                    "SZALLAS_NEV": "Gold Hotel"
                                },
                                {
                                    "SZOBA_ID": "203",
                                    "SZOBA_SZAMA": "39",
                                    "FEROHELY": "3",
                                    "POTAGY": "0",
                                    "KLIMAS": "i",
                                    "SZALLAS_FK": "12",
                                    "SZALLAS_NEV": "Gold Hotel"
                                },
                                {
                                    "SZOBA_ID": "204",
                                    "SZOBA_SZAMA": "40",
                                    "FEROHELY": "3",
                                    "POTAGY": "1",
                                    "KLIMAS": "i",
                                    "SZALLAS_FK": "12",
                                    "SZALLAS_NEV": "Gold Hotel"
                                },
                                {
                                    "SZOBA_ID": "205",
                                    "SZOBA_SZAMA": "41",
                                    "FEROHELY": "3",
                                    "POTAGY": "0",
                                    "KLIMAS": "i",
                                    "SZALLAS_FK": "12",
                                    "SZALLAS_NEV": "Gold Hotel"
                                },
                                {
                                    "SZOBA_ID": "206",
                                    "SZOBA_SZAMA": "42",
                                    "FEROHELY": "2",
                                    "POTAGY": "1",
                                    "KLIMAS": "i",
                                    "SZALLAS_FK": "12",
                                    "SZALLAS_NEV": "Gold Hotel"
                                },
                                {
                                    "SZOBA_ID": "207",
                                    "SZOBA_SZAMA": "43",
                                    "FEROHELY": "2",
                                    "POTAGY": "1",
                                    "KLIMAS": "i",
                                    "SZALLAS_FK": "12",
                                    "SZALLAS_NEV": "Gold Hotel"
                                },
                                {
                                    "SZOBA_ID": "208",
                                    "SZOBA_SZAMA": "44",
                                    "FEROHELY": "2",
                                    "POTAGY": "1",
                                    "KLIMAS": "i",
                                    "SZALLAS_FK": "12",
                                    "SZALLAS_NEV": "Gold Hotel"
                                },
                                {
                                    "SZOBA_ID": "209",
                                    "SZOBA_SZAMA": "45",
                                    "FEROHELY": "3",
                                    "POTAGY": "2",
                                    "KLIMAS": "n",
                                    "SZALLAS_FK": "12",
                                    "SZALLAS_NEV": "Gold Hotel"
                                },
                                {
                                    "SZOBA_ID": "210",
                                    "SZOBA_SZAMA": "46",
                                    "FEROHELY": "2",
                                    "POTAGY": "0",
                                    "KLIMAS": "i",
                                    "SZALLAS_FK": "12",
                                    "SZALLAS_NEV": "Gold Hotel"
                                },
                                {
                                    "SZOBA_ID": "211",
                                    "SZOBA_SZAMA": "47",
                                    "FEROHELY": "2",
                                    "POTAGY": "1",
                                    "KLIMAS": "i",
                                    "SZALLAS_FK": "12",
                                    "SZALLAS_NEV": "Gold Hotel"
                                },
                                {
                                    "SZOBA_ID": "212",
                                    "SZOBA_SZAMA": "48",
                                    "FEROHELY": "3",
                                    "POTAGY": "0",
                                    "KLIMAS": "n",
                                    "SZALLAS_FK": "12",
                                    "SZALLAS_NEV": "Gold Hotel"
                                },
                                {
                                    "SZOBA_ID": "213",
                                    "SZOBA_SZAMA": "49",
                                    "FEROHELY": "3",
                                    "POTAGY": "0",
                                    "KLIMAS": "i",
                                    "SZALLAS_FK": "12",
                                    "SZALLAS_NEV": "Gold Hotel"
                                },
                                {
                                    "SZOBA_ID": "214",
                                    "SZOBA_SZAMA": "50",
                                    "FEROHELY": "3",
                                    "POTAGY": "1",
                                    "KLIMAS": "i",
                                    "SZALLAS_FK": "12",
                                    "SZALLAS_NEV": "Gold Hotel"
                                },
                                {
                                    "SZOBA_ID": "215",
                                    "SZOBA_SZAMA": "1",
                                    "FEROHELY": "2",
                                    "POTAGY": "1",
                                    "KLIMAS": "i",
                                    "SZALLAS_FK": "13",
                                    "SZALLAS_NEV": "Riviéra Panzió"
                                },
                                {
                                    "SZOBA_ID": "216",
                                    "SZOBA_SZAMA": "2",
                                    "FEROHELY": "3",
                                    "POTAGY": "1",
                                    "KLIMAS": "i",
                                    "SZALLAS_FK": "13",
                                    "SZALLAS_NEV": "Riviéra Panzió"
                                },
                                {
                                    "SZOBA_ID": "217",
                                    "SZOBA_SZAMA": "3",
                                    "FEROHELY": "2",
                                    "POTAGY": "1",
                                    "KLIMAS": "n",
                                    "SZALLAS_FK": "13",
                                    "SZALLAS_NEV": "Riviéra Panzió"
                                },
                                {
                                    "SZOBA_ID": "218",
                                    "SZOBA_SZAMA": "4",
                                    "FEROHELY": "3",
                                    "POTAGY": "0",
                                    "KLIMAS": "i",
                                    "SZALLAS_FK": "13",
                                    "SZALLAS_NEV": "Riviéra Panzió"
                                },
                                {
                                    "SZOBA_ID": "219",
                                    "SZOBA_SZAMA": "5",
                                    "FEROHELY": "2",
                                    "POTAGY": "0",
                                    "KLIMAS": "n",
                                    "SZALLAS_FK": "13",
                                    "SZALLAS_NEV": "Riviéra Panzió"
                                },
                                {
                                    "SZOBA_ID": "220",
                                    "SZOBA_SZAMA": "6",
                                    "FEROHELY": "3",
                                    "POTAGY": "0",
                                    "KLIMAS": "i",
                                    "SZALLAS_FK": "13",
                                    "SZALLAS_NEV": "Riviéra Panzió"
                                },
                                {
                                    "SZOBA_ID": "221",
                                    "SZOBA_SZAMA": "7",
                                    "FEROHELY": "3",
                                    "POTAGY": "0",
                                    "KLIMAS": "i",
                                    "SZALLAS_FK": "13",
                                    "SZALLAS_NEV": "Riviéra Panzió"
                                },
                                {
                                    "SZOBA_ID": "222",
                                    "SZOBA_SZAMA": "8",
                                    "FEROHELY": "2",
                                    "POTAGY": "0",
                                    "KLIMAS": "n",
                                    "SZALLAS_FK": "13",
                                    "SZALLAS_NEV": "Riviéra Panzió"
                                },
                                {
                                    "SZOBA_ID": "223",
                                    "SZOBA_SZAMA": "9",
                                    "FEROHELY": "2",
                                    "POTAGY": "1",
                                    "KLIMAS": "i",
                                    "SZALLAS_FK": "13",
                                    "SZALLAS_NEV": "Riviéra Panzió"
                                },
                                {
                                    "SZOBA_ID": "224",
                                    "SZOBA_SZAMA": "10",
                                    "FEROHELY": "2",
                                    "POTAGY": "0",
                                    "KLIMAS": "i",
                                    "SZALLAS_FK": "13",
                                    "SZALLAS_NEV": "Riviéra Panzió"
                                },
                                {
                                    "SZOBA_ID": "225",
                                    "SZOBA_SZAMA": "11",
                                    "FEROHELY": "2",
                                    "POTAGY": "1",
                                    "KLIMAS": "i",
                                    "SZALLAS_FK": "13",
                                    "SZALLAS_NEV": "Riviéra Panzió"
                                },
                                {
                                    "SZOBA_ID": "226",
                                    "SZOBA_SZAMA": "12",
                                    "FEROHELY": "3",
                                    "POTAGY": "1",
                                    "KLIMAS": "n",
                                    "SZALLAS_FK": "13",
                                    "SZALLAS_NEV": "Riviéra Panzió"
                                },
                                {
                                    "SZOBA_ID": "227",
                                    "SZOBA_SZAMA": "1",
                                    "FEROHELY": "2",
                                    "POTAGY": "1",
                                    "KLIMAS": "i",
                                    "SZALLAS_FK": "14",
                                    "SZALLAS_NEV": "Nyárfás Vendégház"
                                },
                                {
                                    "SZOBA_ID": "228",
                                    "SZOBA_SZAMA": "2",
                                    "FEROHELY": "3",
                                    "POTAGY": "0",
                                    "KLIMAS": "i",
                                    "SZALLAS_FK": "14",
                                    "SZALLAS_NEV": "Nyárfás Vendégház"
                                },
                                {
                                    "SZOBA_ID": "229",
                                    "SZOBA_SZAMA": "3",
                                    "FEROHELY": "2",
                                    "POTAGY": "0",
                                    "KLIMAS": "i",
                                    "SZALLAS_FK": "14",
                                    "SZALLAS_NEV": "Nyárfás Vendégház"
                                },
                                {
                                    "SZOBA_ID": "230",
                                    "SZOBA_SZAMA": "4",
                                    "FEROHELY": "3",
                                    "POTAGY": "2",
                                    "KLIMAS": "i",
                                    "SZALLAS_FK": "14",
                                    "SZALLAS_NEV": "Nyárfás Vendégház"
                                },
                                {
                                    "SZOBA_ID": "231",
                                    "SZOBA_SZAMA": "1",
                                    "FEROHELY": "2",
                                    "POTAGY": "0",
                                    "KLIMAS": "i",
                                    "SZALLAS_FK": "15",
                                    "SZALLAS_NEV": "Tímárház Panzió"
                                },
                                {
                                    "SZOBA_ID": "232",
                                    "SZOBA_SZAMA": "2",
                                    "FEROHELY": "2",
                                    "POTAGY": "0",
                                    "KLIMAS": "i",
                                    "SZALLAS_FK": "15",
                                    "SZALLAS_NEV": "Tímárház Panzió"
                                },
                                {
                                    "SZOBA_ID": "233",
                                    "SZOBA_SZAMA": "3",
                                    "FEROHELY": "3",
                                    "POTAGY": "0",
                                    "KLIMAS": "n",
                                    "SZALLAS_FK": "15",
                                    "SZALLAS_NEV": "Tímárház Panzió"
                                },
                                {
                                    "SZOBA_ID": "234",
                                    "SZOBA_SZAMA": "4",
                                    "FEROHELY": "3",
                                    "POTAGY": "1",
                                    "KLIMAS": "i",
                                    "SZALLAS_FK": "15",
                                    "SZALLAS_NEV": "Tímárház Panzió"
                                },
                                {
                                    "SZOBA_ID": "235",
                                    "SZOBA_SZAMA": "5",
                                    "FEROHELY": "3",
                                    "POTAGY": "0",
                                    "KLIMAS": "i",
                                    "SZALLAS_FK": "15",
                                    "SZALLAS_NEV": "Tímárház Panzió"
                                },
                                {
                                    "SZOBA_ID": "236",
                                    "SZOBA_SZAMA": "6",
                                    "FEROHELY": "3",
                                    "POTAGY": "1",
                                    "KLIMAS": "n",
                                    "SZALLAS_FK": "15",
                                    "SZALLAS_NEV": "Tímárház Panzió"
                                },
                                {
                                    "SZOBA_ID": "237",
                                    "SZOBA_SZAMA": "7",
                                    "FEROHELY": "2",
                                    "POTAGY": "2",
                                    "KLIMAS": "n",
                                    "SZALLAS_FK": "15",
                                    "SZALLAS_NEV": "Tímárház Panzió"
                                },
                                {
                                    "SZOBA_ID": "238",
                                    "SZOBA_SZAMA": "8",
                                    "FEROHELY": "3",
                                    "POTAGY": "1",
                                    "KLIMAS": "i",
                                    "SZALLAS_FK": "15",
                                    "SZALLAS_NEV": "Tímárház Panzió"
                                },
                                {
                                    "SZOBA_ID": "239",
                                    "SZOBA_SZAMA": "9",
                                    "FEROHELY": "2",
                                    "POTAGY": "2",
                                    "KLIMAS": "i",
                                    "SZALLAS_FK": "15",
                                    "SZALLAS_NEV": "Tímárház Panzió"
                                },
                                {
                                    "SZOBA_ID": "240",
                                    "SZOBA_SZAMA": "10",
                                    "FEROHELY": "3",
                                    "POTAGY": "0",
                                    "KLIMAS": "i",
                                    "SZALLAS_FK": "15",
                                    "SZALLAS_NEV": "Tímárház Panzió"
                                },
                                {
                                    "SZOBA_ID": "241",
                                    "SZOBA_SZAMA": "11",
                                    "FEROHELY": "2",
                                    "POTAGY": "0",
                                    "KLIMAS": "i",
                                    "SZALLAS_FK": "15",
                                    "SZALLAS_NEV": "Tímárház Panzió"
                                },
                                {
                                    "SZOBA_ID": "242",
                                    "SZOBA_SZAMA": "12",
                                    "FEROHELY": "2",
                                    "POTAGY": "1",
                                    "KLIMAS": "i",
                                    "SZALLAS_FK": "15",
                                    "SZALLAS_NEV": "Tímárház Panzió"
                                },
                                {
                                    "SZOBA_ID": "243",
                                    "SZOBA_SZAMA": "1",
                                    "FEROHELY": "2",
                                    "POTAGY": "0",
                                    "KLIMAS": "i",
                                    "SZALLAS_FK": "16",
                                    "SZALLAS_NEV": "Bagoly Hotel"
                                },
                                {
                                    "SZOBA_ID": "244",
                                    "SZOBA_SZAMA": "2",
                                    "FEROHELY": "2",
                                    "POTAGY": "1",
                                    "KLIMAS": "i",
                                    "SZALLAS_FK": "16",
                                    "SZALLAS_NEV": "Bagoly Hotel"
                                },
                                {
                                    "SZOBA_ID": "245",
                                    "SZOBA_SZAMA": "3",
                                    "FEROHELY": "2",
                                    "POTAGY": "1",
                                    "KLIMAS": "i",
                                    "SZALLAS_FK": "16",
                                    "SZALLAS_NEV": "Bagoly Hotel"
                                },
                                {
                                    "SZOBA_ID": "246",
                                    "SZOBA_SZAMA": "4",
                                    "FEROHELY": "2",
                                    "POTAGY": "0",
                                    "KLIMAS": "i",
                                    "SZALLAS_FK": "16",
                                    "SZALLAS_NEV": "Bagoly Hotel"
                                },
                                {
                                    "SZOBA_ID": "247",
                                    "SZOBA_SZAMA": "5",
                                    "FEROHELY": "2",
                                    "POTAGY": "0",
                                    "KLIMAS": "i",
                                    "SZALLAS_FK": "16",
                                    "SZALLAS_NEV": "Bagoly Hotel"
                                },
                                {
                                    "SZOBA_ID": "248",
                                    "SZOBA_SZAMA": "6",
                                    "FEROHELY": "2",
                                    "POTAGY": "2",
                                    "KLIMAS": "i",
                                    "SZALLAS_FK": "16",
                                    "SZALLAS_NEV": "Bagoly Hotel"
                                },
                                {
                                    "SZOBA_ID": "249",
                                    "SZOBA_SZAMA": "7",
                                    "FEROHELY": "2",
                                    "POTAGY": "1",
                                    "KLIMAS": "n",
                                    "SZALLAS_FK": "16",
                                    "SZALLAS_NEV": "Bagoly Hotel"
                                },
                                {
                                    "SZOBA_ID": "250",
                                    "SZOBA_SZAMA": "8",
                                    "FEROHELY": "3",
                                    "POTAGY": "1",
                                    "KLIMAS": "n",
                                    "SZALLAS_FK": "16",
                                    "SZALLAS_NEV": "Bagoly Hotel"
                                },
                                {
                                    "SZOBA_ID": "251",
                                    "SZOBA_SZAMA": "9",
                                    "FEROHELY": "3",
                                    "POTAGY": "0",
                                    "KLIMAS": "n",
                                    "SZALLAS_FK": "16",
                                    "SZALLAS_NEV": "Bagoly Hotel"
                                },
                                {
                                    "SZOBA_ID": "252",
                                    "SZOBA_SZAMA": "10",
                                    "FEROHELY": "3",
                                    "POTAGY": "1",
                                    "KLIMAS": "i",
                                    "SZALLAS_FK": "16",
                                    "SZALLAS_NEV": "Bagoly Hotel"
                                },
                                {
                                    "SZOBA_ID": "253",
                                    "SZOBA_SZAMA": "11",
                                    "FEROHELY": "2",
                                    "POTAGY": "0",
                                    "KLIMAS": "i",
                                    "SZALLAS_FK": "16",
                                    "SZALLAS_NEV": "Bagoly Hotel"
                                },
                                {
                                    "SZOBA_ID": "254",
                                    "SZOBA_SZAMA": "12",
                                    "FEROHELY": "2",
                                    "POTAGY": "0",
                                    "KLIMAS": "i",
                                    "SZALLAS_FK": "16",
                                    "SZALLAS_NEV": "Bagoly Hotel"
                                },
                                {
                                    "SZOBA_ID": "255",
                                    "SZOBA_SZAMA": "13",
                                    "FEROHELY": "3",
                                    "POTAGY": "0",
                                    "KLIMAS": "n",
                                    "SZALLAS_FK": "16",
                                    "SZALLAS_NEV": "Bagoly Hotel"
                                },
                                {
                                    "SZOBA_ID": "256",
                                    "SZOBA_SZAMA": "14",
                                    "FEROHELY": "3",
                                    "POTAGY": "1",
                                    "KLIMAS": "i",
                                    "SZALLAS_FK": "16",
                                    "SZALLAS_NEV": "Bagoly Hotel"
                                },
                                {
                                    "SZOBA_ID": "257",
                                    "SZOBA_SZAMA": "15",
                                    "FEROHELY": "2",
                                    "POTAGY": "0",
                                    "KLIMAS": "i",
                                    "SZALLAS_FK": "16",
                                    "SZALLAS_NEV": "Bagoly Hotel"
                                },
                                {
                                    "SZOBA_ID": "258",
                                    "SZOBA_SZAMA": "16",
                                    "FEROHELY": "2",
                                    "POTAGY": "0",
                                    "KLIMAS": "i",
                                    "SZALLAS_FK": "16",
                                    "SZALLAS_NEV": "Bagoly Hotel"
                                },
                                {
                                    "SZOBA_ID": "259",
                                    "SZOBA_SZAMA": "17",
                                    "FEROHELY": "2",
                                    "POTAGY": "0",
                                    "KLIMAS": "i",
                                    "SZALLAS_FK": "16",
                                    "SZALLAS_NEV": "Bagoly Hotel"
                                },
                                {
                                    "SZOBA_ID": "260",
                                    "SZOBA_SZAMA": "18",
                                    "FEROHELY": "2",
                                    "POTAGY": "0",
                                    "KLIMAS": "i",
                                    "SZALLAS_FK": "16",
                                    "SZALLAS_NEV": "Bagoly Hotel"
                                },
                                {
                                    "SZOBA_ID": "261",
                                    "SZOBA_SZAMA": "19",
                                    "FEROHELY": "1",
                                    "POTAGY": "1",
                                    "KLIMAS": "n",
                                    "SZALLAS_FK": "16",
                                    "SZALLAS_NEV": "Bagoly Hotel"
                                },
                                {
                                    "SZOBA_ID": "262",
                                    "SZOBA_SZAMA": "20",
                                    "FEROHELY": "1",
                                    "POTAGY": "0",
                                    "KLIMAS": "n",
                                    "SZALLAS_FK": "16",
                                    "SZALLAS_NEV": "Bagoly Hotel"
                                },
                                {
                                    "SZOBA_ID": "263",
                                    "SZOBA_SZAMA": "1",
                                    "FEROHELY": "2",
                                    "POTAGY": "2",
                                    "KLIMAS": "i",
                                    "SZALLAS_FK": "17",
                                    "SZALLAS_NEV": "Szarvas Hotel"
                                },
                                {
                                    "SZOBA_ID": "264",
                                    "SZOBA_SZAMA": "2",
                                    "FEROHELY": "3",
                                    "POTAGY": "0",
                                    "KLIMAS": "i",
                                    "SZALLAS_FK": "17",
                                    "SZALLAS_NEV": "Szarvas Hotel"
                                },
                                {
                                    "SZOBA_ID": "265",
                                    "SZOBA_SZAMA": "3",
                                    "FEROHELY": "3",
                                    "POTAGY": "0",
                                    "KLIMAS": "i",
                                    "SZALLAS_FK": "17",
                                    "SZALLAS_NEV": "Szarvas Hotel"
                                },
                                {
                                    "SZOBA_ID": "266",
                                    "SZOBA_SZAMA": "4",
                                    "FEROHELY": "2",
                                    "POTAGY": "1",
                                    "KLIMAS": "i",
                                    "SZALLAS_FK": "17",
                                    "SZALLAS_NEV": "Szarvas Hotel"
                                },
                                {
                                    "SZOBA_ID": "267",
                                    "SZOBA_SZAMA": "5",
                                    "FEROHELY": "2",
                                    "POTAGY": "1",
                                    "KLIMAS": "n",
                                    "SZALLAS_FK": "17",
                                    "SZALLAS_NEV": "Szarvas Hotel"
                                },
                                {
                                    "SZOBA_ID": "268",
                                    "SZOBA_SZAMA": "6",
                                    "FEROHELY": "2",
                                    "POTAGY": "2",
                                    "KLIMAS": "n",
                                    "SZALLAS_FK": "17",
                                    "SZALLAS_NEV": "Szarvas Hotel"
                                },
                                {
                                    "SZOBA_ID": "269",
                                    "SZOBA_SZAMA": "7",
                                    "FEROHELY": "2",
                                    "POTAGY": "1",
                                    "KLIMAS": "i",
                                    "SZALLAS_FK": "17",
                                    "SZALLAS_NEV": "Szarvas Hotel"
                                },
                                {
                                    "SZOBA_ID": "270",
                                    "SZOBA_SZAMA": "8",
                                    "FEROHELY": "3",
                                    "POTAGY": "0",
                                    "KLIMAS": "n",
                                    "SZALLAS_FK": "17",
                                    "SZALLAS_NEV": "Szarvas Hotel"
                                },
                                {
                                    "SZOBA_ID": "271",
                                    "SZOBA_SZAMA": "9",
                                    "FEROHELY": "3",
                                    "POTAGY": "0",
                                    "KLIMAS": "i",
                                    "SZALLAS_FK": "17",
                                    "SZALLAS_NEV": "Szarvas Hotel"
                                },
                                {
                                    "SZOBA_ID": "272",
                                    "SZOBA_SZAMA": "10",
                                    "FEROHELY": "3",
                                    "POTAGY": "0",
                                    "KLIMAS": "i",
                                    "SZALLAS_FK": "17",
                                    "SZALLAS_NEV": "Szarvas Hotel"
                                },
                                {
                                    "SZOBA_ID": "273",
                                    "SZOBA_SZAMA": "11",
                                    "FEROHELY": "2",
                                    "POTAGY": "1",
                                    "KLIMAS": "i",
                                    "SZALLAS_FK": "17",
                                    "SZALLAS_NEV": "Szarvas Hotel"
                                },
                                {
                                    "SZOBA_ID": "274",
                                    "SZOBA_SZAMA": "12",
                                    "FEROHELY": "3",
                                    "POTAGY": "1",
                                    "KLIMAS": "i",
                                    "SZALLAS_FK": "17",
                                    "SZALLAS_NEV": "Szarvas Hotel"
                                },
                                {
                                    "SZOBA_ID": "275",
                                    "SZOBA_SZAMA": "13",
                                    "FEROHELY": "2",
                                    "POTAGY": "1",
                                    "KLIMAS": "n",
                                    "SZALLAS_FK": "17",
                                    "SZALLAS_NEV": "Szarvas Hotel"
                                },
                                {
                                    "SZOBA_ID": "276",
                                    "SZOBA_SZAMA": "14",
                                    "FEROHELY": "2",
                                    "POTAGY": "0",
                                    "KLIMAS": "i",
                                    "SZALLAS_FK": "17",
                                    "SZALLAS_NEV": "Szarvas Hotel"
                                },
                                {
                                    "SZOBA_ID": "277",
                                    "SZOBA_SZAMA": "15",
                                    "FEROHELY": "2",
                                    "POTAGY": "0",
                                    "KLIMAS": "i",
                                    "SZALLAS_FK": "17",
                                    "SZALLAS_NEV": "Szarvas Hotel"
                                },
                                {
                                    "SZOBA_ID": "278",
                                    "SZOBA_SZAMA": "1",
                                    "FEROHELY": "3",
                                    "POTAGY": "1",
                                    "KLIMAS": "i",
                                    "SZALLAS_FK": "18",
                                    "SZALLAS_NEV": "Fortuna Apartman"
                                },
                                {
                                    "SZOBA_ID": "279",
                                    "SZOBA_SZAMA": "2",
                                    "FEROHELY": "2",
                                    "POTAGY": "1",
                                    "KLIMAS": "i",
                                    "SZALLAS_FK": "18",
                                    "SZALLAS_NEV": "Fortuna Apartman"
                                },
                                {
                                    "SZOBA_ID": "280",
                                    "SZOBA_SZAMA": "3",
                                    "FEROHELY": "3",
                                    "POTAGY": "0",
                                    "KLIMAS": "n",
                                    "SZALLAS_FK": "18",
                                    "SZALLAS_NEV": "Fortuna Apartman"
                                },
                                {
                                    "SZOBA_ID": "281",
                                    "SZOBA_SZAMA": "1",
                                    "FEROHELY": "2",
                                    "POTAGY": "0",
                                    "KLIMAS": "n",
                                    "SZALLAS_FK": "19",
                                    "SZALLAS_NEV": "Nyárfás Vendégház"
                                },
                                {
                                    "SZOBA_ID": "282",
                                    "SZOBA_SZAMA": "2",
                                    "FEROHELY": "2",
                                    "POTAGY": "0",
                                    "KLIMAS": "i",
                                    "SZALLAS_FK": "19",
                                    "SZALLAS_NEV": "Nyárfás Vendégház"
                                },
                                {
                                    "SZOBA_ID": "283",
                                    "SZOBA_SZAMA": "3",
                                    "FEROHELY": "2",
                                    "POTAGY": "0",
                                    "KLIMAS": "n",
                                    "SZALLAS_FK": "19",
                                    "SZALLAS_NEV": "Nyárfás Vendégház"
                                },
                                {
                                    "SZOBA_ID": "284",
                                    "SZOBA_SZAMA": "4",
                                    "FEROHELY": "2",
                                    "POTAGY": "2",
                                    "KLIMAS": "i",
                                    "SZALLAS_FK": "19",
                                    "SZALLAS_NEV": "Nyárfás Vendégház"
                                },
                                {
                                    "SZOBA_ID": "285",
                                    "SZOBA_SZAMA": "1",
                                    "FEROHELY": "2",
                                    "POTAGY": "1",
                                    "KLIMAS": "i",
                                    "SZALLAS_FK": "20",
                                    "SZALLAS_NEV": "Kollégium"
                                },
                                {
                                    "SZOBA_ID": "286",
                                    "SZOBA_SZAMA": "2",
                                    "FEROHELY": "3",
                                    "POTAGY": "0",
                                    "KLIMAS": "i",
                                    "SZALLAS_FK": "20",
                                    "SZALLAS_NEV": "Kollégium"
                                },
                                {
                                    "SZOBA_ID": "287",
                                    "SZOBA_SZAMA": "3",
                                    "FEROHELY": "3",
                                    "POTAGY": "0",
                                    "KLIMAS": "n",
                                    "SZALLAS_FK": "20",
                                    "SZALLAS_NEV": "Kollégium"
                                },
                                {
                                    "SZOBA_ID": "288",
                                    "SZOBA_SZAMA": "4",
                                    "FEROHELY": "2",
                                    "POTAGY": "1",
                                    "KLIMAS": "i",
                                    "SZALLAS_FK": "20",
                                    "SZALLAS_NEV": "Kollégium"
                                },
                                {
                                    "SZOBA_ID": "289",
                                    "SZOBA_SZAMA": "5",
                                    "FEROHELY": "3",
                                    "POTAGY": "0",
                                    "KLIMAS": "i",
                                    "SZALLAS_FK": "20",
                                    "SZALLAS_NEV": "Kollégium"
                                },
                                {
                                    "SZOBA_ID": "290",
                                    "SZOBA_SZAMA": "6",
                                    "FEROHELY": "2",
                                    "POTAGY": "1",
                                    "KLIMAS": "i",
                                    "SZALLAS_FK": "20",
                                    "SZALLAS_NEV": "Kollégium"
                                },
                                {
                                    "SZOBA_ID": "291",
                                    "SZOBA_SZAMA": "7",
                                    "FEROHELY": "2",
                                    "POTAGY": "1",
                                    "KLIMAS": "i",
                                    "SZALLAS_FK": "20",
                                    "SZALLAS_NEV": "Kollégium"
                                },
                                {
                                    "SZOBA_ID": "292",
                                    "SZOBA_SZAMA": "8",
                                    "FEROHELY": "2",
                                    "POTAGY": "1",
                                    "KLIMAS": "i",
                                    "SZALLAS_FK": "20",
                                    "SZALLAS_NEV": "Kollégium"
                                },
                                {
                                    "SZOBA_ID": "293",
                                    "SZOBA_SZAMA": "9",
                                    "FEROHELY": "2",
                                    "POTAGY": "1",
                                    "KLIMAS": "i",
                                    "SZALLAS_FK": "20",
                                    "SZALLAS_NEV": "Kollégium"
                                },
                                {
                                    "SZOBA_ID": "294",
                                    "SZOBA_SZAMA": "10",
                                    "FEROHELY": "3",
                                    "POTAGY": "0",
                                    "KLIMAS": "i",
                                    "SZALLAS_FK": "20",
                                    "SZALLAS_NEV": "Kollégium"
                                }
                            ]
                        },
                        "text/html": [
                            "<table>",
                            "<tr><th>SZOBA_ID</th><th>SZOBA_SZAMA</th><th>FEROHELY</th><th>POTAGY</th><th>KLIMAS</th><th>SZALLAS_FK</th><th>SZALLAS_NEV</th></tr>",
                            "<tr><td>159</td><td>25</td><td>3</td><td>1</td><td>n</td><td>10</td><td>Lagúna Hotel</td></tr>",
                            "<tr><td>199</td><td>35</td><td>3</td><td>2</td><td>i</td><td>12</td><td>Gold Hotel</td></tr>",
                            "<tr><td>200</td><td>36</td><td>2</td><td>0</td><td>i</td><td>12</td><td>Gold Hotel</td></tr>",
                            "<tr><td>201</td><td>37</td><td>3</td><td>1</td><td>n</td><td>12</td><td>Gold Hotel</td></tr>",
                            "<tr><td>202</td><td>38</td><td>3</td><td>1</td><td>i</td><td>12</td><td>Gold Hotel</td></tr>",
                            "<tr><td>203</td><td>39</td><td>3</td><td>0</td><td>i</td><td>12</td><td>Gold Hotel</td></tr>",
                            "<tr><td>204</td><td>40</td><td>3</td><td>1</td><td>i</td><td>12</td><td>Gold Hotel</td></tr>",
                            "<tr><td>205</td><td>41</td><td>3</td><td>0</td><td>i</td><td>12</td><td>Gold Hotel</td></tr>",
                            "<tr><td>206</td><td>42</td><td>2</td><td>1</td><td>i</td><td>12</td><td>Gold Hotel</td></tr>",
                            "<tr><td>207</td><td>43</td><td>2</td><td>1</td><td>i</td><td>12</td><td>Gold Hotel</td></tr>",
                            "<tr><td>208</td><td>44</td><td>2</td><td>1</td><td>i</td><td>12</td><td>Gold Hotel</td></tr>",
                            "<tr><td>209</td><td>45</td><td>3</td><td>2</td><td>n</td><td>12</td><td>Gold Hotel</td></tr>",
                            "<tr><td>210</td><td>46</td><td>2</td><td>0</td><td>i</td><td>12</td><td>Gold Hotel</td></tr>",
                            "<tr><td>211</td><td>47</td><td>2</td><td>1</td><td>i</td><td>12</td><td>Gold Hotel</td></tr>",
                            "<tr><td>212</td><td>48</td><td>3</td><td>0</td><td>n</td><td>12</td><td>Gold Hotel</td></tr>",
                            "<tr><td>213</td><td>49</td><td>3</td><td>0</td><td>i</td><td>12</td><td>Gold Hotel</td></tr>",
                            "<tr><td>214</td><td>50</td><td>3</td><td>1</td><td>i</td><td>12</td><td>Gold Hotel</td></tr>",
                            "<tr><td>215</td><td>1</td><td>2</td><td>1</td><td>i</td><td>13</td><td>Riviéra Panzió</td></tr>",
                            "<tr><td>216</td><td>2</td><td>3</td><td>1</td><td>i</td><td>13</td><td>Riviéra Panzió</td></tr>",
                            "<tr><td>217</td><td>3</td><td>2</td><td>1</td><td>n</td><td>13</td><td>Riviéra Panzió</td></tr>",
                            "<tr><td>218</td><td>4</td><td>3</td><td>0</td><td>i</td><td>13</td><td>Riviéra Panzió</td></tr>",
                            "<tr><td>219</td><td>5</td><td>2</td><td>0</td><td>n</td><td>13</td><td>Riviéra Panzió</td></tr>",
                            "<tr><td>220</td><td>6</td><td>3</td><td>0</td><td>i</td><td>13</td><td>Riviéra Panzió</td></tr>",
                            "<tr><td>221</td><td>7</td><td>3</td><td>0</td><td>i</td><td>13</td><td>Riviéra Panzió</td></tr>",
                            "<tr><td>222</td><td>8</td><td>2</td><td>0</td><td>n</td><td>13</td><td>Riviéra Panzió</td></tr>",
                            "<tr><td>223</td><td>9</td><td>2</td><td>1</td><td>i</td><td>13</td><td>Riviéra Panzió</td></tr>",
                            "<tr><td>224</td><td>10</td><td>2</td><td>0</td><td>i</td><td>13</td><td>Riviéra Panzió</td></tr>",
                            "<tr><td>225</td><td>11</td><td>2</td><td>1</td><td>i</td><td>13</td><td>Riviéra Panzió</td></tr>",
                            "<tr><td>226</td><td>12</td><td>3</td><td>1</td><td>n</td><td>13</td><td>Riviéra Panzió</td></tr>",
                            "<tr><td>227</td><td>1</td><td>2</td><td>1</td><td>i</td><td>14</td><td>Nyárfás Vendégház</td></tr>",
                            "<tr><td>228</td><td>2</td><td>3</td><td>0</td><td>i</td><td>14</td><td>Nyárfás Vendégház</td></tr>",
                            "<tr><td>229</td><td>3</td><td>2</td><td>0</td><td>i</td><td>14</td><td>Nyárfás Vendégház</td></tr>",
                            "<tr><td>230</td><td>4</td><td>3</td><td>2</td><td>i</td><td>14</td><td>Nyárfás Vendégház</td></tr>",
                            "<tr><td>231</td><td>1</td><td>2</td><td>0</td><td>i</td><td>15</td><td>Tímárház Panzió</td></tr>",
                            "<tr><td>232</td><td>2</td><td>2</td><td>0</td><td>i</td><td>15</td><td>Tímárház Panzió</td></tr>",
                            "<tr><td>233</td><td>3</td><td>3</td><td>0</td><td>n</td><td>15</td><td>Tímárház Panzió</td></tr>",
                            "<tr><td>234</td><td>4</td><td>3</td><td>1</td><td>i</td><td>15</td><td>Tímárház Panzió</td></tr>",
                            "<tr><td>235</td><td>5</td><td>3</td><td>0</td><td>i</td><td>15</td><td>Tímárház Panzió</td></tr>",
                            "<tr><td>236</td><td>6</td><td>3</td><td>1</td><td>n</td><td>15</td><td>Tímárház Panzió</td></tr>",
                            "<tr><td>237</td><td>7</td><td>2</td><td>2</td><td>n</td><td>15</td><td>Tímárház Panzió</td></tr>",
                            "<tr><td>238</td><td>8</td><td>3</td><td>1</td><td>i</td><td>15</td><td>Tímárház Panzió</td></tr>",
                            "<tr><td>239</td><td>9</td><td>2</td><td>2</td><td>i</td><td>15</td><td>Tímárház Panzió</td></tr>",
                            "<tr><td>240</td><td>10</td><td>3</td><td>0</td><td>i</td><td>15</td><td>Tímárház Panzió</td></tr>",
                            "<tr><td>241</td><td>11</td><td>2</td><td>0</td><td>i</td><td>15</td><td>Tímárház Panzió</td></tr>",
                            "<tr><td>242</td><td>12</td><td>2</td><td>1</td><td>i</td><td>15</td><td>Tímárház Panzió</td></tr>",
                            "<tr><td>243</td><td>1</td><td>2</td><td>0</td><td>i</td><td>16</td><td>Bagoly Hotel</td></tr>",
                            "<tr><td>244</td><td>2</td><td>2</td><td>1</td><td>i</td><td>16</td><td>Bagoly Hotel</td></tr>",
                            "<tr><td>245</td><td>3</td><td>2</td><td>1</td><td>i</td><td>16</td><td>Bagoly Hotel</td></tr>",
                            "<tr><td>246</td><td>4</td><td>2</td><td>0</td><td>i</td><td>16</td><td>Bagoly Hotel</td></tr>",
                            "<tr><td>247</td><td>5</td><td>2</td><td>0</td><td>i</td><td>16</td><td>Bagoly Hotel</td></tr>",
                            "<tr><td>248</td><td>6</td><td>2</td><td>2</td><td>i</td><td>16</td><td>Bagoly Hotel</td></tr>",
                            "<tr><td>249</td><td>7</td><td>2</td><td>1</td><td>n</td><td>16</td><td>Bagoly Hotel</td></tr>",
                            "<tr><td>250</td><td>8</td><td>3</td><td>1</td><td>n</td><td>16</td><td>Bagoly Hotel</td></tr>",
                            "<tr><td>251</td><td>9</td><td>3</td><td>0</td><td>n</td><td>16</td><td>Bagoly Hotel</td></tr>",
                            "<tr><td>252</td><td>10</td><td>3</td><td>1</td><td>i</td><td>16</td><td>Bagoly Hotel</td></tr>",
                            "<tr><td>253</td><td>11</td><td>2</td><td>0</td><td>i</td><td>16</td><td>Bagoly Hotel</td></tr>",
                            "<tr><td>254</td><td>12</td><td>2</td><td>0</td><td>i</td><td>16</td><td>Bagoly Hotel</td></tr>",
                            "<tr><td>255</td><td>13</td><td>3</td><td>0</td><td>n</td><td>16</td><td>Bagoly Hotel</td></tr>",
                            "<tr><td>256</td><td>14</td><td>3</td><td>1</td><td>i</td><td>16</td><td>Bagoly Hotel</td></tr>",
                            "<tr><td>257</td><td>15</td><td>2</td><td>0</td><td>i</td><td>16</td><td>Bagoly Hotel</td></tr>",
                            "<tr><td>258</td><td>16</td><td>2</td><td>0</td><td>i</td><td>16</td><td>Bagoly Hotel</td></tr>",
                            "<tr><td>259</td><td>17</td><td>2</td><td>0</td><td>i</td><td>16</td><td>Bagoly Hotel</td></tr>",
                            "<tr><td>260</td><td>18</td><td>2</td><td>0</td><td>i</td><td>16</td><td>Bagoly Hotel</td></tr>",
                            "<tr><td>261</td><td>19</td><td>1</td><td>1</td><td>n</td><td>16</td><td>Bagoly Hotel</td></tr>",
                            "<tr><td>262</td><td>20</td><td>1</td><td>0</td><td>n</td><td>16</td><td>Bagoly Hotel</td></tr>",
                            "<tr><td>263</td><td>1</td><td>2</td><td>2</td><td>i</td><td>17</td><td>Szarvas Hotel</td></tr>",
                            "<tr><td>264</td><td>2</td><td>3</td><td>0</td><td>i</td><td>17</td><td>Szarvas Hotel</td></tr>",
                            "<tr><td>265</td><td>3</td><td>3</td><td>0</td><td>i</td><td>17</td><td>Szarvas Hotel</td></tr>",
                            "<tr><td>266</td><td>4</td><td>2</td><td>1</td><td>i</td><td>17</td><td>Szarvas Hotel</td></tr>",
                            "<tr><td>267</td><td>5</td><td>2</td><td>1</td><td>n</td><td>17</td><td>Szarvas Hotel</td></tr>",
                            "<tr><td>268</td><td>6</td><td>2</td><td>2</td><td>n</td><td>17</td><td>Szarvas Hotel</td></tr>",
                            "<tr><td>269</td><td>7</td><td>2</td><td>1</td><td>i</td><td>17</td><td>Szarvas Hotel</td></tr>",
                            "<tr><td>270</td><td>8</td><td>3</td><td>0</td><td>n</td><td>17</td><td>Szarvas Hotel</td></tr>",
                            "<tr><td>271</td><td>9</td><td>3</td><td>0</td><td>i</td><td>17</td><td>Szarvas Hotel</td></tr>",
                            "<tr><td>272</td><td>10</td><td>3</td><td>0</td><td>i</td><td>17</td><td>Szarvas Hotel</td></tr>",
                            "<tr><td>273</td><td>11</td><td>2</td><td>1</td><td>i</td><td>17</td><td>Szarvas Hotel</td></tr>",
                            "<tr><td>274</td><td>12</td><td>3</td><td>1</td><td>i</td><td>17</td><td>Szarvas Hotel</td></tr>",
                            "<tr><td>275</td><td>13</td><td>2</td><td>1</td><td>n</td><td>17</td><td>Szarvas Hotel</td></tr>",
                            "<tr><td>276</td><td>14</td><td>2</td><td>0</td><td>i</td><td>17</td><td>Szarvas Hotel</td></tr>",
                            "<tr><td>277</td><td>15</td><td>2</td><td>0</td><td>i</td><td>17</td><td>Szarvas Hotel</td></tr>",
                            "<tr><td>278</td><td>1</td><td>3</td><td>1</td><td>i</td><td>18</td><td>Fortuna Apartman</td></tr>",
                            "<tr><td>279</td><td>2</td><td>2</td><td>1</td><td>i</td><td>18</td><td>Fortuna Apartman</td></tr>",
                            "<tr><td>280</td><td>3</td><td>3</td><td>0</td><td>n</td><td>18</td><td>Fortuna Apartman</td></tr>",
                            "<tr><td>281</td><td>1</td><td>2</td><td>0</td><td>n</td><td>19</td><td>Nyárfás Vendégház</td></tr>",
                            "<tr><td>282</td><td>2</td><td>2</td><td>0</td><td>i</td><td>19</td><td>Nyárfás Vendégház</td></tr>",
                            "<tr><td>283</td><td>3</td><td>2</td><td>0</td><td>n</td><td>19</td><td>Nyárfás Vendégház</td></tr>",
                            "<tr><td>284</td><td>4</td><td>2</td><td>2</td><td>i</td><td>19</td><td>Nyárfás Vendégház</td></tr>",
                            "<tr><td>285</td><td>1</td><td>2</td><td>1</td><td>i</td><td>20</td><td>Kollégium</td></tr>",
                            "<tr><td>286</td><td>2</td><td>3</td><td>0</td><td>i</td><td>20</td><td>Kollégium</td></tr>",
                            "<tr><td>287</td><td>3</td><td>3</td><td>0</td><td>n</td><td>20</td><td>Kollégium</td></tr>",
                            "<tr><td>288</td><td>4</td><td>2</td><td>1</td><td>i</td><td>20</td><td>Kollégium</td></tr>",
                            "<tr><td>289</td><td>5</td><td>3</td><td>0</td><td>i</td><td>20</td><td>Kollégium</td></tr>",
                            "<tr><td>290</td><td>6</td><td>2</td><td>1</td><td>i</td><td>20</td><td>Kollégium</td></tr>",
                            "<tr><td>291</td><td>7</td><td>2</td><td>1</td><td>i</td><td>20</td><td>Kollégium</td></tr>",
                            "<tr><td>292</td><td>8</td><td>2</td><td>1</td><td>i</td><td>20</td><td>Kollégium</td></tr>",
                            "<tr><td>293</td><td>9</td><td>2</td><td>1</td><td>i</td><td>20</td><td>Kollégium</td></tr>",
                            "<tr><td>294</td><td>10</td><td>3</td><td>0</td><td>i</td><td>20</td><td>Kollégium</td></tr>",
                            "</table>"
                        ]
                    }
                }
            ],
            "execution_count": 25
        }
    ]
}