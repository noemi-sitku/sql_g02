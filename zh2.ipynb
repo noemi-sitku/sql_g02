{
    "metadata": {
        "kernelspec": {
            "name": "SQL",
            "display_name": "SQL",
            "language": "sql"
        },
        "language_info": {
            "name": "sql",
            "version": ""
        }
    },
    "nbformat_minor": 2,
    "nbformat": 4,
    "cells": [
        {
            "cell_type": "markdown",
            "source": [
                "Listázzuk a foglalások számát szobánként, azon belül a foglalás éve szerint csoportosítva!\n",
                "\n",
                "- Az évnél a Mettől oszlopot használjuk\n",
                "- Jelenítsük meg a részösszegeket és a végösszeget is úgy, hogy ne jelenjen meg minden Oszlop/NULL kombináció!\n",
                "- A részösszegeket jelöljük megfelelően, pl. Részösszeg vagy Szoba összesen"
            ],
            "metadata": {
                "azdata_cell_guid": "e8a785c7-b8a4-4585-820b-6bef31ab9531"
            },
            "attachments": {}
        },
        {
            "cell_type": "code",
            "source": [
                "SELECT distinct iif(SZOBA_FK is null and YEAR(mettol) is null, 'Összesen', SZOBA_FK), iif(YEAR(METTOL) is null, 'Részösszeg', YEAR(METTOL)), COUNT(*)\r\n",
                "FROM Foglalas\r\n",
                "group by rollup (SZOBA_FK, YEAR(METTOL))"
            ],
            "metadata": {
                "azdata_cell_guid": "bbfa690e-d0f5-4340-8dde-578bf678537d",
                "language": "sql"
            },
            "outputs": [
                {
                    "output_type": "display_data",
                    "data": {
                        "text/html": "(513 rows affected)"
                    },
                    "metadata": {}
                },
                {
                    "output_type": "display_data",
                    "data": {
                        "text/html": "Total execution time: 00:00:00.053"
                    },
                    "metadata": {}
                },
                {
                    "output_type": "execute_result",
                    "metadata": {},
                    "execution_count": 1,
                    "data": {
                        "application/vnd.dataresource+json": {
                            "schema": {
                                "fields": [
                                    {
                                        "name": "SZOBA_FK"
                                    },
                                    {
                                        "name": "(No column name)"
                                    },
                                    {
                                        "name": "(No column name)"
                                    }
                                ]
                            },
                            "data": [
                                {
                                    "SZOBA_FK": "NULL",
                                    "(No column name)": "1027"
                                },
                                {
                                    "SZOBA_FK": "1",
                                    "(No column name)": "8"
                                },
                                {
                                    "SZOBA_FK": "1",
                                    "(No column name)": "8"
                                },
                                {
                                    "SZOBA_FK": "2",
                                    "(No column name)": "4"
                                },
                                {
                                    "SZOBA_FK": "2",
                                    "(No column name)": "4"
                                },
                                {
                                    "SZOBA_FK": "3",
                                    "(No column name)": "8"
                                },
                                {
                                    "SZOBA_FK": "3",
                                    "(No column name)": "6"
                                },
                                {
                                    "SZOBA_FK": "3",
                                    "(No column name)": "2"
                                },
                                {
                                    "SZOBA_FK": "4",
                                    "(No column name)": "6"
                                },
                                {
                                    "SZOBA_FK": "4",
                                    "(No column name)": "5"
                                },
                                {
                                    "SZOBA_FK": "4",
                                    "(No column name)": "1"
                                },
                                {
                                    "SZOBA_FK": "5",
                                    "(No column name)": "4"
                                },
                                {
                                    "SZOBA_FK": "5",
                                    "(No column name)": "4"
                                },
                                {
                                    "SZOBA_FK": "6",
                                    "(No column name)": "6"
                                },
                                {
                                    "SZOBA_FK": "6",
                                    "(No column name)": "6"
                                },
                                {
                                    "SZOBA_FK": "7",
                                    "(No column name)": "6"
                                },
                                {
                                    "SZOBA_FK": "7",
                                    "(No column name)": "6"
                                },
                                {
                                    "SZOBA_FK": "8",
                                    "(No column name)": "5"
                                },
                                {
                                    "SZOBA_FK": "8",
                                    "(No column name)": "5"
                                },
                                {
                                    "SZOBA_FK": "9",
                                    "(No column name)": "6"
                                },
                                {
                                    "SZOBA_FK": "9",
                                    "(No column name)": "4"
                                },
                                {
                                    "SZOBA_FK": "9",
                                    "(No column name)": "2"
                                },
                                {
                                    "SZOBA_FK": "10",
                                    "(No column name)": "4"
                                },
                                {
                                    "SZOBA_FK": "10",
                                    "(No column name)": "4"
                                },
                                {
                                    "SZOBA_FK": "11",
                                    "(No column name)": "4"
                                },
                                {
                                    "SZOBA_FK": "11",
                                    "(No column name)": "3"
                                },
                                {
                                    "SZOBA_FK": "11",
                                    "(No column name)": "1"
                                },
                                {
                                    "SZOBA_FK": "12",
                                    "(No column name)": "9"
                                },
                                {
                                    "SZOBA_FK": "12",
                                    "(No column name)": "8"
                                },
                                {
                                    "SZOBA_FK": "12",
                                    "(No column name)": "1"
                                },
                                {
                                    "SZOBA_FK": "13",
                                    "(No column name)": "4"
                                },
                                {
                                    "SZOBA_FK": "13",
                                    "(No column name)": "3"
                                },
                                {
                                    "SZOBA_FK": "13",
                                    "(No column name)": "1"
                                },
                                {
                                    "SZOBA_FK": "14",
                                    "(No column name)": "3"
                                },
                                {
                                    "SZOBA_FK": "14",
                                    "(No column name)": "2"
                                },
                                {
                                    "SZOBA_FK": "14",
                                    "(No column name)": "1"
                                },
                                {
                                    "SZOBA_FK": "15",
                                    "(No column name)": "6"
                                },
                                {
                                    "SZOBA_FK": "15",
                                    "(No column name)": "4"
                                },
                                {
                                    "SZOBA_FK": "15",
                                    "(No column name)": "2"
                                },
                                {
                                    "SZOBA_FK": "16",
                                    "(No column name)": "5"
                                },
                                {
                                    "SZOBA_FK": "16",
                                    "(No column name)": "4"
                                },
                                {
                                    "SZOBA_FK": "16",
                                    "(No column name)": "1"
                                },
                                {
                                    "SZOBA_FK": "17",
                                    "(No column name)": "6"
                                },
                                {
                                    "SZOBA_FK": "17",
                                    "(No column name)": "5"
                                },
                                {
                                    "SZOBA_FK": "17",
                                    "(No column name)": "1"
                                },
                                {
                                    "SZOBA_FK": "18",
                                    "(No column name)": "6"
                                },
                                {
                                    "SZOBA_FK": "18",
                                    "(No column name)": "5"
                                },
                                {
                                    "SZOBA_FK": "18",
                                    "(No column name)": "1"
                                },
                                {
                                    "SZOBA_FK": "19",
                                    "(No column name)": "6"
                                },
                                {
                                    "SZOBA_FK": "19",
                                    "(No column name)": "5"
                                },
                                {
                                    "SZOBA_FK": "19",
                                    "(No column name)": "1"
                                },
                                {
                                    "SZOBA_FK": "20",
                                    "(No column name)": "5"
                                },
                                {
                                    "SZOBA_FK": "20",
                                    "(No column name)": "5"
                                },
                                {
                                    "SZOBA_FK": "21",
                                    "(No column name)": "4"
                                },
                                {
                                    "SZOBA_FK": "21",
                                    "(No column name)": "4"
                                },
                                {
                                    "SZOBA_FK": "22",
                                    "(No column name)": "6"
                                },
                                {
                                    "SZOBA_FK": "22",
                                    "(No column name)": "6"
                                },
                                {
                                    "SZOBA_FK": "23",
                                    "(No column name)": "3"
                                },
                                {
                                    "SZOBA_FK": "23",
                                    "(No column name)": "3"
                                },
                                {
                                    "SZOBA_FK": "24",
                                    "(No column name)": "3"
                                },
                                {
                                    "SZOBA_FK": "24",
                                    "(No column name)": "2"
                                },
                                {
                                    "SZOBA_FK": "24",
                                    "(No column name)": "1"
                                },
                                {
                                    "SZOBA_FK": "25",
                                    "(No column name)": "2"
                                },
                                {
                                    "SZOBA_FK": "25",
                                    "(No column name)": "2"
                                },
                                {
                                    "SZOBA_FK": "26",
                                    "(No column name)": "2"
                                },
                                {
                                    "SZOBA_FK": "26",
                                    "(No column name)": "2"
                                },
                                {
                                    "SZOBA_FK": "27",
                                    "(No column name)": "7"
                                },
                                {
                                    "SZOBA_FK": "27",
                                    "(No column name)": "6"
                                },
                                {
                                    "SZOBA_FK": "27",
                                    "(No column name)": "1"
                                },
                                {
                                    "SZOBA_FK": "28",
                                    "(No column name)": "6"
                                },
                                {
                                    "SZOBA_FK": "28",
                                    "(No column name)": "5"
                                },
                                {
                                    "SZOBA_FK": "28",
                                    "(No column name)": "1"
                                },
                                {
                                    "SZOBA_FK": "29",
                                    "(No column name)": "6"
                                },
                                {
                                    "SZOBA_FK": "29",
                                    "(No column name)": "5"
                                },
                                {
                                    "SZOBA_FK": "29",
                                    "(No column name)": "1"
                                },
                                {
                                    "SZOBA_FK": "30",
                                    "(No column name)": "3"
                                },
                                {
                                    "SZOBA_FK": "30",
                                    "(No column name)": "3"
                                },
                                {
                                    "SZOBA_FK": "31",
                                    "(No column name)": "3"
                                },
                                {
                                    "SZOBA_FK": "31",
                                    "(No column name)": "3"
                                },
                                {
                                    "SZOBA_FK": "32",
                                    "(No column name)": "1"
                                },
                                {
                                    "SZOBA_FK": "32",
                                    "(No column name)": "1"
                                },
                                {
                                    "SZOBA_FK": "33",
                                    "(No column name)": "6"
                                },
                                {
                                    "SZOBA_FK": "33",
                                    "(No column name)": "6"
                                },
                                {
                                    "SZOBA_FK": "34",
                                    "(No column name)": "4"
                                },
                                {
                                    "SZOBA_FK": "34",
                                    "(No column name)": "4"
                                },
                                {
                                    "SZOBA_FK": "35",
                                    "(No column name)": "9"
                                },
                                {
                                    "SZOBA_FK": "35",
                                    "(No column name)": "6"
                                },
                                {
                                    "SZOBA_FK": "35",
                                    "(No column name)": "3"
                                },
                                {
                                    "SZOBA_FK": "36",
                                    "(No column name)": "6"
                                },
                                {
                                    "SZOBA_FK": "36",
                                    "(No column name)": "6"
                                },
                                {
                                    "SZOBA_FK": "37",
                                    "(No column name)": "3"
                                },
                                {
                                    "SZOBA_FK": "37",
                                    "(No column name)": "3"
                                },
                                {
                                    "SZOBA_FK": "38",
                                    "(No column name)": "8"
                                },
                                {
                                    "SZOBA_FK": "38",
                                    "(No column name)": "5"
                                },
                                {
                                    "SZOBA_FK": "38",
                                    "(No column name)": "3"
                                },
                                {
                                    "SZOBA_FK": "39",
                                    "(No column name)": "7"
                                },
                                {
                                    "SZOBA_FK": "39",
                                    "(No column name)": "4"
                                },
                                {
                                    "SZOBA_FK": "39",
                                    "(No column name)": "3"
                                },
                                {
                                    "SZOBA_FK": "40",
                                    "(No column name)": "4"
                                },
                                {
                                    "SZOBA_FK": "40",
                                    "(No column name)": "4"
                                },
                                {
                                    "SZOBA_FK": "41",
                                    "(No column name)": "2"
                                },
                                {
                                    "SZOBA_FK": "41",
                                    "(No column name)": "2"
                                },
                                {
                                    "SZOBA_FK": "42",
                                    "(No column name)": "6"
                                },
                                {
                                    "SZOBA_FK": "42",
                                    "(No column name)": "5"
                                },
                                {
                                    "SZOBA_FK": "42",
                                    "(No column name)": "1"
                                },
                                {
                                    "SZOBA_FK": "43",
                                    "(No column name)": "8"
                                },
                                {
                                    "SZOBA_FK": "43",
                                    "(No column name)": "6"
                                },
                                {
                                    "SZOBA_FK": "43",
                                    "(No column name)": "2"
                                },
                                {
                                    "SZOBA_FK": "44",
                                    "(No column name)": "6"
                                },
                                {
                                    "SZOBA_FK": "44",
                                    "(No column name)": "4"
                                },
                                {
                                    "SZOBA_FK": "44",
                                    "(No column name)": "2"
                                },
                                {
                                    "SZOBA_FK": "45",
                                    "(No column name)": "5"
                                },
                                {
                                    "SZOBA_FK": "45",
                                    "(No column name)": "5"
                                },
                                {
                                    "SZOBA_FK": "46",
                                    "(No column name)": "4"
                                },
                                {
                                    "SZOBA_FK": "46",
                                    "(No column name)": "3"
                                },
                                {
                                    "SZOBA_FK": "46",
                                    "(No column name)": "1"
                                },
                                {
                                    "SZOBA_FK": "47",
                                    "(No column name)": "2"
                                },
                                {
                                    "SZOBA_FK": "47",
                                    "(No column name)": "2"
                                },
                                {
                                    "SZOBA_FK": "48",
                                    "(No column name)": "9"
                                },
                                {
                                    "SZOBA_FK": "48",
                                    "(No column name)": "6"
                                },
                                {
                                    "SZOBA_FK": "48",
                                    "(No column name)": "3"
                                },
                                {
                                    "SZOBA_FK": "49",
                                    "(No column name)": "7"
                                },
                                {
                                    "SZOBA_FK": "49",
                                    "(No column name)": "6"
                                },
                                {
                                    "SZOBA_FK": "49",
                                    "(No column name)": "1"
                                },
                                {
                                    "SZOBA_FK": "50",
                                    "(No column name)": "4"
                                },
                                {
                                    "SZOBA_FK": "50",
                                    "(No column name)": "4"
                                },
                                {
                                    "SZOBA_FK": "51",
                                    "(No column name)": "5"
                                },
                                {
                                    "SZOBA_FK": "51",
                                    "(No column name)": "3"
                                },
                                {
                                    "SZOBA_FK": "51",
                                    "(No column name)": "2"
                                },
                                {
                                    "SZOBA_FK": "52",
                                    "(No column name)": "5"
                                },
                                {
                                    "SZOBA_FK": "52",
                                    "(No column name)": "3"
                                },
                                {
                                    "SZOBA_FK": "52",
                                    "(No column name)": "2"
                                },
                                {
                                    "SZOBA_FK": "53",
                                    "(No column name)": "2"
                                },
                                {
                                    "SZOBA_FK": "53",
                                    "(No column name)": "2"
                                },
                                {
                                    "SZOBA_FK": "54",
                                    "(No column name)": "6"
                                },
                                {
                                    "SZOBA_FK": "54",
                                    "(No column name)": "6"
                                },
                                {
                                    "SZOBA_FK": "55",
                                    "(No column name)": "8"
                                },
                                {
                                    "SZOBA_FK": "55",
                                    "(No column name)": "6"
                                },
                                {
                                    "SZOBA_FK": "55",
                                    "(No column name)": "2"
                                },
                                {
                                    "SZOBA_FK": "56",
                                    "(No column name)": "2"
                                },
                                {
                                    "SZOBA_FK": "56",
                                    "(No column name)": "2"
                                },
                                {
                                    "SZOBA_FK": "57",
                                    "(No column name)": "4"
                                },
                                {
                                    "SZOBA_FK": "57",
                                    "(No column name)": "2"
                                },
                                {
                                    "SZOBA_FK": "57",
                                    "(No column name)": "2"
                                },
                                {
                                    "SZOBA_FK": "58",
                                    "(No column name)": "13"
                                },
                                {
                                    "SZOBA_FK": "58",
                                    "(No column name)": "12"
                                },
                                {
                                    "SZOBA_FK": "58",
                                    "(No column name)": "1"
                                },
                                {
                                    "SZOBA_FK": "59",
                                    "(No column name)": "7"
                                },
                                {
                                    "SZOBA_FK": "59",
                                    "(No column name)": "6"
                                },
                                {
                                    "SZOBA_FK": "59",
                                    "(No column name)": "1"
                                },
                                {
                                    "SZOBA_FK": "60",
                                    "(No column name)": "1"
                                },
                                {
                                    "SZOBA_FK": "60",
                                    "(No column name)": "1"
                                },
                                {
                                    "SZOBA_FK": "61",
                                    "(No column name)": "5"
                                },
                                {
                                    "SZOBA_FK": "61",
                                    "(No column name)": "4"
                                },
                                {
                                    "SZOBA_FK": "61",
                                    "(No column name)": "1"
                                },
                                {
                                    "SZOBA_FK": "62",
                                    "(No column name)": "5"
                                },
                                {
                                    "SZOBA_FK": "62",
                                    "(No column name)": "4"
                                },
                                {
                                    "SZOBA_FK": "62",
                                    "(No column name)": "1"
                                },
                                {
                                    "SZOBA_FK": "63",
                                    "(No column name)": "4"
                                },
                                {
                                    "SZOBA_FK": "63",
                                    "(No column name)": "4"
                                },
                                {
                                    "SZOBA_FK": "64",
                                    "(No column name)": "6"
                                },
                                {
                                    "SZOBA_FK": "64",
                                    "(No column name)": "3"
                                },
                                {
                                    "SZOBA_FK": "64",
                                    "(No column name)": "3"
                                },
                                {
                                    "SZOBA_FK": "65",
                                    "(No column name)": "1"
                                },
                                {
                                    "SZOBA_FK": "65",
                                    "(No column name)": "1"
                                },
                                {
                                    "SZOBA_FK": "66",
                                    "(No column name)": "4"
                                },
                                {
                                    "SZOBA_FK": "66",
                                    "(No column name)": "4"
                                },
                                {
                                    "SZOBA_FK": "67",
                                    "(No column name)": "6"
                                },
                                {
                                    "SZOBA_FK": "67",
                                    "(No column name)": "4"
                                },
                                {
                                    "SZOBA_FK": "67",
                                    "(No column name)": "2"
                                },
                                {
                                    "SZOBA_FK": "68",
                                    "(No column name)": "3"
                                },
                                {
                                    "SZOBA_FK": "68",
                                    "(No column name)": "3"
                                },
                                {
                                    "SZOBA_FK": "69",
                                    "(No column name)": "4"
                                },
                                {
                                    "SZOBA_FK": "69",
                                    "(No column name)": "4"
                                },
                                {
                                    "SZOBA_FK": "70",
                                    "(No column name)": "11"
                                },
                                {
                                    "SZOBA_FK": "70",
                                    "(No column name)": "10"
                                },
                                {
                                    "SZOBA_FK": "70",
                                    "(No column name)": "1"
                                },
                                {
                                    "SZOBA_FK": "71",
                                    "(No column name)": "3"
                                },
                                {
                                    "SZOBA_FK": "71",
                                    "(No column name)": "3"
                                },
                                {
                                    "SZOBA_FK": "72",
                                    "(No column name)": "4"
                                },
                                {
                                    "SZOBA_FK": "72",
                                    "(No column name)": "4"
                                },
                                {
                                    "SZOBA_FK": "73",
                                    "(No column name)": "4"
                                },
                                {
                                    "SZOBA_FK": "73",
                                    "(No column name)": "4"
                                },
                                {
                                    "SZOBA_FK": "74",
                                    "(No column name)": "9"
                                },
                                {
                                    "SZOBA_FK": "74",
                                    "(No column name)": "9"
                                },
                                {
                                    "SZOBA_FK": "75",
                                    "(No column name)": "3"
                                },
                                {
                                    "SZOBA_FK": "75",
                                    "(No column name)": "1"
                                },
                                {
                                    "SZOBA_FK": "75",
                                    "(No column name)": "2"
                                },
                                {
                                    "SZOBA_FK": "76",
                                    "(No column name)": "3"
                                },
                                {
                                    "SZOBA_FK": "76",
                                    "(No column name)": "2"
                                },
                                {
                                    "SZOBA_FK": "76",
                                    "(No column name)": "1"
                                },
                                {
                                    "SZOBA_FK": "77",
                                    "(No column name)": "6"
                                },
                                {
                                    "SZOBA_FK": "77",
                                    "(No column name)": "4"
                                },
                                {
                                    "SZOBA_FK": "77",
                                    "(No column name)": "2"
                                },
                                {
                                    "SZOBA_FK": "78",
                                    "(No column name)": "6"
                                },
                                {
                                    "SZOBA_FK": "78",
                                    "(No column name)": "5"
                                },
                                {
                                    "SZOBA_FK": "78",
                                    "(No column name)": "1"
                                },
                                {
                                    "SZOBA_FK": "79",
                                    "(No column name)": "5"
                                },
                                {
                                    "SZOBA_FK": "79",
                                    "(No column name)": "4"
                                },
                                {
                                    "SZOBA_FK": "79",
                                    "(No column name)": "1"
                                },
                                {
                                    "SZOBA_FK": "80",
                                    "(No column name)": "7"
                                },
                                {
                                    "SZOBA_FK": "80",
                                    "(No column name)": "7"
                                },
                                {
                                    "SZOBA_FK": "81",
                                    "(No column name)": "5"
                                },
                                {
                                    "SZOBA_FK": "81",
                                    "(No column name)": "1"
                                },
                                {
                                    "SZOBA_FK": "81",
                                    "(No column name)": "4"
                                },
                                {
                                    "SZOBA_FK": "82",
                                    "(No column name)": "6"
                                },
                                {
                                    "SZOBA_FK": "82",
                                    "(No column name)": "6"
                                },
                                {
                                    "SZOBA_FK": "83",
                                    "(No column name)": "8"
                                },
                                {
                                    "SZOBA_FK": "83",
                                    "(No column name)": "8"
                                },
                                {
                                    "SZOBA_FK": "84",
                                    "(No column name)": "4"
                                },
                                {
                                    "SZOBA_FK": "84",
                                    "(No column name)": "4"
                                },
                                {
                                    "SZOBA_FK": "85",
                                    "(No column name)": "4"
                                },
                                {
                                    "SZOBA_FK": "85",
                                    "(No column name)": "3"
                                },
                                {
                                    "SZOBA_FK": "85",
                                    "(No column name)": "1"
                                },
                                {
                                    "SZOBA_FK": "86",
                                    "(No column name)": "5"
                                },
                                {
                                    "SZOBA_FK": "86",
                                    "(No column name)": "4"
                                },
                                {
                                    "SZOBA_FK": "86",
                                    "(No column name)": "1"
                                },
                                {
                                    "SZOBA_FK": "87",
                                    "(No column name)": "5"
                                },
                                {
                                    "SZOBA_FK": "87",
                                    "(No column name)": "4"
                                },
                                {
                                    "SZOBA_FK": "87",
                                    "(No column name)": "1"
                                },
                                {
                                    "SZOBA_FK": "88",
                                    "(No column name)": "8"
                                },
                                {
                                    "SZOBA_FK": "88",
                                    "(No column name)": "6"
                                },
                                {
                                    "SZOBA_FK": "88",
                                    "(No column name)": "2"
                                },
                                {
                                    "SZOBA_FK": "89",
                                    "(No column name)": "8"
                                },
                                {
                                    "SZOBA_FK": "89",
                                    "(No column name)": "7"
                                },
                                {
                                    "SZOBA_FK": "89",
                                    "(No column name)": "1"
                                },
                                {
                                    "SZOBA_FK": "90",
                                    "(No column name)": "4"
                                },
                                {
                                    "SZOBA_FK": "90",
                                    "(No column name)": "4"
                                },
                                {
                                    "SZOBA_FK": "91",
                                    "(No column name)": "4"
                                },
                                {
                                    "SZOBA_FK": "91",
                                    "(No column name)": "4"
                                },
                                {
                                    "SZOBA_FK": "92",
                                    "(No column name)": "6"
                                },
                                {
                                    "SZOBA_FK": "92",
                                    "(No column name)": "4"
                                },
                                {
                                    "SZOBA_FK": "92",
                                    "(No column name)": "2"
                                },
                                {
                                    "SZOBA_FK": "93",
                                    "(No column name)": "5"
                                },
                                {
                                    "SZOBA_FK": "93",
                                    "(No column name)": "5"
                                },
                                {
                                    "SZOBA_FK": "94",
                                    "(No column name)": "10"
                                },
                                {
                                    "SZOBA_FK": "94",
                                    "(No column name)": "8"
                                },
                                {
                                    "SZOBA_FK": "94",
                                    "(No column name)": "2"
                                },
                                {
                                    "SZOBA_FK": "95",
                                    "(No column name)": "4"
                                },
                                {
                                    "SZOBA_FK": "95",
                                    "(No column name)": "3"
                                },
                                {
                                    "SZOBA_FK": "95",
                                    "(No column name)": "1"
                                },
                                {
                                    "SZOBA_FK": "96",
                                    "(No column name)": "7"
                                },
                                {
                                    "SZOBA_FK": "96",
                                    "(No column name)": "5"
                                },
                                {
                                    "SZOBA_FK": "96",
                                    "(No column name)": "2"
                                },
                                {
                                    "SZOBA_FK": "97",
                                    "(No column name)": "7"
                                },
                                {
                                    "SZOBA_FK": "97",
                                    "(No column name)": "5"
                                },
                                {
                                    "SZOBA_FK": "97",
                                    "(No column name)": "2"
                                },
                                {
                                    "SZOBA_FK": "98",
                                    "(No column name)": "4"
                                },
                                {
                                    "SZOBA_FK": "98",
                                    "(No column name)": "4"
                                },
                                {
                                    "SZOBA_FK": "99",
                                    "(No column name)": "5"
                                },
                                {
                                    "SZOBA_FK": "99",
                                    "(No column name)": "4"
                                },
                                {
                                    "SZOBA_FK": "99",
                                    "(No column name)": "1"
                                },
                                {
                                    "SZOBA_FK": "100",
                                    "(No column name)": "4"
                                },
                                {
                                    "SZOBA_FK": "100",
                                    "(No column name)": "3"
                                },
                                {
                                    "SZOBA_FK": "100",
                                    "(No column name)": "1"
                                },
                                {
                                    "SZOBA_FK": "101",
                                    "(No column name)": "3"
                                },
                                {
                                    "SZOBA_FK": "101",
                                    "(No column name)": "2"
                                },
                                {
                                    "SZOBA_FK": "101",
                                    "(No column name)": "1"
                                },
                                {
                                    "SZOBA_FK": "102",
                                    "(No column name)": "2"
                                },
                                {
                                    "SZOBA_FK": "102",
                                    "(No column name)": "2"
                                },
                                {
                                    "SZOBA_FK": "103",
                                    "(No column name)": "4"
                                },
                                {
                                    "SZOBA_FK": "103",
                                    "(No column name)": "3"
                                },
                                {
                                    "SZOBA_FK": "103",
                                    "(No column name)": "1"
                                },
                                {
                                    "SZOBA_FK": "104",
                                    "(No column name)": "4"
                                },
                                {
                                    "SZOBA_FK": "104",
                                    "(No column name)": "2"
                                },
                                {
                                    "SZOBA_FK": "104",
                                    "(No column name)": "2"
                                },
                                {
                                    "SZOBA_FK": "105",
                                    "(No column name)": "2"
                                },
                                {
                                    "SZOBA_FK": "105",
                                    "(No column name)": "1"
                                },
                                {
                                    "SZOBA_FK": "105",
                                    "(No column name)": "1"
                                },
                                {
                                    "SZOBA_FK": "106",
                                    "(No column name)": "6"
                                },
                                {
                                    "SZOBA_FK": "106",
                                    "(No column name)": "5"
                                },
                                {
                                    "SZOBA_FK": "106",
                                    "(No column name)": "1"
                                },
                                {
                                    "SZOBA_FK": "107",
                                    "(No column name)": "5"
                                },
                                {
                                    "SZOBA_FK": "107",
                                    "(No column name)": "3"
                                },
                                {
                                    "SZOBA_FK": "107",
                                    "(No column name)": "2"
                                },
                                {
                                    "SZOBA_FK": "108",
                                    "(No column name)": "2"
                                },
                                {
                                    "SZOBA_FK": "108",
                                    "(No column name)": "2"
                                },
                                {
                                    "SZOBA_FK": "109",
                                    "(No column name)": "7"
                                },
                                {
                                    "SZOBA_FK": "109",
                                    "(No column name)": "6"
                                },
                                {
                                    "SZOBA_FK": "109",
                                    "(No column name)": "1"
                                },
                                {
                                    "SZOBA_FK": "110",
                                    "(No column name)": "8"
                                },
                                {
                                    "SZOBA_FK": "110",
                                    "(No column name)": "6"
                                },
                                {
                                    "SZOBA_FK": "110",
                                    "(No column name)": "2"
                                },
                                {
                                    "SZOBA_FK": "111",
                                    "(No column name)": "5"
                                },
                                {
                                    "SZOBA_FK": "111",
                                    "(No column name)": "5"
                                },
                                {
                                    "SZOBA_FK": "112",
                                    "(No column name)": "5"
                                },
                                {
                                    "SZOBA_FK": "112",
                                    "(No column name)": "4"
                                },
                                {
                                    "SZOBA_FK": "112",
                                    "(No column name)": "1"
                                },
                                {
                                    "SZOBA_FK": "113",
                                    "(No column name)": "5"
                                },
                                {
                                    "SZOBA_FK": "113",
                                    "(No column name)": "3"
                                },
                                {
                                    "SZOBA_FK": "113",
                                    "(No column name)": "2"
                                },
                                {
                                    "SZOBA_FK": "114",
                                    "(No column name)": "4"
                                },
                                {
                                    "SZOBA_FK": "114",
                                    "(No column name)": "3"
                                },
                                {
                                    "SZOBA_FK": "114",
                                    "(No column name)": "1"
                                },
                                {
                                    "SZOBA_FK": "115",
                                    "(No column name)": "7"
                                },
                                {
                                    "SZOBA_FK": "115",
                                    "(No column name)": "5"
                                },
                                {
                                    "SZOBA_FK": "115",
                                    "(No column name)": "2"
                                },
                                {
                                    "SZOBA_FK": "116",
                                    "(No column name)": "2"
                                },
                                {
                                    "SZOBA_FK": "116",
                                    "(No column name)": "2"
                                },
                                {
                                    "SZOBA_FK": "117",
                                    "(No column name)": "8"
                                },
                                {
                                    "SZOBA_FK": "117",
                                    "(No column name)": "7"
                                },
                                {
                                    "SZOBA_FK": "117",
                                    "(No column name)": "1"
                                },
                                {
                                    "SZOBA_FK": "118",
                                    "(No column name)": "7"
                                },
                                {
                                    "SZOBA_FK": "118",
                                    "(No column name)": "5"
                                },
                                {
                                    "SZOBA_FK": "118",
                                    "(No column name)": "2"
                                },
                                {
                                    "SZOBA_FK": "119",
                                    "(No column name)": "5"
                                },
                                {
                                    "SZOBA_FK": "119",
                                    "(No column name)": "3"
                                },
                                {
                                    "SZOBA_FK": "119",
                                    "(No column name)": "2"
                                },
                                {
                                    "SZOBA_FK": "120",
                                    "(No column name)": "6"
                                },
                                {
                                    "SZOBA_FK": "120",
                                    "(No column name)": "4"
                                },
                                {
                                    "SZOBA_FK": "120",
                                    "(No column name)": "2"
                                },
                                {
                                    "SZOBA_FK": "121",
                                    "(No column name)": "8"
                                },
                                {
                                    "SZOBA_FK": "121",
                                    "(No column name)": "8"
                                },
                                {
                                    "SZOBA_FK": "122",
                                    "(No column name)": "9"
                                },
                                {
                                    "SZOBA_FK": "122",
                                    "(No column name)": "8"
                                },
                                {
                                    "SZOBA_FK": "122",
                                    "(No column name)": "1"
                                },
                                {
                                    "SZOBA_FK": "123",
                                    "(No column name)": "5"
                                },
                                {
                                    "SZOBA_FK": "123",
                                    "(No column name)": "5"
                                },
                                {
                                    "SZOBA_FK": "124",
                                    "(No column name)": "6"
                                },
                                {
                                    "SZOBA_FK": "124",
                                    "(No column name)": "4"
                                },
                                {
                                    "SZOBA_FK": "124",
                                    "(No column name)": "2"
                                },
                                {
                                    "SZOBA_FK": "125",
                                    "(No column name)": "1"
                                },
                                {
                                    "SZOBA_FK": "125",
                                    "(No column name)": "1"
                                },
                                {
                                    "SZOBA_FK": "126",
                                    "(No column name)": "6"
                                },
                                {
                                    "SZOBA_FK": "126",
                                    "(No column name)": "4"
                                },
                                {
                                    "SZOBA_FK": "126",
                                    "(No column name)": "2"
                                },
                                {
                                    "SZOBA_FK": "127",
                                    "(No column name)": "7"
                                },
                                {
                                    "SZOBA_FK": "127",
                                    "(No column name)": "6"
                                },
                                {
                                    "SZOBA_FK": "127",
                                    "(No column name)": "1"
                                },
                                {
                                    "SZOBA_FK": "128",
                                    "(No column name)": "5"
                                },
                                {
                                    "SZOBA_FK": "128",
                                    "(No column name)": "3"
                                },
                                {
                                    "SZOBA_FK": "128",
                                    "(No column name)": "2"
                                },
                                {
                                    "SZOBA_FK": "129",
                                    "(No column name)": "4"
                                },
                                {
                                    "SZOBA_FK": "129",
                                    "(No column name)": "2"
                                },
                                {
                                    "SZOBA_FK": "129",
                                    "(No column name)": "2"
                                },
                                {
                                    "SZOBA_FK": "130",
                                    "(No column name)": "6"
                                },
                                {
                                    "SZOBA_FK": "130",
                                    "(No column name)": "5"
                                },
                                {
                                    "SZOBA_FK": "130",
                                    "(No column name)": "1"
                                },
                                {
                                    "SZOBA_FK": "131",
                                    "(No column name)": "5"
                                },
                                {
                                    "SZOBA_FK": "131",
                                    "(No column name)": "4"
                                },
                                {
                                    "SZOBA_FK": "131",
                                    "(No column name)": "1"
                                },
                                {
                                    "SZOBA_FK": "132",
                                    "(No column name)": "6"
                                },
                                {
                                    "SZOBA_FK": "132",
                                    "(No column name)": "5"
                                },
                                {
                                    "SZOBA_FK": "132",
                                    "(No column name)": "1"
                                },
                                {
                                    "SZOBA_FK": "133",
                                    "(No column name)": "6"
                                },
                                {
                                    "SZOBA_FK": "133",
                                    "(No column name)": "5"
                                },
                                {
                                    "SZOBA_FK": "133",
                                    "(No column name)": "1"
                                },
                                {
                                    "SZOBA_FK": "134",
                                    "(No column name)": "6"
                                },
                                {
                                    "SZOBA_FK": "134",
                                    "(No column name)": "5"
                                },
                                {
                                    "SZOBA_FK": "134",
                                    "(No column name)": "1"
                                },
                                {
                                    "SZOBA_FK": "135",
                                    "(No column name)": "3"
                                },
                                {
                                    "SZOBA_FK": "135",
                                    "(No column name)": "3"
                                },
                                {
                                    "SZOBA_FK": "136",
                                    "(No column name)": "3"
                                },
                                {
                                    "SZOBA_FK": "136",
                                    "(No column name)": "3"
                                },
                                {
                                    "SZOBA_FK": "137",
                                    "(No column name)": "6"
                                },
                                {
                                    "SZOBA_FK": "137",
                                    "(No column name)": "6"
                                },
                                {
                                    "SZOBA_FK": "138",
                                    "(No column name)": "7"
                                },
                                {
                                    "SZOBA_FK": "138",
                                    "(No column name)": "7"
                                },
                                {
                                    "SZOBA_FK": "139",
                                    "(No column name)": "7"
                                },
                                {
                                    "SZOBA_FK": "139",
                                    "(No column name)": "5"
                                },
                                {
                                    "SZOBA_FK": "139",
                                    "(No column name)": "2"
                                },
                                {
                                    "SZOBA_FK": "140",
                                    "(No column name)": "8"
                                },
                                {
                                    "SZOBA_FK": "140",
                                    "(No column name)": "8"
                                },
                                {
                                    "SZOBA_FK": "141",
                                    "(No column name)": "6"
                                },
                                {
                                    "SZOBA_FK": "141",
                                    "(No column name)": "6"
                                },
                                {
                                    "SZOBA_FK": "142",
                                    "(No column name)": "2"
                                },
                                {
                                    "SZOBA_FK": "142",
                                    "(No column name)": "1"
                                },
                                {
                                    "SZOBA_FK": "142",
                                    "(No column name)": "1"
                                },
                                {
                                    "SZOBA_FK": "143",
                                    "(No column name)": "7"
                                },
                                {
                                    "SZOBA_FK": "143",
                                    "(No column name)": "6"
                                },
                                {
                                    "SZOBA_FK": "143",
                                    "(No column name)": "1"
                                },
                                {
                                    "SZOBA_FK": "144",
                                    "(No column name)": "5"
                                },
                                {
                                    "SZOBA_FK": "144",
                                    "(No column name)": "4"
                                },
                                {
                                    "SZOBA_FK": "144",
                                    "(No column name)": "1"
                                },
                                {
                                    "SZOBA_FK": "145",
                                    "(No column name)": "6"
                                },
                                {
                                    "SZOBA_FK": "145",
                                    "(No column name)": "5"
                                },
                                {
                                    "SZOBA_FK": "145",
                                    "(No column name)": "1"
                                },
                                {
                                    "SZOBA_FK": "146",
                                    "(No column name)": "6"
                                },
                                {
                                    "SZOBA_FK": "146",
                                    "(No column name)": "5"
                                },
                                {
                                    "SZOBA_FK": "146",
                                    "(No column name)": "1"
                                },
                                {
                                    "SZOBA_FK": "147",
                                    "(No column name)": "1"
                                },
                                {
                                    "SZOBA_FK": "147",
                                    "(No column name)": "1"
                                },
                                {
                                    "SZOBA_FK": "148",
                                    "(No column name)": "6"
                                },
                                {
                                    "SZOBA_FK": "148",
                                    "(No column name)": "5"
                                },
                                {
                                    "SZOBA_FK": "148",
                                    "(No column name)": "1"
                                },
                                {
                                    "SZOBA_FK": "149",
                                    "(No column name)": "7"
                                },
                                {
                                    "SZOBA_FK": "149",
                                    "(No column name)": "6"
                                },
                                {
                                    "SZOBA_FK": "149",
                                    "(No column name)": "1"
                                },
                                {
                                    "SZOBA_FK": "150",
                                    "(No column name)": "6"
                                },
                                {
                                    "SZOBA_FK": "150",
                                    "(No column name)": "5"
                                },
                                {
                                    "SZOBA_FK": "150",
                                    "(No column name)": "1"
                                },
                                {
                                    "SZOBA_FK": "151",
                                    "(No column name)": "3"
                                },
                                {
                                    "SZOBA_FK": "151",
                                    "(No column name)": "3"
                                },
                                {
                                    "SZOBA_FK": "152",
                                    "(No column name)": "4"
                                },
                                {
                                    "SZOBA_FK": "152",
                                    "(No column name)": "3"
                                },
                                {
                                    "SZOBA_FK": "152",
                                    "(No column name)": "1"
                                },
                                {
                                    "SZOBA_FK": "153",
                                    "(No column name)": "5"
                                },
                                {
                                    "SZOBA_FK": "153",
                                    "(No column name)": "2"
                                },
                                {
                                    "SZOBA_FK": "153",
                                    "(No column name)": "3"
                                },
                                {
                                    "SZOBA_FK": "154",
                                    "(No column name)": "5"
                                },
                                {
                                    "SZOBA_FK": "154",
                                    "(No column name)": "4"
                                },
                                {
                                    "SZOBA_FK": "154",
                                    "(No column name)": "1"
                                },
                                {
                                    "SZOBA_FK": "155",
                                    "(No column name)": "5"
                                },
                                {
                                    "SZOBA_FK": "155",
                                    "(No column name)": "4"
                                },
                                {
                                    "SZOBA_FK": "155",
                                    "(No column name)": "1"
                                },
                                {
                                    "SZOBA_FK": "156",
                                    "(No column name)": "7"
                                },
                                {
                                    "SZOBA_FK": "156",
                                    "(No column name)": "4"
                                },
                                {
                                    "SZOBA_FK": "156",
                                    "(No column name)": "3"
                                },
                                {
                                    "SZOBA_FK": "157",
                                    "(No column name)": "5"
                                },
                                {
                                    "SZOBA_FK": "157",
                                    "(No column name)": "4"
                                },
                                {
                                    "SZOBA_FK": "157",
                                    "(No column name)": "1"
                                },
                                {
                                    "SZOBA_FK": "158",
                                    "(No column name)": "3"
                                },
                                {
                                    "SZOBA_FK": "158",
                                    "(No column name)": "3"
                                },
                                {
                                    "SZOBA_FK": "160",
                                    "(No column name)": "5"
                                },
                                {
                                    "SZOBA_FK": "160",
                                    "(No column name)": "4"
                                },
                                {
                                    "SZOBA_FK": "160",
                                    "(No column name)": "1"
                                },
                                {
                                    "SZOBA_FK": "161",
                                    "(No column name)": "6"
                                },
                                {
                                    "SZOBA_FK": "161",
                                    "(No column name)": "5"
                                },
                                {
                                    "SZOBA_FK": "161",
                                    "(No column name)": "1"
                                },
                                {
                                    "SZOBA_FK": "162",
                                    "(No column name)": "3"
                                },
                                {
                                    "SZOBA_FK": "162",
                                    "(No column name)": "3"
                                },
                                {
                                    "SZOBA_FK": "163",
                                    "(No column name)": "7"
                                },
                                {
                                    "SZOBA_FK": "163",
                                    "(No column name)": "6"
                                },
                                {
                                    "SZOBA_FK": "163",
                                    "(No column name)": "1"
                                },
                                {
                                    "SZOBA_FK": "164",
                                    "(No column name)": "5"
                                },
                                {
                                    "SZOBA_FK": "164",
                                    "(No column name)": "5"
                                },
                                {
                                    "SZOBA_FK": "165",
                                    "(No column name)": "7"
                                },
                                {
                                    "SZOBA_FK": "165",
                                    "(No column name)": "7"
                                },
                                {
                                    "SZOBA_FK": "166",
                                    "(No column name)": "3"
                                },
                                {
                                    "SZOBA_FK": "166",
                                    "(No column name)": "2"
                                },
                                {
                                    "SZOBA_FK": "166",
                                    "(No column name)": "1"
                                },
                                {
                                    "SZOBA_FK": "167",
                                    "(No column name)": "2"
                                },
                                {
                                    "SZOBA_FK": "167",
                                    "(No column name)": "1"
                                },
                                {
                                    "SZOBA_FK": "167",
                                    "(No column name)": "1"
                                },
                                {
                                    "SZOBA_FK": "168",
                                    "(No column name)": "5"
                                },
                                {
                                    "SZOBA_FK": "168",
                                    "(No column name)": "5"
                                },
                                {
                                    "SZOBA_FK": "169",
                                    "(No column name)": "6"
                                },
                                {
                                    "SZOBA_FK": "169",
                                    "(No column name)": "5"
                                },
                                {
                                    "SZOBA_FK": "169",
                                    "(No column name)": "1"
                                },
                                {
                                    "SZOBA_FK": "170",
                                    "(No column name)": "5"
                                },
                                {
                                    "SZOBA_FK": "170",
                                    "(No column name)": "5"
                                },
                                {
                                    "SZOBA_FK": "171",
                                    "(No column name)": "5"
                                },
                                {
                                    "SZOBA_FK": "171",
                                    "(No column name)": "4"
                                },
                                {
                                    "SZOBA_FK": "171",
                                    "(No column name)": "1"
                                },
                                {
                                    "SZOBA_FK": "172",
                                    "(No column name)": "9"
                                },
                                {
                                    "SZOBA_FK": "172",
                                    "(No column name)": "7"
                                },
                                {
                                    "SZOBA_FK": "172",
                                    "(No column name)": "2"
                                },
                                {
                                    "SZOBA_FK": "173",
                                    "(No column name)": "4"
                                },
                                {
                                    "SZOBA_FK": "173",
                                    "(No column name)": "3"
                                },
                                {
                                    "SZOBA_FK": "173",
                                    "(No column name)": "1"
                                },
                                {
                                    "SZOBA_FK": "174",
                                    "(No column name)": "4"
                                },
                                {
                                    "SZOBA_FK": "174",
                                    "(No column name)": "4"
                                },
                                {
                                    "SZOBA_FK": "175",
                                    "(No column name)": "5"
                                },
                                {
                                    "SZOBA_FK": "175",
                                    "(No column name)": "5"
                                },
                                {
                                    "SZOBA_FK": "176",
                                    "(No column name)": "6"
                                },
                                {
                                    "SZOBA_FK": "176",
                                    "(No column name)": "4"
                                },
                                {
                                    "SZOBA_FK": "176",
                                    "(No column name)": "2"
                                },
                                {
                                    "SZOBA_FK": "177",
                                    "(No column name)": "4"
                                },
                                {
                                    "SZOBA_FK": "177",
                                    "(No column name)": "3"
                                },
                                {
                                    "SZOBA_FK": "177",
                                    "(No column name)": "1"
                                },
                                {
                                    "SZOBA_FK": "178",
                                    "(No column name)": "4"
                                },
                                {
                                    "SZOBA_FK": "178",
                                    "(No column name)": "4"
                                },
                                {
                                    "SZOBA_FK": "179",
                                    "(No column name)": "3"
                                },
                                {
                                    "SZOBA_FK": "179",
                                    "(No column name)": "2"
                                },
                                {
                                    "SZOBA_FK": "179",
                                    "(No column name)": "1"
                                },
                                {
                                    "SZOBA_FK": "180",
                                    "(No column name)": "3"
                                },
                                {
                                    "SZOBA_FK": "180",
                                    "(No column name)": "1"
                                },
                                {
                                    "SZOBA_FK": "180",
                                    "(No column name)": "2"
                                },
                                {
                                    "SZOBA_FK": "181",
                                    "(No column name)": "6"
                                },
                                {
                                    "SZOBA_FK": "181",
                                    "(No column name)": "6"
                                },
                                {
                                    "SZOBA_FK": "182",
                                    "(No column name)": "12"
                                },
                                {
                                    "SZOBA_FK": "182",
                                    "(No column name)": "10"
                                },
                                {
                                    "SZOBA_FK": "182",
                                    "(No column name)": "2"
                                },
                                {
                                    "SZOBA_FK": "183",
                                    "(No column name)": "4"
                                },
                                {
                                    "SZOBA_FK": "183",
                                    "(No column name)": "3"
                                },
                                {
                                    "SZOBA_FK": "183",
                                    "(No column name)": "1"
                                },
                                {
                                    "SZOBA_FK": "184",
                                    "(No column name)": "4"
                                },
                                {
                                    "SZOBA_FK": "184",
                                    "(No column name)": "4"
                                },
                                {
                                    "SZOBA_FK": "185",
                                    "(No column name)": "12"
                                },
                                {
                                    "SZOBA_FK": "185",
                                    "(No column name)": "10"
                                },
                                {
                                    "SZOBA_FK": "185",
                                    "(No column name)": "2"
                                },
                                {
                                    "SZOBA_FK": "186",
                                    "(No column name)": "4"
                                },
                                {
                                    "SZOBA_FK": "186",
                                    "(No column name)": "3"
                                },
                                {
                                    "SZOBA_FK": "186",
                                    "(No column name)": "1"
                                },
                                {
                                    "SZOBA_FK": "187",
                                    "(No column name)": "7"
                                },
                                {
                                    "SZOBA_FK": "187",
                                    "(No column name)": "7"
                                },
                                {
                                    "SZOBA_FK": "188",
                                    "(No column name)": "6"
                                },
                                {
                                    "SZOBA_FK": "188",
                                    "(No column name)": "6"
                                },
                                {
                                    "SZOBA_FK": "189",
                                    "(No column name)": "5"
                                },
                                {
                                    "SZOBA_FK": "189",
                                    "(No column name)": "3"
                                },
                                {
                                    "SZOBA_FK": "189",
                                    "(No column name)": "2"
                                },
                                {
                                    "SZOBA_FK": "190",
                                    "(No column name)": "5"
                                },
                                {
                                    "SZOBA_FK": "190",
                                    "(No column name)": "4"
                                },
                                {
                                    "SZOBA_FK": "190",
                                    "(No column name)": "1"
                                },
                                {
                                    "SZOBA_FK": "191",
                                    "(No column name)": "5"
                                },
                                {
                                    "SZOBA_FK": "191",
                                    "(No column name)": "3"
                                },
                                {
                                    "SZOBA_FK": "191",
                                    "(No column name)": "2"
                                },
                                {
                                    "SZOBA_FK": "192",
                                    "(No column name)": "2"
                                },
                                {
                                    "SZOBA_FK": "192",
                                    "(No column name)": "2"
                                },
                                {
                                    "SZOBA_FK": "193",
                                    "(No column name)": "7"
                                },
                                {
                                    "SZOBA_FK": "193",
                                    "(No column name)": "7"
                                },
                                {
                                    "SZOBA_FK": "194",
                                    "(No column name)": "1"
                                },
                                {
                                    "SZOBA_FK": "194",
                                    "(No column name)": "1"
                                },
                                {
                                    "SZOBA_FK": "195",
                                    "(No column name)": "6"
                                },
                                {
                                    "SZOBA_FK": "195",
                                    "(No column name)": "4"
                                },
                                {
                                    "SZOBA_FK": "195",
                                    "(No column name)": "2"
                                },
                                {
                                    "SZOBA_FK": "196",
                                    "(No column name)": "4"
                                },
                                {
                                    "SZOBA_FK": "196",
                                    "(No column name)": "4"
                                },
                                {
                                    "SZOBA_FK": "197",
                                    "(No column name)": "6"
                                },
                                {
                                    "SZOBA_FK": "197",
                                    "(No column name)": "6"
                                },
                                {
                                    "SZOBA_FK": "198",
                                    "(No column name)": "8"
                                },
                                {
                                    "SZOBA_FK": "198",
                                    "(No column name)": "7"
                                },
                                {
                                    "SZOBA_FK": "198",
                                    "(No column name)": "1"
                                }
                            ]
                        },
                        "text/html": [
                            "<table>",
                            "<tr><th>SZOBA_FK</th><th>(No column name)</th><th>(No column name)</th></tr>",
                            "<tr><td>NULL</td><td>NULL</td><td>1027</td></tr>",
                            "<tr><td>1</td><td>NULL</td><td>8</td></tr>",
                            "<tr><td>1</td><td>2016</td><td>8</td></tr>",
                            "<tr><td>2</td><td>NULL</td><td>4</td></tr>",
                            "<tr><td>2</td><td>2016</td><td>4</td></tr>",
                            "<tr><td>3</td><td>NULL</td><td>8</td></tr>",
                            "<tr><td>3</td><td>2016</td><td>6</td></tr>",
                            "<tr><td>3</td><td>2017</td><td>2</td></tr>",
                            "<tr><td>4</td><td>NULL</td><td>6</td></tr>",
                            "<tr><td>4</td><td>2016</td><td>5</td></tr>",
                            "<tr><td>4</td><td>2017</td><td>1</td></tr>",
                            "<tr><td>5</td><td>NULL</td><td>4</td></tr>",
                            "<tr><td>5</td><td>2016</td><td>4</td></tr>",
                            "<tr><td>6</td><td>NULL</td><td>6</td></tr>",
                            "<tr><td>6</td><td>2016</td><td>6</td></tr>",
                            "<tr><td>7</td><td>NULL</td><td>6</td></tr>",
                            "<tr><td>7</td><td>2016</td><td>6</td></tr>",
                            "<tr><td>8</td><td>NULL</td><td>5</td></tr>",
                            "<tr><td>8</td><td>2016</td><td>5</td></tr>",
                            "<tr><td>9</td><td>NULL</td><td>6</td></tr>",
                            "<tr><td>9</td><td>2016</td><td>4</td></tr>",
                            "<tr><td>9</td><td>2017</td><td>2</td></tr>",
                            "<tr><td>10</td><td>NULL</td><td>4</td></tr>",
                            "<tr><td>10</td><td>2016</td><td>4</td></tr>",
                            "<tr><td>11</td><td>NULL</td><td>4</td></tr>",
                            "<tr><td>11</td><td>2016</td><td>3</td></tr>",
                            "<tr><td>11</td><td>2017</td><td>1</td></tr>",
                            "<tr><td>12</td><td>NULL</td><td>9</td></tr>",
                            "<tr><td>12</td><td>2016</td><td>8</td></tr>",
                            "<tr><td>12</td><td>2017</td><td>1</td></tr>",
                            "<tr><td>13</td><td>NULL</td><td>4</td></tr>",
                            "<tr><td>13</td><td>2016</td><td>3</td></tr>",
                            "<tr><td>13</td><td>2017</td><td>1</td></tr>",
                            "<tr><td>14</td><td>NULL</td><td>3</td></tr>",
                            "<tr><td>14</td><td>2016</td><td>2</td></tr>",
                            "<tr><td>14</td><td>2017</td><td>1</td></tr>",
                            "<tr><td>15</td><td>NULL</td><td>6</td></tr>",
                            "<tr><td>15</td><td>2016</td><td>4</td></tr>",
                            "<tr><td>15</td><td>2017</td><td>2</td></tr>",
                            "<tr><td>16</td><td>NULL</td><td>5</td></tr>",
                            "<tr><td>16</td><td>2016</td><td>4</td></tr>",
                            "<tr><td>16</td><td>2017</td><td>1</td></tr>",
                            "<tr><td>17</td><td>NULL</td><td>6</td></tr>",
                            "<tr><td>17</td><td>2016</td><td>5</td></tr>",
                            "<tr><td>17</td><td>2017</td><td>1</td></tr>",
                            "<tr><td>18</td><td>NULL</td><td>6</td></tr>",
                            "<tr><td>18</td><td>2016</td><td>5</td></tr>",
                            "<tr><td>18</td><td>2017</td><td>1</td></tr>",
                            "<tr><td>19</td><td>NULL</td><td>6</td></tr>",
                            "<tr><td>19</td><td>2016</td><td>5</td></tr>",
                            "<tr><td>19</td><td>2017</td><td>1</td></tr>",
                            "<tr><td>20</td><td>NULL</td><td>5</td></tr>",
                            "<tr><td>20</td><td>2016</td><td>5</td></tr>",
                            "<tr><td>21</td><td>NULL</td><td>4</td></tr>",
                            "<tr><td>21</td><td>2016</td><td>4</td></tr>",
                            "<tr><td>22</td><td>NULL</td><td>6</td></tr>",
                            "<tr><td>22</td><td>2016</td><td>6</td></tr>",
                            "<tr><td>23</td><td>NULL</td><td>3</td></tr>",
                            "<tr><td>23</td><td>2016</td><td>3</td></tr>",
                            "<tr><td>24</td><td>NULL</td><td>3</td></tr>",
                            "<tr><td>24</td><td>2016</td><td>2</td></tr>",
                            "<tr><td>24</td><td>2017</td><td>1</td></tr>",
                            "<tr><td>25</td><td>NULL</td><td>2</td></tr>",
                            "<tr><td>25</td><td>2016</td><td>2</td></tr>",
                            "<tr><td>26</td><td>NULL</td><td>2</td></tr>",
                            "<tr><td>26</td><td>2016</td><td>2</td></tr>",
                            "<tr><td>27</td><td>NULL</td><td>7</td></tr>",
                            "<tr><td>27</td><td>2016</td><td>6</td></tr>",
                            "<tr><td>27</td><td>2017</td><td>1</td></tr>",
                            "<tr><td>28</td><td>NULL</td><td>6</td></tr>",
                            "<tr><td>28</td><td>2016</td><td>5</td></tr>",
                            "<tr><td>28</td><td>2017</td><td>1</td></tr>",
                            "<tr><td>29</td><td>NULL</td><td>6</td></tr>",
                            "<tr><td>29</td><td>2016</td><td>5</td></tr>",
                            "<tr><td>29</td><td>2017</td><td>1</td></tr>",
                            "<tr><td>30</td><td>NULL</td><td>3</td></tr>",
                            "<tr><td>30</td><td>2016</td><td>3</td></tr>",
                            "<tr><td>31</td><td>NULL</td><td>3</td></tr>",
                            "<tr><td>31</td><td>2016</td><td>3</td></tr>",
                            "<tr><td>32</td><td>NULL</td><td>1</td></tr>",
                            "<tr><td>32</td><td>2016</td><td>1</td></tr>",
                            "<tr><td>33</td><td>NULL</td><td>6</td></tr>",
                            "<tr><td>33</td><td>2016</td><td>6</td></tr>",
                            "<tr><td>34</td><td>NULL</td><td>4</td></tr>",
                            "<tr><td>34</td><td>2016</td><td>4</td></tr>",
                            "<tr><td>35</td><td>NULL</td><td>9</td></tr>",
                            "<tr><td>35</td><td>2016</td><td>6</td></tr>",
                            "<tr><td>35</td><td>2017</td><td>3</td></tr>",
                            "<tr><td>36</td><td>NULL</td><td>6</td></tr>",
                            "<tr><td>36</td><td>2016</td><td>6</td></tr>",
                            "<tr><td>37</td><td>NULL</td><td>3</td></tr>",
                            "<tr><td>37</td><td>2016</td><td>3</td></tr>",
                            "<tr><td>38</td><td>NULL</td><td>8</td></tr>",
                            "<tr><td>38</td><td>2016</td><td>5</td></tr>",
                            "<tr><td>38</td><td>2017</td><td>3</td></tr>",
                            "<tr><td>39</td><td>NULL</td><td>7</td></tr>",
                            "<tr><td>39</td><td>2016</td><td>4</td></tr>",
                            "<tr><td>39</td><td>2017</td><td>3</td></tr>",
                            "<tr><td>40</td><td>NULL</td><td>4</td></tr>",
                            "<tr><td>40</td><td>2016</td><td>4</td></tr>",
                            "<tr><td>41</td><td>NULL</td><td>2</td></tr>",
                            "<tr><td>41</td><td>2016</td><td>2</td></tr>",
                            "<tr><td>42</td><td>NULL</td><td>6</td></tr>",
                            "<tr><td>42</td><td>2016</td><td>5</td></tr>",
                            "<tr><td>42</td><td>2017</td><td>1</td></tr>",
                            "<tr><td>43</td><td>NULL</td><td>8</td></tr>",
                            "<tr><td>43</td><td>2016</td><td>6</td></tr>",
                            "<tr><td>43</td><td>2017</td><td>2</td></tr>",
                            "<tr><td>44</td><td>NULL</td><td>6</td></tr>",
                            "<tr><td>44</td><td>2016</td><td>4</td></tr>",
                            "<tr><td>44</td><td>2017</td><td>2</td></tr>",
                            "<tr><td>45</td><td>NULL</td><td>5</td></tr>",
                            "<tr><td>45</td><td>2016</td><td>5</td></tr>",
                            "<tr><td>46</td><td>NULL</td><td>4</td></tr>",
                            "<tr><td>46</td><td>2016</td><td>3</td></tr>",
                            "<tr><td>46</td><td>2017</td><td>1</td></tr>",
                            "<tr><td>47</td><td>NULL</td><td>2</td></tr>",
                            "<tr><td>47</td><td>2016</td><td>2</td></tr>",
                            "<tr><td>48</td><td>NULL</td><td>9</td></tr>",
                            "<tr><td>48</td><td>2016</td><td>6</td></tr>",
                            "<tr><td>48</td><td>2017</td><td>3</td></tr>",
                            "<tr><td>49</td><td>NULL</td><td>7</td></tr>",
                            "<tr><td>49</td><td>2016</td><td>6</td></tr>",
                            "<tr><td>49</td><td>2017</td><td>1</td></tr>",
                            "<tr><td>50</td><td>NULL</td><td>4</td></tr>",
                            "<tr><td>50</td><td>2016</td><td>4</td></tr>",
                            "<tr><td>51</td><td>NULL</td><td>5</td></tr>",
                            "<tr><td>51</td><td>2016</td><td>3</td></tr>",
                            "<tr><td>51</td><td>2017</td><td>2</td></tr>",
                            "<tr><td>52</td><td>NULL</td><td>5</td></tr>",
                            "<tr><td>52</td><td>2016</td><td>3</td></tr>",
                            "<tr><td>52</td><td>2017</td><td>2</td></tr>",
                            "<tr><td>53</td><td>NULL</td><td>2</td></tr>",
                            "<tr><td>53</td><td>2016</td><td>2</td></tr>",
                            "<tr><td>54</td><td>NULL</td><td>6</td></tr>",
                            "<tr><td>54</td><td>2016</td><td>6</td></tr>",
                            "<tr><td>55</td><td>NULL</td><td>8</td></tr>",
                            "<tr><td>55</td><td>2016</td><td>6</td></tr>",
                            "<tr><td>55</td><td>2017</td><td>2</td></tr>",
                            "<tr><td>56</td><td>NULL</td><td>2</td></tr>",
                            "<tr><td>56</td><td>2016</td><td>2</td></tr>",
                            "<tr><td>57</td><td>NULL</td><td>4</td></tr>",
                            "<tr><td>57</td><td>2016</td><td>2</td></tr>",
                            "<tr><td>57</td><td>2017</td><td>2</td></tr>",
                            "<tr><td>58</td><td>NULL</td><td>13</td></tr>",
                            "<tr><td>58</td><td>2016</td><td>12</td></tr>",
                            "<tr><td>58</td><td>2017</td><td>1</td></tr>",
                            "<tr><td>59</td><td>NULL</td><td>7</td></tr>",
                            "<tr><td>59</td><td>2016</td><td>6</td></tr>",
                            "<tr><td>59</td><td>2017</td><td>1</td></tr>",
                            "<tr><td>60</td><td>NULL</td><td>1</td></tr>",
                            "<tr><td>60</td><td>2016</td><td>1</td></tr>",
                            "<tr><td>61</td><td>NULL</td><td>5</td></tr>",
                            "<tr><td>61</td><td>2016</td><td>4</td></tr>",
                            "<tr><td>61</td><td>2017</td><td>1</td></tr>",
                            "<tr><td>62</td><td>NULL</td><td>5</td></tr>",
                            "<tr><td>62</td><td>2016</td><td>4</td></tr>",
                            "<tr><td>62</td><td>2017</td><td>1</td></tr>",
                            "<tr><td>63</td><td>NULL</td><td>4</td></tr>",
                            "<tr><td>63</td><td>2016</td><td>4</td></tr>",
                            "<tr><td>64</td><td>NULL</td><td>6</td></tr>",
                            "<tr><td>64</td><td>2016</td><td>3</td></tr>",
                            "<tr><td>64</td><td>2017</td><td>3</td></tr>",
                            "<tr><td>65</td><td>NULL</td><td>1</td></tr>",
                            "<tr><td>65</td><td>2016</td><td>1</td></tr>",
                            "<tr><td>66</td><td>NULL</td><td>4</td></tr>",
                            "<tr><td>66</td><td>2016</td><td>4</td></tr>",
                            "<tr><td>67</td><td>NULL</td><td>6</td></tr>",
                            "<tr><td>67</td><td>2016</td><td>4</td></tr>",
                            "<tr><td>67</td><td>2017</td><td>2</td></tr>",
                            "<tr><td>68</td><td>NULL</td><td>3</td></tr>",
                            "<tr><td>68</td><td>2016</td><td>3</td></tr>",
                            "<tr><td>69</td><td>NULL</td><td>4</td></tr>",
                            "<tr><td>69</td><td>2016</td><td>4</td></tr>",
                            "<tr><td>70</td><td>NULL</td><td>11</td></tr>",
                            "<tr><td>70</td><td>2016</td><td>10</td></tr>",
                            "<tr><td>70</td><td>2017</td><td>1</td></tr>",
                            "<tr><td>71</td><td>NULL</td><td>3</td></tr>",
                            "<tr><td>71</td><td>2016</td><td>3</td></tr>",
                            "<tr><td>72</td><td>NULL</td><td>4</td></tr>",
                            "<tr><td>72</td><td>2016</td><td>4</td></tr>",
                            "<tr><td>73</td><td>NULL</td><td>4</td></tr>",
                            "<tr><td>73</td><td>2016</td><td>4</td></tr>",
                            "<tr><td>74</td><td>NULL</td><td>9</td></tr>",
                            "<tr><td>74</td><td>2016</td><td>9</td></tr>",
                            "<tr><td>75</td><td>NULL</td><td>3</td></tr>",
                            "<tr><td>75</td><td>2016</td><td>1</td></tr>",
                            "<tr><td>75</td><td>2017</td><td>2</td></tr>",
                            "<tr><td>76</td><td>NULL</td><td>3</td></tr>",
                            "<tr><td>76</td><td>2016</td><td>2</td></tr>",
                            "<tr><td>76</td><td>2017</td><td>1</td></tr>",
                            "<tr><td>77</td><td>NULL</td><td>6</td></tr>",
                            "<tr><td>77</td><td>2016</td><td>4</td></tr>",
                            "<tr><td>77</td><td>2017</td><td>2</td></tr>",
                            "<tr><td>78</td><td>NULL</td><td>6</td></tr>",
                            "<tr><td>78</td><td>2016</td><td>5</td></tr>",
                            "<tr><td>78</td><td>2017</td><td>1</td></tr>",
                            "<tr><td>79</td><td>NULL</td><td>5</td></tr>",
                            "<tr><td>79</td><td>2016</td><td>4</td></tr>",
                            "<tr><td>79</td><td>2017</td><td>1</td></tr>",
                            "<tr><td>80</td><td>NULL</td><td>7</td></tr>",
                            "<tr><td>80</td><td>2016</td><td>7</td></tr>",
                            "<tr><td>81</td><td>NULL</td><td>5</td></tr>",
                            "<tr><td>81</td><td>2016</td><td>1</td></tr>",
                            "<tr><td>81</td><td>2017</td><td>4</td></tr>",
                            "<tr><td>82</td><td>NULL</td><td>6</td></tr>",
                            "<tr><td>82</td><td>2016</td><td>6</td></tr>",
                            "<tr><td>83</td><td>NULL</td><td>8</td></tr>",
                            "<tr><td>83</td><td>2016</td><td>8</td></tr>",
                            "<tr><td>84</td><td>NULL</td><td>4</td></tr>",
                            "<tr><td>84</td><td>2016</td><td>4</td></tr>",
                            "<tr><td>85</td><td>NULL</td><td>4</td></tr>",
                            "<tr><td>85</td><td>2016</td><td>3</td></tr>",
                            "<tr><td>85</td><td>2017</td><td>1</td></tr>",
                            "<tr><td>86</td><td>NULL</td><td>5</td></tr>",
                            "<tr><td>86</td><td>2016</td><td>4</td></tr>",
                            "<tr><td>86</td><td>2017</td><td>1</td></tr>",
                            "<tr><td>87</td><td>NULL</td><td>5</td></tr>",
                            "<tr><td>87</td><td>2016</td><td>4</td></tr>",
                            "<tr><td>87</td><td>2017</td><td>1</td></tr>",
                            "<tr><td>88</td><td>NULL</td><td>8</td></tr>",
                            "<tr><td>88</td><td>2016</td><td>6</td></tr>",
                            "<tr><td>88</td><td>2017</td><td>2</td></tr>",
                            "<tr><td>89</td><td>NULL</td><td>8</td></tr>",
                            "<tr><td>89</td><td>2016</td><td>7</td></tr>",
                            "<tr><td>89</td><td>2017</td><td>1</td></tr>",
                            "<tr><td>90</td><td>NULL</td><td>4</td></tr>",
                            "<tr><td>90</td><td>2016</td><td>4</td></tr>",
                            "<tr><td>91</td><td>NULL</td><td>4</td></tr>",
                            "<tr><td>91</td><td>2016</td><td>4</td></tr>",
                            "<tr><td>92</td><td>NULL</td><td>6</td></tr>",
                            "<tr><td>92</td><td>2016</td><td>4</td></tr>",
                            "<tr><td>92</td><td>2017</td><td>2</td></tr>",
                            "<tr><td>93</td><td>NULL</td><td>5</td></tr>",
                            "<tr><td>93</td><td>2016</td><td>5</td></tr>",
                            "<tr><td>94</td><td>NULL</td><td>10</td></tr>",
                            "<tr><td>94</td><td>2016</td><td>8</td></tr>",
                            "<tr><td>94</td><td>2017</td><td>2</td></tr>",
                            "<tr><td>95</td><td>NULL</td><td>4</td></tr>",
                            "<tr><td>95</td><td>2016</td><td>3</td></tr>",
                            "<tr><td>95</td><td>2017</td><td>1</td></tr>",
                            "<tr><td>96</td><td>NULL</td><td>7</td></tr>",
                            "<tr><td>96</td><td>2016</td><td>5</td></tr>",
                            "<tr><td>96</td><td>2017</td><td>2</td></tr>",
                            "<tr><td>97</td><td>NULL</td><td>7</td></tr>",
                            "<tr><td>97</td><td>2016</td><td>5</td></tr>",
                            "<tr><td>97</td><td>2017</td><td>2</td></tr>",
                            "<tr><td>98</td><td>NULL</td><td>4</td></tr>",
                            "<tr><td>98</td><td>2016</td><td>4</td></tr>",
                            "<tr><td>99</td><td>NULL</td><td>5</td></tr>",
                            "<tr><td>99</td><td>2016</td><td>4</td></tr>",
                            "<tr><td>99</td><td>2017</td><td>1</td></tr>",
                            "<tr><td>100</td><td>NULL</td><td>4</td></tr>",
                            "<tr><td>100</td><td>2016</td><td>3</td></tr>",
                            "<tr><td>100</td><td>2017</td><td>1</td></tr>",
                            "<tr><td>101</td><td>NULL</td><td>3</td></tr>",
                            "<tr><td>101</td><td>2016</td><td>2</td></tr>",
                            "<tr><td>101</td><td>2017</td><td>1</td></tr>",
                            "<tr><td>102</td><td>NULL</td><td>2</td></tr>",
                            "<tr><td>102</td><td>2016</td><td>2</td></tr>",
                            "<tr><td>103</td><td>NULL</td><td>4</td></tr>",
                            "<tr><td>103</td><td>2016</td><td>3</td></tr>",
                            "<tr><td>103</td><td>2017</td><td>1</td></tr>",
                            "<tr><td>104</td><td>NULL</td><td>4</td></tr>",
                            "<tr><td>104</td><td>2016</td><td>2</td></tr>",
                            "<tr><td>104</td><td>2017</td><td>2</td></tr>",
                            "<tr><td>105</td><td>NULL</td><td>2</td></tr>",
                            "<tr><td>105</td><td>2016</td><td>1</td></tr>",
                            "<tr><td>105</td><td>2017</td><td>1</td></tr>",
                            "<tr><td>106</td><td>NULL</td><td>6</td></tr>",
                            "<tr><td>106</td><td>2016</td><td>5</td></tr>",
                            "<tr><td>106</td><td>2017</td><td>1</td></tr>",
                            "<tr><td>107</td><td>NULL</td><td>5</td></tr>",
                            "<tr><td>107</td><td>2016</td><td>3</td></tr>",
                            "<tr><td>107</td><td>2017</td><td>2</td></tr>",
                            "<tr><td>108</td><td>NULL</td><td>2</td></tr>",
                            "<tr><td>108</td><td>2016</td><td>2</td></tr>",
                            "<tr><td>109</td><td>NULL</td><td>7</td></tr>",
                            "<tr><td>109</td><td>2016</td><td>6</td></tr>",
                            "<tr><td>109</td><td>2017</td><td>1</td></tr>",
                            "<tr><td>110</td><td>NULL</td><td>8</td></tr>",
                            "<tr><td>110</td><td>2016</td><td>6</td></tr>",
                            "<tr><td>110</td><td>2017</td><td>2</td></tr>",
                            "<tr><td>111</td><td>NULL</td><td>5</td></tr>",
                            "<tr><td>111</td><td>2016</td><td>5</td></tr>",
                            "<tr><td>112</td><td>NULL</td><td>5</td></tr>",
                            "<tr><td>112</td><td>2016</td><td>4</td></tr>",
                            "<tr><td>112</td><td>2017</td><td>1</td></tr>",
                            "<tr><td>113</td><td>NULL</td><td>5</td></tr>",
                            "<tr><td>113</td><td>2016</td><td>3</td></tr>",
                            "<tr><td>113</td><td>2017</td><td>2</td></tr>",
                            "<tr><td>114</td><td>NULL</td><td>4</td></tr>",
                            "<tr><td>114</td><td>2016</td><td>3</td></tr>",
                            "<tr><td>114</td><td>2017</td><td>1</td></tr>",
                            "<tr><td>115</td><td>NULL</td><td>7</td></tr>",
                            "<tr><td>115</td><td>2016</td><td>5</td></tr>",
                            "<tr><td>115</td><td>2017</td><td>2</td></tr>",
                            "<tr><td>116</td><td>NULL</td><td>2</td></tr>",
                            "<tr><td>116</td><td>2017</td><td>2</td></tr>",
                            "<tr><td>117</td><td>NULL</td><td>8</td></tr>",
                            "<tr><td>117</td><td>2016</td><td>7</td></tr>",
                            "<tr><td>117</td><td>2017</td><td>1</td></tr>",
                            "<tr><td>118</td><td>NULL</td><td>7</td></tr>",
                            "<tr><td>118</td><td>2016</td><td>5</td></tr>",
                            "<tr><td>118</td><td>2017</td><td>2</td></tr>",
                            "<tr><td>119</td><td>NULL</td><td>5</td></tr>",
                            "<tr><td>119</td><td>2016</td><td>3</td></tr>",
                            "<tr><td>119</td><td>2017</td><td>2</td></tr>",
                            "<tr><td>120</td><td>NULL</td><td>6</td></tr>",
                            "<tr><td>120</td><td>2016</td><td>4</td></tr>",
                            "<tr><td>120</td><td>2017</td><td>2</td></tr>",
                            "<tr><td>121</td><td>NULL</td><td>8</td></tr>",
                            "<tr><td>121</td><td>2016</td><td>8</td></tr>",
                            "<tr><td>122</td><td>NULL</td><td>9</td></tr>",
                            "<tr><td>122</td><td>2016</td><td>8</td></tr>",
                            "<tr><td>122</td><td>2017</td><td>1</td></tr>",
                            "<tr><td>123</td><td>NULL</td><td>5</td></tr>",
                            "<tr><td>123</td><td>2016</td><td>5</td></tr>",
                            "<tr><td>124</td><td>NULL</td><td>6</td></tr>",
                            "<tr><td>124</td><td>2016</td><td>4</td></tr>",
                            "<tr><td>124</td><td>2017</td><td>2</td></tr>",
                            "<tr><td>125</td><td>NULL</td><td>1</td></tr>",
                            "<tr><td>125</td><td>2016</td><td>1</td></tr>",
                            "<tr><td>126</td><td>NULL</td><td>6</td></tr>",
                            "<tr><td>126</td><td>2016</td><td>4</td></tr>",
                            "<tr><td>126</td><td>2017</td><td>2</td></tr>",
                            "<tr><td>127</td><td>NULL</td><td>7</td></tr>",
                            "<tr><td>127</td><td>2016</td><td>6</td></tr>",
                            "<tr><td>127</td><td>2017</td><td>1</td></tr>",
                            "<tr><td>128</td><td>NULL</td><td>5</td></tr>",
                            "<tr><td>128</td><td>2016</td><td>3</td></tr>",
                            "<tr><td>128</td><td>2017</td><td>2</td></tr>",
                            "<tr><td>129</td><td>NULL</td><td>4</td></tr>",
                            "<tr><td>129</td><td>2016</td><td>2</td></tr>",
                            "<tr><td>129</td><td>2017</td><td>2</td></tr>",
                            "<tr><td>130</td><td>NULL</td><td>6</td></tr>",
                            "<tr><td>130</td><td>2016</td><td>5</td></tr>",
                            "<tr><td>130</td><td>2017</td><td>1</td></tr>",
                            "<tr><td>131</td><td>NULL</td><td>5</td></tr>",
                            "<tr><td>131</td><td>2016</td><td>4</td></tr>",
                            "<tr><td>131</td><td>2017</td><td>1</td></tr>",
                            "<tr><td>132</td><td>NULL</td><td>6</td></tr>",
                            "<tr><td>132</td><td>2016</td><td>5</td></tr>",
                            "<tr><td>132</td><td>2017</td><td>1</td></tr>",
                            "<tr><td>133</td><td>NULL</td><td>6</td></tr>",
                            "<tr><td>133</td><td>2016</td><td>5</td></tr>",
                            "<tr><td>133</td><td>2017</td><td>1</td></tr>",
                            "<tr><td>134</td><td>NULL</td><td>6</td></tr>",
                            "<tr><td>134</td><td>2016</td><td>5</td></tr>",
                            "<tr><td>134</td><td>2017</td><td>1</td></tr>",
                            "<tr><td>135</td><td>NULL</td><td>3</td></tr>",
                            "<tr><td>135</td><td>2016</td><td>3</td></tr>",
                            "<tr><td>136</td><td>NULL</td><td>3</td></tr>",
                            "<tr><td>136</td><td>2016</td><td>3</td></tr>",
                            "<tr><td>137</td><td>NULL</td><td>6</td></tr>",
                            "<tr><td>137</td><td>2016</td><td>6</td></tr>",
                            "<tr><td>138</td><td>NULL</td><td>7</td></tr>",
                            "<tr><td>138</td><td>2016</td><td>7</td></tr>",
                            "<tr><td>139</td><td>NULL</td><td>7</td></tr>",
                            "<tr><td>139</td><td>2016</td><td>5</td></tr>",
                            "<tr><td>139</td><td>2017</td><td>2</td></tr>",
                            "<tr><td>140</td><td>NULL</td><td>8</td></tr>",
                            "<tr><td>140</td><td>2016</td><td>8</td></tr>",
                            "<tr><td>141</td><td>NULL</td><td>6</td></tr>",
                            "<tr><td>141</td><td>2016</td><td>6</td></tr>",
                            "<tr><td>142</td><td>NULL</td><td>2</td></tr>",
                            "<tr><td>142</td><td>2016</td><td>1</td></tr>",
                            "<tr><td>142</td><td>2017</td><td>1</td></tr>",
                            "<tr><td>143</td><td>NULL</td><td>7</td></tr>",
                            "<tr><td>143</td><td>2016</td><td>6</td></tr>",
                            "<tr><td>143</td><td>2017</td><td>1</td></tr>",
                            "<tr><td>144</td><td>NULL</td><td>5</td></tr>",
                            "<tr><td>144</td><td>2016</td><td>4</td></tr>",
                            "<tr><td>144</td><td>2017</td><td>1</td></tr>",
                            "<tr><td>145</td><td>NULL</td><td>6</td></tr>",
                            "<tr><td>145</td><td>2016</td><td>5</td></tr>",
                            "<tr><td>145</td><td>2017</td><td>1</td></tr>",
                            "<tr><td>146</td><td>NULL</td><td>6</td></tr>",
                            "<tr><td>146</td><td>2016</td><td>5</td></tr>",
                            "<tr><td>146</td><td>2017</td><td>1</td></tr>",
                            "<tr><td>147</td><td>NULL</td><td>1</td></tr>",
                            "<tr><td>147</td><td>2016</td><td>1</td></tr>",
                            "<tr><td>148</td><td>NULL</td><td>6</td></tr>",
                            "<tr><td>148</td><td>2016</td><td>5</td></tr>",
                            "<tr><td>148</td><td>2017</td><td>1</td></tr>",
                            "<tr><td>149</td><td>NULL</td><td>7</td></tr>",
                            "<tr><td>149</td><td>2016</td><td>6</td></tr>",
                            "<tr><td>149</td><td>2017</td><td>1</td></tr>",
                            "<tr><td>150</td><td>NULL</td><td>6</td></tr>",
                            "<tr><td>150</td><td>2016</td><td>5</td></tr>",
                            "<tr><td>150</td><td>2017</td><td>1</td></tr>",
                            "<tr><td>151</td><td>NULL</td><td>3</td></tr>",
                            "<tr><td>151</td><td>2016</td><td>3</td></tr>",
                            "<tr><td>152</td><td>NULL</td><td>4</td></tr>",
                            "<tr><td>152</td><td>2016</td><td>3</td></tr>",
                            "<tr><td>152</td><td>2017</td><td>1</td></tr>",
                            "<tr><td>153</td><td>NULL</td><td>5</td></tr>",
                            "<tr><td>153</td><td>2016</td><td>2</td></tr>",
                            "<tr><td>153</td><td>2017</td><td>3</td></tr>",
                            "<tr><td>154</td><td>NULL</td><td>5</td></tr>",
                            "<tr><td>154</td><td>2016</td><td>4</td></tr>",
                            "<tr><td>154</td><td>2017</td><td>1</td></tr>",
                            "<tr><td>155</td><td>NULL</td><td>5</td></tr>",
                            "<tr><td>155</td><td>2016</td><td>4</td></tr>",
                            "<tr><td>155</td><td>2017</td><td>1</td></tr>",
                            "<tr><td>156</td><td>NULL</td><td>7</td></tr>",
                            "<tr><td>156</td><td>2016</td><td>4</td></tr>",
                            "<tr><td>156</td><td>2017</td><td>3</td></tr>",
                            "<tr><td>157</td><td>NULL</td><td>5</td></tr>",
                            "<tr><td>157</td><td>2016</td><td>4</td></tr>",
                            "<tr><td>157</td><td>2017</td><td>1</td></tr>",
                            "<tr><td>158</td><td>NULL</td><td>3</td></tr>",
                            "<tr><td>158</td><td>2016</td><td>3</td></tr>",
                            "<tr><td>160</td><td>NULL</td><td>5</td></tr>",
                            "<tr><td>160</td><td>2016</td><td>4</td></tr>",
                            "<tr><td>160</td><td>2017</td><td>1</td></tr>",
                            "<tr><td>161</td><td>NULL</td><td>6</td></tr>",
                            "<tr><td>161</td><td>2016</td><td>5</td></tr>",
                            "<tr><td>161</td><td>2017</td><td>1</td></tr>",
                            "<tr><td>162</td><td>NULL</td><td>3</td></tr>",
                            "<tr><td>162</td><td>2016</td><td>3</td></tr>",
                            "<tr><td>163</td><td>NULL</td><td>7</td></tr>",
                            "<tr><td>163</td><td>2016</td><td>6</td></tr>",
                            "<tr><td>163</td><td>2017</td><td>1</td></tr>",
                            "<tr><td>164</td><td>NULL</td><td>5</td></tr>",
                            "<tr><td>164</td><td>2016</td><td>5</td></tr>",
                            "<tr><td>165</td><td>NULL</td><td>7</td></tr>",
                            "<tr><td>165</td><td>2016</td><td>7</td></tr>",
                            "<tr><td>166</td><td>NULL</td><td>3</td></tr>",
                            "<tr><td>166</td><td>2016</td><td>2</td></tr>",
                            "<tr><td>166</td><td>2017</td><td>1</td></tr>",
                            "<tr><td>167</td><td>NULL</td><td>2</td></tr>",
                            "<tr><td>167</td><td>2016</td><td>1</td></tr>",
                            "<tr><td>167</td><td>2017</td><td>1</td></tr>",
                            "<tr><td>168</td><td>NULL</td><td>5</td></tr>",
                            "<tr><td>168</td><td>2016</td><td>5</td></tr>",
                            "<tr><td>169</td><td>NULL</td><td>6</td></tr>",
                            "<tr><td>169</td><td>2016</td><td>5</td></tr>",
                            "<tr><td>169</td><td>2017</td><td>1</td></tr>",
                            "<tr><td>170</td><td>NULL</td><td>5</td></tr>",
                            "<tr><td>170</td><td>2016</td><td>5</td></tr>",
                            "<tr><td>171</td><td>NULL</td><td>5</td></tr>",
                            "<tr><td>171</td><td>2016</td><td>4</td></tr>",
                            "<tr><td>171</td><td>2017</td><td>1</td></tr>",
                            "<tr><td>172</td><td>NULL</td><td>9</td></tr>",
                            "<tr><td>172</td><td>2016</td><td>7</td></tr>",
                            "<tr><td>172</td><td>2017</td><td>2</td></tr>",
                            "<tr><td>173</td><td>NULL</td><td>4</td></tr>",
                            "<tr><td>173</td><td>2016</td><td>3</td></tr>",
                            "<tr><td>173</td><td>2017</td><td>1</td></tr>",
                            "<tr><td>174</td><td>NULL</td><td>4</td></tr>",
                            "<tr><td>174</td><td>2016</td><td>4</td></tr>",
                            "<tr><td>175</td><td>NULL</td><td>5</td></tr>",
                            "<tr><td>175</td><td>2016</td><td>5</td></tr>",
                            "<tr><td>176</td><td>NULL</td><td>6</td></tr>",
                            "<tr><td>176</td><td>2016</td><td>4</td></tr>",
                            "<tr><td>176</td><td>2017</td><td>2</td></tr>",
                            "<tr><td>177</td><td>NULL</td><td>4</td></tr>",
                            "<tr><td>177</td><td>2016</td><td>3</td></tr>",
                            "<tr><td>177</td><td>2017</td><td>1</td></tr>",
                            "<tr><td>178</td><td>NULL</td><td>4</td></tr>",
                            "<tr><td>178</td><td>2016</td><td>4</td></tr>",
                            "<tr><td>179</td><td>NULL</td><td>3</td></tr>",
                            "<tr><td>179</td><td>2016</td><td>2</td></tr>",
                            "<tr><td>179</td><td>2017</td><td>1</td></tr>",
                            "<tr><td>180</td><td>NULL</td><td>3</td></tr>",
                            "<tr><td>180</td><td>2016</td><td>1</td></tr>",
                            "<tr><td>180</td><td>2017</td><td>2</td></tr>",
                            "<tr><td>181</td><td>NULL</td><td>6</td></tr>",
                            "<tr><td>181</td><td>2016</td><td>6</td></tr>",
                            "<tr><td>182</td><td>NULL</td><td>12</td></tr>",
                            "<tr><td>182</td><td>2016</td><td>10</td></tr>",
                            "<tr><td>182</td><td>2017</td><td>2</td></tr>",
                            "<tr><td>183</td><td>NULL</td><td>4</td></tr>",
                            "<tr><td>183</td><td>2016</td><td>3</td></tr>",
                            "<tr><td>183</td><td>2017</td><td>1</td></tr>",
                            "<tr><td>184</td><td>NULL</td><td>4</td></tr>",
                            "<tr><td>184</td><td>2016</td><td>4</td></tr>",
                            "<tr><td>185</td><td>NULL</td><td>12</td></tr>",
                            "<tr><td>185</td><td>2016</td><td>10</td></tr>",
                            "<tr><td>185</td><td>2017</td><td>2</td></tr>",
                            "<tr><td>186</td><td>NULL</td><td>4</td></tr>",
                            "<tr><td>186</td><td>2016</td><td>3</td></tr>",
                            "<tr><td>186</td><td>2017</td><td>1</td></tr>",
                            "<tr><td>187</td><td>NULL</td><td>7</td></tr>",
                            "<tr><td>187</td><td>2016</td><td>7</td></tr>",
                            "<tr><td>188</td><td>NULL</td><td>6</td></tr>",
                            "<tr><td>188</td><td>2016</td><td>6</td></tr>",
                            "<tr><td>189</td><td>NULL</td><td>5</td></tr>",
                            "<tr><td>189</td><td>2016</td><td>3</td></tr>",
                            "<tr><td>189</td><td>2017</td><td>2</td></tr>",
                            "<tr><td>190</td><td>NULL</td><td>5</td></tr>",
                            "<tr><td>190</td><td>2016</td><td>4</td></tr>",
                            "<tr><td>190</td><td>2017</td><td>1</td></tr>",
                            "<tr><td>191</td><td>NULL</td><td>5</td></tr>",
                            "<tr><td>191</td><td>2016</td><td>3</td></tr>",
                            "<tr><td>191</td><td>2017</td><td>2</td></tr>",
                            "<tr><td>192</td><td>NULL</td><td>2</td></tr>",
                            "<tr><td>192</td><td>2016</td><td>2</td></tr>",
                            "<tr><td>193</td><td>NULL</td><td>7</td></tr>",
                            "<tr><td>193</td><td>2016</td><td>7</td></tr>",
                            "<tr><td>194</td><td>NULL</td><td>1</td></tr>",
                            "<tr><td>194</td><td>2016</td><td>1</td></tr>",
                            "<tr><td>195</td><td>NULL</td><td>6</td></tr>",
                            "<tr><td>195</td><td>2016</td><td>4</td></tr>",
                            "<tr><td>195</td><td>2017</td><td>2</td></tr>",
                            "<tr><td>196</td><td>NULL</td><td>4</td></tr>",
                            "<tr><td>196</td><td>2016</td><td>4</td></tr>",
                            "<tr><td>197</td><td>NULL</td><td>6</td></tr>",
                            "<tr><td>197</td><td>2016</td><td>6</td></tr>",
                            "<tr><td>198</td><td>NULL</td><td>8</td></tr>",
                            "<tr><td>198</td><td>2016</td><td>7</td></tr>",
                            "<tr><td>198</td><td>2017</td><td>1</td></tr>",
                            "</table>"
                        ]
                    }
                }
            ],
            "execution_count": 1
        },
        {
            "cell_type": "markdown",
            "source": [
                "Készítsük listát, amely a szobák azonosítóit és a hozzájuk tartozó foglalások azonosítóját és időtartalmát (napokban) jeleníti meg!\n",
                "\n",
                "- Egy új oszlopban jelenítsük meg az adott szoba időben előző foglalásának időtartamát is!\n",
                "- Ha nincs előző, akkor 0 jelenjen meg"
            ],
            "metadata": {
                "azdata_cell_guid": "a83c775d-0fb5-47ca-94d2-ea47b1ce361f"
            },
            "attachments": {}
        },
        {
            "cell_type": "code",
            "source": [
                "SELECT *, lag(f.METTOL) OVER(PARTITION by f.foglalas_pk)\r\n",
                "FROM foglalas f join szoba sz on f.SZOBA_FK = sz.SZOBA_ID"
            ],
            "metadata": {
                "azdata_cell_guid": "c7b573d6-8c7f-4a3d-897d-6047daa6fc16",
                "language": "sql"
            },
            "outputs": [],
            "execution_count": null
        },
        {
            "cell_type": "markdown",
            "source": [
                "Kérdezzük le az átlagosnál kevesebb főre történt foglalások adatait!\n",
                "\n",
                "a. Egy új oszlopban jelenjen meg az ügyfél neve is!\n",
                "\n",
                "b. Egy másik új oszlop mutassa meg, hogy az ügyfél előző három foglalása átlagosan hány főre történt! Az oszlop neve legyen 'Előző három foglalás átlaga'\n",
                "\n",
                "c. A listában azon vendégek is jelenjenek meg, akik még nem foglaltak!"
            ],
            "metadata": {
                "azdata_cell_guid": "b19281d7-f93a-4e6f-8ba9-e036fa18324c"
            },
            "attachments": {}
        },
        {
            "cell_type": "code",
            "source": [
                "SELECT f.*, v.nev, AVG(FELNOTT_SZAM + GYERMEK_SZAM) OVER(partition by v.NEV ORDER by v.NEV range between 3 preceding and current row) as 'Előző három foglalás átlaga'\r\n",
                "FROM Foglalas f join vendeg v on f.ugyfel_fk = v.nev\r\n",
                "where f.UGYFEL_FK in (select * from Foglalas)\r\n",
                "HAVING AVG(felnott_szam+gyermek_szam) > felnott_szam + gyermek_szam"
            ],
            "metadata": {
                "azdata_cell_guid": "6cdce825-5568-40ca-9817-b365026b13e9",
                "language": "sql"
            },
            "outputs": [
                {
                    "output_type": "error",
                    "evalue": "Msg 147, Level 15, State 1, Line 3\r\nAn aggregate may not appear in the WHERE clause unless it is in a subquery contained in a HAVING clause or a select list, and the column being aggregated is an outer reference.",
                    "ename": "",
                    "traceback": []
                },
                {
                    "output_type": "display_data",
                    "data": {
                        "text/html": "Total execution time: 00:00:00.001"
                    },
                    "metadata": {}
                }
            ],
            "execution_count": 3
        }
    ]
}