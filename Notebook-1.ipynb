{
    "metadata": {
        "kernelspec": {
            "name": "SQL",
            "display_name": "SQL",
            "language": "sql"
        },
        "language_info": {
            "name": "sql",
            "version": ""
        }
    },
    "nbformat_minor": 2,
    "nbformat": 4,
    "cells": [
        {
            "cell_type": "code",
            "source": [
                "SELECT szh.TIPUS, YEAR(f.METTOL) AS 'Év', MONTH(f.METTOL) AS 'Hónap', COUNT(f.FOGLALAS_PK)\r\n",
                "FROM Foglalas f JOIN Szoba sz ON f.SZOBA_FK = sz.SZOBA_ID \r\n",
                "                JOIN Szallashely szh ON sz.SZALLAS_FK = szh.SZALLAS_ID\r\n",
                "WHERE DATEDIFF(day, f.METTOL, f.MEDDIG) >= 5\r\n",
                "GROUP BY szh.TIPUS, YEAR(f.METTOL), MONTH(f.METTOL)"
            ],
            "metadata": {
                "azdata_cell_guid": "ca4c4a30-9b43-4083-a744-c16ee438100c",
                "language": "sql"
            },
            "outputs": [
                {
                    "output_type": "display_data",
                    "data": {
                        "text/html": "(45 rows affected)"
                    },
                    "metadata": {}
                },
                {
                    "output_type": "display_data",
                    "data": {
                        "text/html": "Total execution time: 00:00:00.021"
                    },
                    "metadata": {}
                },
                {
                    "output_type": "execute_result",
                    "metadata": {},
                    "execution_count": 10,
                    "data": {
                        "application/vnd.dataresource+json": {
                            "schema": {
                                "fields": [
                                    {
                                        "name": "TIPUS"
                                    },
                                    {
                                        "name": "Év"
                                    },
                                    {
                                        "name": "Hónap"
                                    },
                                    {
                                        "name": "(No column name)"
                                    }
                                ]
                            },
                            "data": [
                                {
                                    "TIPUS": "Apartman",
                                    "Év": "2016",
                                    "Hónap": "4",
                                    "(No column name)": "2"
                                },
                                {
                                    "TIPUS": "Apartman",
                                    "Év": "2016",
                                    "Hónap": "5",
                                    "(No column name)": "1"
                                },
                                {
                                    "TIPUS": "Apartman",
                                    "Év": "2016",
                                    "Hónap": "6",
                                    "(No column name)": "1"
                                },
                                {
                                    "TIPUS": "Apartman",
                                    "Év": "2016",
                                    "Hónap": "7",
                                    "(No column name)": "1"
                                },
                                {
                                    "TIPUS": "Apartman",
                                    "Év": "2016",
                                    "Hónap": "8",
                                    "(No column name)": "2"
                                },
                                {
                                    "TIPUS": "Apartman",
                                    "Év": "2016",
                                    "Hónap": "9",
                                    "(No column name)": "3"
                                },
                                {
                                    "TIPUS": "Apartman",
                                    "Év": "2016",
                                    "Hónap": "10",
                                    "(No column name)": "9"
                                },
                                {
                                    "TIPUS": "Apartman",
                                    "Év": "2016",
                                    "Hónap": "11",
                                    "(No column name)": "3"
                                },
                                {
                                    "TIPUS": "Apartman",
                                    "Év": "2016",
                                    "Hónap": "12",
                                    "(No column name)": "2"
                                },
                                {
                                    "TIPUS": "Apartman",
                                    "Év": "2017",
                                    "Hónap": "1",
                                    "(No column name)": "1"
                                },
                                {
                                    "TIPUS": "Apartman",
                                    "Év": "2017",
                                    "Hónap": "2",
                                    "(No column name)": "5"
                                },
                                {
                                    "TIPUS": "Hotel",
                                    "Év": "2016",
                                    "Hónap": "4",
                                    "(No column name)": "16"
                                },
                                {
                                    "TIPUS": "Hotel",
                                    "Év": "2016",
                                    "Hónap": "5",
                                    "(No column name)": "32"
                                },
                                {
                                    "TIPUS": "Hotel",
                                    "Év": "2016",
                                    "Hónap": "6",
                                    "(No column name)": "29"
                                },
                                {
                                    "TIPUS": "Hotel",
                                    "Év": "2016",
                                    "Hónap": "7",
                                    "(No column name)": "30"
                                },
                                {
                                    "TIPUS": "Hotel",
                                    "Év": "2016",
                                    "Hónap": "8",
                                    "(No column name)": "22"
                                },
                                {
                                    "TIPUS": "Hotel",
                                    "Év": "2016",
                                    "Hónap": "9",
                                    "(No column name)": "19"
                                },
                                {
                                    "TIPUS": "Hotel",
                                    "Év": "2016",
                                    "Hónap": "10",
                                    "(No column name)": "36"
                                },
                                {
                                    "TIPUS": "Hotel",
                                    "Év": "2016",
                                    "Hónap": "11",
                                    "(No column name)": "27"
                                },
                                {
                                    "TIPUS": "Hotel",
                                    "Év": "2016",
                                    "Hónap": "12",
                                    "(No column name)": "25"
                                },
                                {
                                    "TIPUS": "Hotel",
                                    "Év": "2017",
                                    "Hónap": "1",
                                    "(No column name)": "28"
                                },
                                {
                                    "TIPUS": "Hotel",
                                    "Év": "2017",
                                    "Hónap": "2",
                                    "(No column name)": "21"
                                },
                                {
                                    "TIPUS": "Hotel",
                                    "Év": "2017",
                                    "Hónap": "3",
                                    "(No column name)": "1"
                                },
                                {
                                    "TIPUS": "panzió",
                                    "Év": "2016",
                                    "Hónap": "4",
                                    "(No column name)": "2"
                                },
                                {
                                    "TIPUS": "panzió",
                                    "Év": "2016",
                                    "Hónap": "5",
                                    "(No column name)": "9"
                                },
                                {
                                    "TIPUS": "panzió",
                                    "Év": "2016",
                                    "Hónap": "6",
                                    "(No column name)": "10"
                                },
                                {
                                    "TIPUS": "panzió",
                                    "Év": "2016",
                                    "Hónap": "7",
                                    "(No column name)": "7"
                                },
                                {
                                    "TIPUS": "panzió",
                                    "Év": "2016",
                                    "Hónap": "8",
                                    "(No column name)": "6"
                                },
                                {
                                    "TIPUS": "panzió",
                                    "Év": "2016",
                                    "Hónap": "9",
                                    "(No column name)": "6"
                                },
                                {
                                    "TIPUS": "panzió",
                                    "Év": "2016",
                                    "Hónap": "10",
                                    "(No column name)": "11"
                                },
                                {
                                    "TIPUS": "panzió",
                                    "Év": "2016",
                                    "Hónap": "11",
                                    "(No column name)": "3"
                                },
                                {
                                    "TIPUS": "panzió",
                                    "Év": "2016",
                                    "Hónap": "12",
                                    "(No column name)": "6"
                                },
                                {
                                    "TIPUS": "panzió",
                                    "Év": "2017",
                                    "Hónap": "1",
                                    "(No column name)": "5"
                                },
                                {
                                    "TIPUS": "panzió",
                                    "Év": "2017",
                                    "Hónap": "2",
                                    "(No column name)": "5"
                                },
                                {
                                    "TIPUS": "panzió",
                                    "Év": "2017",
                                    "Hónap": "3",
                                    "(No column name)": "1"
                                },
                                {
                                    "TIPUS": "vendégház",
                                    "Év": "2016",
                                    "Hónap": "4",
                                    "(No column name)": "2"
                                },
                                {
                                    "TIPUS": "vendégház",
                                    "Év": "2016",
                                    "Hónap": "5",
                                    "(No column name)": "5"
                                },
                                {
                                    "TIPUS": "vendégház",
                                    "Év": "2016",
                                    "Hónap": "6",
                                    "(No column name)": "3"
                                },
                                {
                                    "TIPUS": "vendégház",
                                    "Év": "2016",
                                    "Hónap": "7",
                                    "(No column name)": "5"
                                },
                                {
                                    "TIPUS": "vendégház",
                                    "Év": "2016",
                                    "Hónap": "8",
                                    "(No column name)": "5"
                                },
                                {
                                    "TIPUS": "vendégház",
                                    "Év": "2016",
                                    "Hónap": "9",
                                    "(No column name)": "4"
                                },
                                {
                                    "TIPUS": "vendégház",
                                    "Év": "2016",
                                    "Hónap": "10",
                                    "(No column name)": "7"
                                },
                                {
                                    "TIPUS": "vendégház",
                                    "Év": "2016",
                                    "Hónap": "11",
                                    "(No column name)": "4"
                                },
                                {
                                    "TIPUS": "vendégház",
                                    "Év": "2017",
                                    "Hónap": "1",
                                    "(No column name)": "1"
                                },
                                {
                                    "TIPUS": "vendégház",
                                    "Év": "2017",
                                    "Hónap": "2",
                                    "(No column name)": "3"
                                }
                            ]
                        },
                        "text/html": [
                            "<table>",
                            "<tr><th>TIPUS</th><th>Év</th><th>Hónap</th><th>(No column name)</th></tr>",
                            "<tr><td>Apartman</td><td>2016</td><td>4</td><td>2</td></tr>",
                            "<tr><td>Apartman</td><td>2016</td><td>5</td><td>1</td></tr>",
                            "<tr><td>Apartman</td><td>2016</td><td>6</td><td>1</td></tr>",
                            "<tr><td>Apartman</td><td>2016</td><td>7</td><td>1</td></tr>",
                            "<tr><td>Apartman</td><td>2016</td><td>8</td><td>2</td></tr>",
                            "<tr><td>Apartman</td><td>2016</td><td>9</td><td>3</td></tr>",
                            "<tr><td>Apartman</td><td>2016</td><td>10</td><td>9</td></tr>",
                            "<tr><td>Apartman</td><td>2016</td><td>11</td><td>3</td></tr>",
                            "<tr><td>Apartman</td><td>2016</td><td>12</td><td>2</td></tr>",
                            "<tr><td>Apartman</td><td>2017</td><td>1</td><td>1</td></tr>",
                            "<tr><td>Apartman</td><td>2017</td><td>2</td><td>5</td></tr>",
                            "<tr><td>Hotel</td><td>2016</td><td>4</td><td>16</td></tr>",
                            "<tr><td>Hotel</td><td>2016</td><td>5</td><td>32</td></tr>",
                            "<tr><td>Hotel</td><td>2016</td><td>6</td><td>29</td></tr>",
                            "<tr><td>Hotel</td><td>2016</td><td>7</td><td>30</td></tr>",
                            "<tr><td>Hotel</td><td>2016</td><td>8</td><td>22</td></tr>",
                            "<tr><td>Hotel</td><td>2016</td><td>9</td><td>19</td></tr>",
                            "<tr><td>Hotel</td><td>2016</td><td>10</td><td>36</td></tr>",
                            "<tr><td>Hotel</td><td>2016</td><td>11</td><td>27</td></tr>",
                            "<tr><td>Hotel</td><td>2016</td><td>12</td><td>25</td></tr>",
                            "<tr><td>Hotel</td><td>2017</td><td>1</td><td>28</td></tr>",
                            "<tr><td>Hotel</td><td>2017</td><td>2</td><td>21</td></tr>",
                            "<tr><td>Hotel</td><td>2017</td><td>3</td><td>1</td></tr>",
                            "<tr><td>panzió</td><td>2016</td><td>4</td><td>2</td></tr>",
                            "<tr><td>panzió</td><td>2016</td><td>5</td><td>9</td></tr>",
                            "<tr><td>panzió</td><td>2016</td><td>6</td><td>10</td></tr>",
                            "<tr><td>panzió</td><td>2016</td><td>7</td><td>7</td></tr>",
                            "<tr><td>panzió</td><td>2016</td><td>8</td><td>6</td></tr>",
                            "<tr><td>panzió</td><td>2016</td><td>9</td><td>6</td></tr>",
                            "<tr><td>panzió</td><td>2016</td><td>10</td><td>11</td></tr>",
                            "<tr><td>panzió</td><td>2016</td><td>11</td><td>3</td></tr>",
                            "<tr><td>panzió</td><td>2016</td><td>12</td><td>6</td></tr>",
                            "<tr><td>panzió</td><td>2017</td><td>1</td><td>5</td></tr>",
                            "<tr><td>panzió</td><td>2017</td><td>2</td><td>5</td></tr>",
                            "<tr><td>panzió</td><td>2017</td><td>3</td><td>1</td></tr>",
                            "<tr><td>vendégház</td><td>2016</td><td>4</td><td>2</td></tr>",
                            "<tr><td>vendégház</td><td>2016</td><td>5</td><td>5</td></tr>",
                            "<tr><td>vendégház</td><td>2016</td><td>6</td><td>3</td></tr>",
                            "<tr><td>vendégház</td><td>2016</td><td>7</td><td>5</td></tr>",
                            "<tr><td>vendégház</td><td>2016</td><td>8</td><td>5</td></tr>",
                            "<tr><td>vendégház</td><td>2016</td><td>9</td><td>4</td></tr>",
                            "<tr><td>vendégház</td><td>2016</td><td>10</td><td>7</td></tr>",
                            "<tr><td>vendégház</td><td>2016</td><td>11</td><td>4</td></tr>",
                            "<tr><td>vendégház</td><td>2017</td><td>1</td><td>1</td></tr>",
                            "<tr><td>vendégház</td><td>2017</td><td>2</td><td>3</td></tr>",
                            "</table>"
                        ]
                    }
                }
            ],
            "execution_count": 10
        }
    ]
}