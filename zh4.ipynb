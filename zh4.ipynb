{
    "metadata": {
        "kernelspec": {
            "name": "SQL",
            "display_name": "SQL",
            "language": "sql"
        },
        "language_info": {
            "name": "sql",
            "version": ""
        }
    },
    "nbformat_minor": 2,
    "nbformat": 4,
    "cells": [
        {
            "cell_type": "markdown",
            "source": [
                "Jelenítsük meg minden egyes szoba esetén, hogy hányszor foglalták le!\n",
                "\n",
                "- Csak a szoba azonosítója és a foglalások darabszáma jelenjen meg\n",
                "- Azok a szobák is jelenjenek meg, ahol nem történt foglalás"
            ],
            "metadata": {
                "language": "sql",
                "azdata_cell_guid": "d7f8d58d-0627-4378-8bb8-d44f723d4ad4"
            },
            "attachments": {}
        },
        {
            "cell_type": "code",
            "source": [
                "SELECT sz.szoba_id, COUNT(*)\r\n",
                "FROM foglalas f LEFT JOIN szoba sz on f.SZOBA_FK = sz.SZOBA_ID\r\n",
                "GROUP by sz.szoba_id"
            ],
            "metadata": {
                "azdata_cell_guid": "e7f02b37-a88f-40f3-8d5e-2cfc0b51878d",
                "language": "sql"
            },
            "outputs": [
                {
                    "output_type": "display_data",
                    "data": {
                        "text/html": "(197 rows affected)"
                    },
                    "metadata": {}
                },
                {
                    "output_type": "display_data",
                    "data": {
                        "text/html": "Total execution time: 00:00:00.032"
                    },
                    "metadata": {}
                },
                {
                    "output_type": "execute_result",
                    "metadata": {},
                    "execution_count": 1,
                    "data": {
                        "application/vnd.dataresource+json": {
                            "schema": {
                                "fields": [
                                    {
                                        "name": "szoba_id"
                                    },
                                    {
                                        "name": "(No column name)"
                                    }
                                ]
                            },
                            "data": [
                                {
                                    "szoba_id": "23",
                                    "(No column name)": "3"
                                },
                                {
                                    "szoba_id": "46",
                                    "(No column name)": "4"
                                },
                                {
                                    "szoba_id": "192",
                                    "(No column name)": "2"
                                },
                                {
                                    "szoba_id": "69",
                                    "(No column name)": "4"
                                },
                                {
                                    "szoba_id": "92",
                                    "(No column name)": "6"
                                },
                                {
                                    "szoba_id": "115",
                                    "(No column name)": "7"
                                },
                                {
                                    "szoba_id": "138",
                                    "(No column name)": "7"
                                },
                                {
                                    "szoba_id": "161",
                                    "(No column name)": "6"
                                },
                                {
                                    "szoba_id": "29",
                                    "(No column name)": "6"
                                },
                                {
                                    "szoba_id": "169",
                                    "(No column name)": "6"
                                },
                                {
                                    "szoba_id": "175",
                                    "(No column name)": "5"
                                },
                                {
                                    "szoba_id": "75",
                                    "(No column name)": "3"
                                },
                                {
                                    "szoba_id": "132",
                                    "(No column name)": "6"
                                },
                                {
                                    "szoba_id": "9",
                                    "(No column name)": "6"
                                },
                                {
                                    "szoba_id": "181",
                                    "(No column name)": "6"
                                },
                                {
                                    "szoba_id": "15",
                                    "(No column name)": "6"
                                },
                                {
                                    "szoba_id": "109",
                                    "(No column name)": "7"
                                },
                                {
                                    "szoba_id": "158",
                                    "(No column name)": "3"
                                },
                                {
                                    "szoba_id": "89",
                                    "(No column name)": "8"
                                },
                                {
                                    "szoba_id": "195",
                                    "(No column name)": "6"
                                },
                                {
                                    "szoba_id": "3",
                                    "(No column name)": "8"
                                },
                                {
                                    "szoba_id": "146",
                                    "(No column name)": "6"
                                },
                                {
                                    "szoba_id": "152",
                                    "(No column name)": "4"
                                },
                                {
                                    "szoba_id": "52",
                                    "(No column name)": "5"
                                },
                                {
                                    "szoba_id": "95",
                                    "(No column name)": "4"
                                },
                                {
                                    "szoba_id": "189",
                                    "(No column name)": "5"
                                },
                                {
                                    "szoba_id": "72",
                                    "(No column name)": "4"
                                },
                                {
                                    "szoba_id": "118",
                                    "(No column name)": "7"
                                },
                                {
                                    "szoba_id": "172",
                                    "(No column name)": "9"
                                },
                                {
                                    "szoba_id": "78",
                                    "(No column name)": "6"
                                },
                                {
                                    "szoba_id": "66",
                                    "(No column name)": "4"
                                },
                                {
                                    "szoba_id": "32",
                                    "(No column name)": "1"
                                },
                                {
                                    "szoba_id": "126",
                                    "(No column name)": "6"
                                },
                                {
                                    "szoba_id": "26",
                                    "(No column name)": "2"
                                },
                                {
                                    "szoba_id": "12",
                                    "(No column name)": "9"
                                },
                                {
                                    "szoba_id": "178",
                                    "(No column name)": "4"
                                },
                                {
                                    "szoba_id": "35",
                                    "(No column name)": "9"
                                },
                                {
                                    "szoba_id": "129",
                                    "(No column name)": "4"
                                },
                                {
                                    "szoba_id": "155",
                                    "(No column name)": "5"
                                },
                                {
                                    "szoba_id": "106",
                                    "(No column name)": "6"
                                },
                                {
                                    "szoba_id": "86",
                                    "(No column name)": "5"
                                },
                                {
                                    "szoba_id": "135",
                                    "(No column name)": "3"
                                },
                                {
                                    "szoba_id": "63",
                                    "(No column name)": "4"
                                },
                                {
                                    "szoba_id": "112",
                                    "(No column name)": "5"
                                },
                                {
                                    "szoba_id": "6",
                                    "(No column name)": "6"
                                },
                                {
                                    "szoba_id": "43",
                                    "(No column name)": "8"
                                },
                                {
                                    "szoba_id": "55",
                                    "(No column name)": "8"
                                },
                                {
                                    "szoba_id": "98",
                                    "(No column name)": "4"
                                },
                                {
                                    "szoba_id": "49",
                                    "(No column name)": "7"
                                },
                                {
                                    "szoba_id": "149",
                                    "(No column name)": "7"
                                },
                                {
                                    "szoba_id": "198",
                                    "(No column name)": "8"
                                },
                                {
                                    "szoba_id": "190",
                                    "(No column name)": "5"
                                },
                                {
                                    "szoba_id": "144",
                                    "(No column name)": "5"
                                },
                                {
                                    "szoba_id": "167",
                                    "(No column name)": "2"
                                },
                                {
                                    "szoba_id": "184",
                                    "(No column name)": "4"
                                },
                                {
                                    "szoba_id": "113",
                                    "(No column name)": "5"
                                },
                                {
                                    "szoba_id": "67",
                                    "(No column name)": "6"
                                },
                                {
                                    "szoba_id": "21",
                                    "(No column name)": "4"
                                },
                                {
                                    "szoba_id": "27",
                                    "(No column name)": "7"
                                },
                                {
                                    "szoba_id": "127",
                                    "(No column name)": "7"
                                },
                                {
                                    "szoba_id": "121",
                                    "(No column name)": "8"
                                },
                                {
                                    "szoba_id": "173",
                                    "(No column name)": "4"
                                },
                                {
                                    "szoba_id": "107",
                                    "(No column name)": "5"
                                },
                                {
                                    "szoba_id": "156",
                                    "(No column name)": "7"
                                },
                                {
                                    "szoba_id": "58",
                                    "(No column name)": "13"
                                },
                                {
                                    "szoba_id": "130",
                                    "(No column name)": "6"
                                },
                                {
                                    "szoba_id": "81",
                                    "(No column name)": "5"
                                },
                                {
                                    "szoba_id": "64",
                                    "(No column name)": "6"
                                },
                                {
                                    "szoba_id": "87",
                                    "(No column name)": "5"
                                },
                                {
                                    "szoba_id": "38",
                                    "(No column name)": "8"
                                },
                                {
                                    "szoba_id": "101",
                                    "(No column name)": "3"
                                },
                                {
                                    "szoba_id": "7",
                                    "(No column name)": "6"
                                },
                                {
                                    "szoba_id": "44",
                                    "(No column name)": "6"
                                },
                                {
                                    "szoba_id": "193",
                                    "(No column name)": "7"
                                },
                                {
                                    "szoba_id": "150",
                                    "(No column name)": "6"
                                },
                                {
                                    "szoba_id": "1",
                                    "(No column name)": "8"
                                },
                                {
                                    "szoba_id": "50",
                                    "(No column name)": "4"
                                },
                                {
                                    "szoba_id": "24",
                                    "(No column name)": "3"
                                },
                                {
                                    "szoba_id": "47",
                                    "(No column name)": "2"
                                },
                                {
                                    "szoba_id": "141",
                                    "(No column name)": "6"
                                },
                                {
                                    "szoba_id": "70",
                                    "(No column name)": "11"
                                },
                                {
                                    "szoba_id": "93",
                                    "(No column name)": "5"
                                },
                                {
                                    "szoba_id": "187",
                                    "(No column name)": "7"
                                },
                                {
                                    "szoba_id": "164",
                                    "(No column name)": "5"
                                },
                                {
                                    "szoba_id": "30",
                                    "(No column name)": "3"
                                },
                                {
                                    "szoba_id": "18",
                                    "(No column name)": "6"
                                },
                                {
                                    "szoba_id": "170",
                                    "(No column name)": "5"
                                },
                                {
                                    "szoba_id": "176",
                                    "(No column name)": "6"
                                },
                                {
                                    "szoba_id": "124",
                                    "(No column name)": "6"
                                },
                                {
                                    "szoba_id": "84",
                                    "(No column name)": "4"
                                },
                                {
                                    "szoba_id": "153",
                                    "(No column name)": "5"
                                },
                                {
                                    "szoba_id": "110",
                                    "(No column name)": "8"
                                },
                                {
                                    "szoba_id": "10",
                                    "(No column name)": "4"
                                },
                                {
                                    "szoba_id": "133",
                                    "(No column name)": "6"
                                },
                                {
                                    "szoba_id": "61",
                                    "(No column name)": "5"
                                },
                                {
                                    "szoba_id": "196",
                                    "(No column name)": "4"
                                },
                                {
                                    "szoba_id": "90",
                                    "(No column name)": "4"
                                },
                                {
                                    "szoba_id": "41",
                                    "(No column name)": "2"
                                },
                                {
                                    "szoba_id": "104",
                                    "(No column name)": "4"
                                },
                                {
                                    "szoba_id": "4",
                                    "(No column name)": "6"
                                },
                                {
                                    "szoba_id": "147",
                                    "(No column name)": "1"
                                },
                                {
                                    "szoba_id": "119",
                                    "(No column name)": "5"
                                },
                                {
                                    "szoba_id": "96",
                                    "(No column name)": "7"
                                },
                                {
                                    "szoba_id": "165",
                                    "(No column name)": "7"
                                },
                                {
                                    "szoba_id": "142",
                                    "(No column name)": "2"
                                },
                                {
                                    "szoba_id": "188",
                                    "(No column name)": "6"
                                },
                                {
                                    "szoba_id": "125",
                                    "(No column name)": "1"
                                },
                                {
                                    "szoba_id": "65",
                                    "(No column name)": "1"
                                },
                                {
                                    "szoba_id": "79",
                                    "(No column name)": "5"
                                },
                                {
                                    "szoba_id": "19",
                                    "(No column name)": "6"
                                },
                                {
                                    "szoba_id": "171",
                                    "(No column name)": "5"
                                },
                                {
                                    "szoba_id": "73",
                                    "(No column name)": "4"
                                },
                                {
                                    "szoba_id": "25",
                                    "(No column name)": "2"
                                },
                                {
                                    "szoba_id": "36",
                                    "(No column name)": "6"
                                },
                                {
                                    "szoba_id": "105",
                                    "(No column name)": "2"
                                },
                                {
                                    "szoba_id": "179",
                                    "(No column name)": "3"
                                },
                                {
                                    "szoba_id": "85",
                                    "(No column name)": "4"
                                },
                                {
                                    "szoba_id": "136",
                                    "(No column name)": "3"
                                },
                                {
                                    "szoba_id": "62",
                                    "(No column name)": "5"
                                },
                                {
                                    "szoba_id": "13",
                                    "(No column name)": "4"
                                },
                                {
                                    "szoba_id": "42",
                                    "(No column name)": "6"
                                },
                                {
                                    "szoba_id": "5",
                                    "(No column name)": "4"
                                },
                                {
                                    "szoba_id": "56",
                                    "(No column name)": "2"
                                },
                                {
                                    "szoba_id": "99",
                                    "(No column name)": "5"
                                },
                                {
                                    "szoba_id": "148",
                                    "(No column name)": "6"
                                },
                                {
                                    "szoba_id": "168",
                                    "(No column name)": "5"
                                },
                                {
                                    "szoba_id": "191",
                                    "(No column name)": "5"
                                },
                                {
                                    "szoba_id": "116",
                                    "(No column name)": "2"
                                },
                                {
                                    "szoba_id": "139",
                                    "(No column name)": "7"
                                },
                                {
                                    "szoba_id": "162",
                                    "(No column name)": "3"
                                },
                                {
                                    "szoba_id": "185",
                                    "(No column name)": "12"
                                },
                                {
                                    "szoba_id": "128",
                                    "(No column name)": "5"
                                },
                                {
                                    "szoba_id": "122",
                                    "(No column name)": "9"
                                },
                                {
                                    "szoba_id": "22",
                                    "(No column name)": "6"
                                },
                                {
                                    "szoba_id": "76",
                                    "(No column name)": "3"
                                },
                                {
                                    "szoba_id": "59",
                                    "(No column name)": "7"
                                },
                                {
                                    "szoba_id": "108",
                                    "(No column name)": "2"
                                },
                                {
                                    "szoba_id": "82",
                                    "(No column name)": "6"
                                },
                                {
                                    "szoba_id": "39",
                                    "(No column name)": "7"
                                },
                                {
                                    "szoba_id": "33",
                                    "(No column name)": "6"
                                },
                                {
                                    "szoba_id": "182",
                                    "(No column name)": "12"
                                },
                                {
                                    "szoba_id": "16",
                                    "(No column name)": "5"
                                },
                                {
                                    "szoba_id": "88",
                                    "(No column name)": "8"
                                },
                                {
                                    "szoba_id": "102",
                                    "(No column name)": "2"
                                },
                                {
                                    "szoba_id": "53",
                                    "(No column name)": "2"
                                },
                                {
                                    "szoba_id": "45",
                                    "(No column name)": "5"
                                },
                                {
                                    "szoba_id": "145",
                                    "(No column name)": "6"
                                },
                                {
                                    "szoba_id": "2",
                                    "(No column name)": "4"
                                },
                                {
                                    "szoba_id": "48",
                                    "(No column name)": "9"
                                },
                                {
                                    "szoba_id": "71",
                                    "(No column name)": "3"
                                },
                                {
                                    "szoba_id": "94",
                                    "(No column name)": "10"
                                },
                                {
                                    "szoba_id": "117",
                                    "(No column name)": "8"
                                },
                                {
                                    "szoba_id": "140",
                                    "(No column name)": "8"
                                },
                                {
                                    "szoba_id": "163",
                                    "(No column name)": "7"
                                },
                                {
                                    "szoba_id": "186",
                                    "(No column name)": "4"
                                },
                                {
                                    "szoba_id": "77",
                                    "(No column name)": "6"
                                },
                                {
                                    "szoba_id": "17",
                                    "(No column name)": "6"
                                },
                                {
                                    "szoba_id": "31",
                                    "(No column name)": "3"
                                },
                                {
                                    "szoba_id": "123",
                                    "(No column name)": "5"
                                },
                                {
                                    "szoba_id": "60",
                                    "(No column name)": "1"
                                },
                                {
                                    "szoba_id": "83",
                                    "(No column name)": "8"
                                },
                                {
                                    "szoba_id": "177",
                                    "(No column name)": "4"
                                },
                                {
                                    "szoba_id": "154",
                                    "(No column name)": "5"
                                },
                                {
                                    "szoba_id": "134",
                                    "(No column name)": "6"
                                },
                                {
                                    "szoba_id": "34",
                                    "(No column name)": "4"
                                },
                                {
                                    "szoba_id": "40",
                                    "(No column name)": "4"
                                },
                                {
                                    "szoba_id": "11",
                                    "(No column name)": "4"
                                },
                                {
                                    "szoba_id": "183",
                                    "(No column name)": "4"
                                },
                                {
                                    "szoba_id": "111",
                                    "(No column name)": "5"
                                },
                                {
                                    "szoba_id": "160",
                                    "(No column name)": "5"
                                },
                                {
                                    "szoba_id": "54",
                                    "(No column name)": "6"
                                },
                                {
                                    "szoba_id": "91",
                                    "(No column name)": "4"
                                },
                                {
                                    "szoba_id": "103",
                                    "(No column name)": "4"
                                },
                                {
                                    "szoba_id": "97",
                                    "(No column name)": "7"
                                },
                                {
                                    "szoba_id": "197",
                                    "(No column name)": "6"
                                },
                                {
                                    "szoba_id": "143",
                                    "(No column name)": "7"
                                },
                                {
                                    "szoba_id": "120",
                                    "(No column name)": "6"
                                },
                                {
                                    "szoba_id": "166",
                                    "(No column name)": "3"
                                },
                                {
                                    "szoba_id": "114",
                                    "(No column name)": "4"
                                },
                                {
                                    "szoba_id": "20",
                                    "(No column name)": "5"
                                },
                                {
                                    "szoba_id": "68",
                                    "(No column name)": "3"
                                },
                                {
                                    "szoba_id": "80",
                                    "(No column name)": "7"
                                },
                                {
                                    "szoba_id": "28",
                                    "(No column name)": "6"
                                },
                                {
                                    "szoba_id": "174",
                                    "(No column name)": "4"
                                },
                                {
                                    "szoba_id": "74",
                                    "(No column name)": "9"
                                },
                                {
                                    "szoba_id": "131",
                                    "(No column name)": "5"
                                },
                                {
                                    "szoba_id": "180",
                                    "(No column name)": "3"
                                },
                                {
                                    "szoba_id": "57",
                                    "(No column name)": "4"
                                },
                                {
                                    "szoba_id": "157",
                                    "(No column name)": "5"
                                },
                                {
                                    "szoba_id": "14",
                                    "(No column name)": "3"
                                },
                                {
                                    "szoba_id": "37",
                                    "(No column name)": "3"
                                },
                                {
                                    "szoba_id": "137",
                                    "(No column name)": "6"
                                },
                                {
                                    "szoba_id": "8",
                                    "(No column name)": "5"
                                },
                                {
                                    "szoba_id": "51",
                                    "(No column name)": "5"
                                },
                                {
                                    "szoba_id": "151",
                                    "(No column name)": "3"
                                },
                                {
                                    "szoba_id": "194",
                                    "(No column name)": "1"
                                },
                                {
                                    "szoba_id": "100",
                                    "(No column name)": "4"
                                }
                            ]
                        },
                        "text/html": [
                            "<table>",
                            "<tr><th>szoba_id</th><th>(No column name)</th></tr>",
                            "<tr><td>23</td><td>3</td></tr>",
                            "<tr><td>46</td><td>4</td></tr>",
                            "<tr><td>192</td><td>2</td></tr>",
                            "<tr><td>69</td><td>4</td></tr>",
                            "<tr><td>92</td><td>6</td></tr>",
                            "<tr><td>115</td><td>7</td></tr>",
                            "<tr><td>138</td><td>7</td></tr>",
                            "<tr><td>161</td><td>6</td></tr>",
                            "<tr><td>29</td><td>6</td></tr>",
                            "<tr><td>169</td><td>6</td></tr>",
                            "<tr><td>175</td><td>5</td></tr>",
                            "<tr><td>75</td><td>3</td></tr>",
                            "<tr><td>132</td><td>6</td></tr>",
                            "<tr><td>9</td><td>6</td></tr>",
                            "<tr><td>181</td><td>6</td></tr>",
                            "<tr><td>15</td><td>6</td></tr>",
                            "<tr><td>109</td><td>7</td></tr>",
                            "<tr><td>158</td><td>3</td></tr>",
                            "<tr><td>89</td><td>8</td></tr>",
                            "<tr><td>195</td><td>6</td></tr>",
                            "<tr><td>3</td><td>8</td></tr>",
                            "<tr><td>146</td><td>6</td></tr>",
                            "<tr><td>152</td><td>4</td></tr>",
                            "<tr><td>52</td><td>5</td></tr>",
                            "<tr><td>95</td><td>4</td></tr>",
                            "<tr><td>189</td><td>5</td></tr>",
                            "<tr><td>72</td><td>4</td></tr>",
                            "<tr><td>118</td><td>7</td></tr>",
                            "<tr><td>172</td><td>9</td></tr>",
                            "<tr><td>78</td><td>6</td></tr>",
                            "<tr><td>66</td><td>4</td></tr>",
                            "<tr><td>32</td><td>1</td></tr>",
                            "<tr><td>126</td><td>6</td></tr>",
                            "<tr><td>26</td><td>2</td></tr>",
                            "<tr><td>12</td><td>9</td></tr>",
                            "<tr><td>178</td><td>4</td></tr>",
                            "<tr><td>35</td><td>9</td></tr>",
                            "<tr><td>129</td><td>4</td></tr>",
                            "<tr><td>155</td><td>5</td></tr>",
                            "<tr><td>106</td><td>6</td></tr>",
                            "<tr><td>86</td><td>5</td></tr>",
                            "<tr><td>135</td><td>3</td></tr>",
                            "<tr><td>63</td><td>4</td></tr>",
                            "<tr><td>112</td><td>5</td></tr>",
                            "<tr><td>6</td><td>6</td></tr>",
                            "<tr><td>43</td><td>8</td></tr>",
                            "<tr><td>55</td><td>8</td></tr>",
                            "<tr><td>98</td><td>4</td></tr>",
                            "<tr><td>49</td><td>7</td></tr>",
                            "<tr><td>149</td><td>7</td></tr>",
                            "<tr><td>198</td><td>8</td></tr>",
                            "<tr><td>190</td><td>5</td></tr>",
                            "<tr><td>144</td><td>5</td></tr>",
                            "<tr><td>167</td><td>2</td></tr>",
                            "<tr><td>184</td><td>4</td></tr>",
                            "<tr><td>113</td><td>5</td></tr>",
                            "<tr><td>67</td><td>6</td></tr>",
                            "<tr><td>21</td><td>4</td></tr>",
                            "<tr><td>27</td><td>7</td></tr>",
                            "<tr><td>127</td><td>7</td></tr>",
                            "<tr><td>121</td><td>8</td></tr>",
                            "<tr><td>173</td><td>4</td></tr>",
                            "<tr><td>107</td><td>5</td></tr>",
                            "<tr><td>156</td><td>7</td></tr>",
                            "<tr><td>58</td><td>13</td></tr>",
                            "<tr><td>130</td><td>6</td></tr>",
                            "<tr><td>81</td><td>5</td></tr>",
                            "<tr><td>64</td><td>6</td></tr>",
                            "<tr><td>87</td><td>5</td></tr>",
                            "<tr><td>38</td><td>8</td></tr>",
                            "<tr><td>101</td><td>3</td></tr>",
                            "<tr><td>7</td><td>6</td></tr>",
                            "<tr><td>44</td><td>6</td></tr>",
                            "<tr><td>193</td><td>7</td></tr>",
                            "<tr><td>150</td><td>6</td></tr>",
                            "<tr><td>1</td><td>8</td></tr>",
                            "<tr><td>50</td><td>4</td></tr>",
                            "<tr><td>24</td><td>3</td></tr>",
                            "<tr><td>47</td><td>2</td></tr>",
                            "<tr><td>141</td><td>6</td></tr>",
                            "<tr><td>70</td><td>11</td></tr>",
                            "<tr><td>93</td><td>5</td></tr>",
                            "<tr><td>187</td><td>7</td></tr>",
                            "<tr><td>164</td><td>5</td></tr>",
                            "<tr><td>30</td><td>3</td></tr>",
                            "<tr><td>18</td><td>6</td></tr>",
                            "<tr><td>170</td><td>5</td></tr>",
                            "<tr><td>176</td><td>6</td></tr>",
                            "<tr><td>124</td><td>6</td></tr>",
                            "<tr><td>84</td><td>4</td></tr>",
                            "<tr><td>153</td><td>5</td></tr>",
                            "<tr><td>110</td><td>8</td></tr>",
                            "<tr><td>10</td><td>4</td></tr>",
                            "<tr><td>133</td><td>6</td></tr>",
                            "<tr><td>61</td><td>5</td></tr>",
                            "<tr><td>196</td><td>4</td></tr>",
                            "<tr><td>90</td><td>4</td></tr>",
                            "<tr><td>41</td><td>2</td></tr>",
                            "<tr><td>104</td><td>4</td></tr>",
                            "<tr><td>4</td><td>6</td></tr>",
                            "<tr><td>147</td><td>1</td></tr>",
                            "<tr><td>119</td><td>5</td></tr>",
                            "<tr><td>96</td><td>7</td></tr>",
                            "<tr><td>165</td><td>7</td></tr>",
                            "<tr><td>142</td><td>2</td></tr>",
                            "<tr><td>188</td><td>6</td></tr>",
                            "<tr><td>125</td><td>1</td></tr>",
                            "<tr><td>65</td><td>1</td></tr>",
                            "<tr><td>79</td><td>5</td></tr>",
                            "<tr><td>19</td><td>6</td></tr>",
                            "<tr><td>171</td><td>5</td></tr>",
                            "<tr><td>73</td><td>4</td></tr>",
                            "<tr><td>25</td><td>2</td></tr>",
                            "<tr><td>36</td><td>6</td></tr>",
                            "<tr><td>105</td><td>2</td></tr>",
                            "<tr><td>179</td><td>3</td></tr>",
                            "<tr><td>85</td><td>4</td></tr>",
                            "<tr><td>136</td><td>3</td></tr>",
                            "<tr><td>62</td><td>5</td></tr>",
                            "<tr><td>13</td><td>4</td></tr>",
                            "<tr><td>42</td><td>6</td></tr>",
                            "<tr><td>5</td><td>4</td></tr>",
                            "<tr><td>56</td><td>2</td></tr>",
                            "<tr><td>99</td><td>5</td></tr>",
                            "<tr><td>148</td><td>6</td></tr>",
                            "<tr><td>168</td><td>5</td></tr>",
                            "<tr><td>191</td><td>5</td></tr>",
                            "<tr><td>116</td><td>2</td></tr>",
                            "<tr><td>139</td><td>7</td></tr>",
                            "<tr><td>162</td><td>3</td></tr>",
                            "<tr><td>185</td><td>12</td></tr>",
                            "<tr><td>128</td><td>5</td></tr>",
                            "<tr><td>122</td><td>9</td></tr>",
                            "<tr><td>22</td><td>6</td></tr>",
                            "<tr><td>76</td><td>3</td></tr>",
                            "<tr><td>59</td><td>7</td></tr>",
                            "<tr><td>108</td><td>2</td></tr>",
                            "<tr><td>82</td><td>6</td></tr>",
                            "<tr><td>39</td><td>7</td></tr>",
                            "<tr><td>33</td><td>6</td></tr>",
                            "<tr><td>182</td><td>12</td></tr>",
                            "<tr><td>16</td><td>5</td></tr>",
                            "<tr><td>88</td><td>8</td></tr>",
                            "<tr><td>102</td><td>2</td></tr>",
                            "<tr><td>53</td><td>2</td></tr>",
                            "<tr><td>45</td><td>5</td></tr>",
                            "<tr><td>145</td><td>6</td></tr>",
                            "<tr><td>2</td><td>4</td></tr>",
                            "<tr><td>48</td><td>9</td></tr>",
                            "<tr><td>71</td><td>3</td></tr>",
                            "<tr><td>94</td><td>10</td></tr>",
                            "<tr><td>117</td><td>8</td></tr>",
                            "<tr><td>140</td><td>8</td></tr>",
                            "<tr><td>163</td><td>7</td></tr>",
                            "<tr><td>186</td><td>4</td></tr>",
                            "<tr><td>77</td><td>6</td></tr>",
                            "<tr><td>17</td><td>6</td></tr>",
                            "<tr><td>31</td><td>3</td></tr>",
                            "<tr><td>123</td><td>5</td></tr>",
                            "<tr><td>60</td><td>1</td></tr>",
                            "<tr><td>83</td><td>8</td></tr>",
                            "<tr><td>177</td><td>4</td></tr>",
                            "<tr><td>154</td><td>5</td></tr>",
                            "<tr><td>134</td><td>6</td></tr>",
                            "<tr><td>34</td><td>4</td></tr>",
                            "<tr><td>40</td><td>4</td></tr>",
                            "<tr><td>11</td><td>4</td></tr>",
                            "<tr><td>183</td><td>4</td></tr>",
                            "<tr><td>111</td><td>5</td></tr>",
                            "<tr><td>160</td><td>5</td></tr>",
                            "<tr><td>54</td><td>6</td></tr>",
                            "<tr><td>91</td><td>4</td></tr>",
                            "<tr><td>103</td><td>4</td></tr>",
                            "<tr><td>97</td><td>7</td></tr>",
                            "<tr><td>197</td><td>6</td></tr>",
                            "<tr><td>143</td><td>7</td></tr>",
                            "<tr><td>120</td><td>6</td></tr>",
                            "<tr><td>166</td><td>3</td></tr>",
                            "<tr><td>114</td><td>4</td></tr>",
                            "<tr><td>20</td><td>5</td></tr>",
                            "<tr><td>68</td><td>3</td></tr>",
                            "<tr><td>80</td><td>7</td></tr>",
                            "<tr><td>28</td><td>6</td></tr>",
                            "<tr><td>174</td><td>4</td></tr>",
                            "<tr><td>74</td><td>9</td></tr>",
                            "<tr><td>131</td><td>5</td></tr>",
                            "<tr><td>180</td><td>3</td></tr>",
                            "<tr><td>57</td><td>4</td></tr>",
                            "<tr><td>157</td><td>5</td></tr>",
                            "<tr><td>14</td><td>3</td></tr>",
                            "<tr><td>37</td><td>3</td></tr>",
                            "<tr><td>137</td><td>6</td></tr>",
                            "<tr><td>8</td><td>5</td></tr>",
                            "<tr><td>51</td><td>5</td></tr>",
                            "<tr><td>151</td><td>3</td></tr>",
                            "<tr><td>194</td><td>1</td></tr>",
                            "<tr><td>100</td><td>4</td></tr>",
                            "</table>"
                        ]
                    }
                }
            ],
            "execution_count": 1
        },
        {
            "cell_type": "markdown",
            "source": [
                "Listázzuk azon vendégek adatait, akik a legtöbb férőhelyes szobát (vagy szobákat) már lefoglalták!\n",
                "\n",
                "- Csak klímás szoba jöhet számításba"
            ],
            "metadata": {
                "language": "sql",
                "azdata_cell_guid": "9fd75438-5f8e-49be-8e2c-ce701b334ad4"
            },
            "attachments": {}
        },
        {
            "cell_type": "code",
            "source": [
                "SELECT *\r\n",
                "FROM Vendeg v join Foglalas f on v.USERNEV = f.UGYFEL_FK\r\n",
                "              JOIN szoba sz on f.SZOBA_FK = sz.SZOBA_ID\r\n",
                "where sz.FEROHELY = MAX(FEROHELY) and sz.KLIMAS = 'i'"
            ],
            "metadata": {
                "language": "sql",
                "azdata_cell_guid": "cfef9cbe-e01a-468c-8098-8fec0131d148"
            },
            "outputs": [
                {
                    "output_type": "error",
                    "ename": "",
                    "evalue": "Msg 147, Level 15, State 1, Line 4\r\nAn aggregate may not appear in the WHERE clause unless it is in a subquery contained in a HAVING clause or a select list, and the column being aggregated is an outer reference.",
                    "traceback": []
                },
                {
                    "output_type": "display_data",
                    "data": {
                        "text/html": "Total execution time: 00:00:00.004"
                    },
                    "metadata": {}
                }
            ],
            "execution_count": 6
        },
        {
            "cell_type": "markdown",
            "source": [
                "Jelenítsük meg, hogy az egyes szálláshelyek szobáit esetén a legutolsó 5 foglalás átlagosan hány főre történt!\n",
                "\n",
                "- A számításnál vegyük figyelembe a felnőtteket és a gyermekeket is\n",
                "- A foglalás dátumánál a METTOL mezőt használjuk"
            ],
            "metadata": {
                "language": "sql",
                "azdata_cell_guid": "d2990905-7f33-48ac-9760-4d3aaced17b2"
            },
            "attachments": {}
        },
        {
            "cell_type": "code",
            "source": [
                "SELECT *\r\n",
                "from foglalas\r\n",
                "order by METTOL asc"
            ],
            "metadata": {
                "language": "sql",
                "azdata_cell_guid": "5a7d59ba-01dd-426f-8db9-63bbd2e88df1"
            },
            "outputs": [
                {
                    "output_type": "display_data",
                    "data": {
                        "text/html": "(294 rows affected)"
                    },
                    "metadata": {}
                },
                {
                    "output_type": "display_data",
                    "data": {
                        "text/html": "Total execution time: 00:00:00.053"
                    },
                    "metadata": {}
                },
                {
                    "output_type": "execute_result",
                    "metadata": {},
                    "execution_count": 2,
                    "data": {
                        "application/vnd.dataresource+json": {
                            "schema": {
                                "fields": [
                                    {
                                        "name": "SZOBA_ID"
                                    },
                                    {
                                        "name": "SZOBA_SZAMA"
                                    },
                                    {
                                        "name": "FEROHELY"
                                    },
                                    {
                                        "name": "POTAGY"
                                    },
                                    {
                                        "name": "KLIMAS"
                                    },
                                    {
                                        "name": "SZALLAS_FK"
                                    }
                                ]
                            },
                            "data": [
                                {
                                    "SZOBA_ID": "1",
                                    "SZOBA_SZAMA": "1",
                                    "FEROHELY": "3",
                                    "POTAGY": "0",
                                    "KLIMAS": "n",
                                    "SZALLAS_FK": "1"
                                },
                                {
                                    "SZOBA_ID": "2",
                                    "SZOBA_SZAMA": "2",
                                    "FEROHELY": "3",
                                    "POTAGY": "1",
                                    "KLIMAS": "i",
                                    "SZALLAS_FK": "1"
                                },
                                {
                                    "SZOBA_ID": "3",
                                    "SZOBA_SZAMA": "3",
                                    "FEROHELY": "3",
                                    "POTAGY": "1",
                                    "KLIMAS": "i",
                                    "SZALLAS_FK": "1"
                                },
                                {
                                    "SZOBA_ID": "4",
                                    "SZOBA_SZAMA": "4",
                                    "FEROHELY": "2",
                                    "POTAGY": "1",
                                    "KLIMAS": "i",
                                    "SZALLAS_FK": "1"
                                },
                                {
                                    "SZOBA_ID": "5",
                                    "SZOBA_SZAMA": "5",
                                    "FEROHELY": "2",
                                    "POTAGY": "0",
                                    "KLIMAS": "i",
                                    "SZALLAS_FK": "1"
                                },
                                {
                                    "SZOBA_ID": "6",
                                    "SZOBA_SZAMA": "6",
                                    "FEROHELY": "3",
                                    "POTAGY": "0",
                                    "KLIMAS": "i",
                                    "SZALLAS_FK": "1"
                                },
                                {
                                    "SZOBA_ID": "7",
                                    "SZOBA_SZAMA": "7",
                                    "FEROHELY": "2",
                                    "POTAGY": "0",
                                    "KLIMAS": "i",
                                    "SZALLAS_FK": "1"
                                },
                                {
                                    "SZOBA_ID": "8",
                                    "SZOBA_SZAMA": "8",
                                    "FEROHELY": "3",
                                    "POTAGY": "0",
                                    "KLIMAS": "n",
                                    "SZALLAS_FK": "1"
                                },
                                {
                                    "SZOBA_ID": "9",
                                    "SZOBA_SZAMA": "9",
                                    "FEROHELY": "3",
                                    "POTAGY": "1",
                                    "KLIMAS": "i",
                                    "SZALLAS_FK": "1"
                                },
                                {
                                    "SZOBA_ID": "10",
                                    "SZOBA_SZAMA": "10",
                                    "FEROHELY": "3",
                                    "POTAGY": "0",
                                    "KLIMAS": "i",
                                    "SZALLAS_FK": "1"
                                },
                                {
                                    "SZOBA_ID": "11",
                                    "SZOBA_SZAMA": "11",
                                    "FEROHELY": "2",
                                    "POTAGY": "1",
                                    "KLIMAS": "i",
                                    "SZALLAS_FK": "1"
                                },
                                {
                                    "SZOBA_ID": "12",
                                    "SZOBA_SZAMA": "12",
                                    "FEROHELY": "2",
                                    "POTAGY": "1",
                                    "KLIMAS": "i",
                                    "SZALLAS_FK": "1"
                                },
                                {
                                    "SZOBA_ID": "13",
                                    "SZOBA_SZAMA": "1",
                                    "FEROHELY": "3",
                                    "POTAGY": "0",
                                    "KLIMAS": "i",
                                    "SZALLAS_FK": "2"
                                },
                                {
                                    "SZOBA_ID": "14",
                                    "SZOBA_SZAMA": "2",
                                    "FEROHELY": "3",
                                    "POTAGY": "2",
                                    "KLIMAS": "i",
                                    "SZALLAS_FK": "2"
                                },
                                {
                                    "SZOBA_ID": "15",
                                    "SZOBA_SZAMA": "3",
                                    "FEROHELY": "2",
                                    "POTAGY": "1",
                                    "KLIMAS": "i",
                                    "SZALLAS_FK": "2"
                                },
                                {
                                    "SZOBA_ID": "16",
                                    "SZOBA_SZAMA": "4",
                                    "FEROHELY": "3",
                                    "POTAGY": "1",
                                    "KLIMAS": "i",
                                    "SZALLAS_FK": "2"
                                },
                                {
                                    "SZOBA_ID": "17",
                                    "SZOBA_SZAMA": "1",
                                    "FEROHELY": "3",
                                    "POTAGY": "1",
                                    "KLIMAS": "i",
                                    "SZALLAS_FK": "3"
                                },
                                {
                                    "SZOBA_ID": "18",
                                    "SZOBA_SZAMA": "2",
                                    "FEROHELY": "3",
                                    "POTAGY": "2",
                                    "KLIMAS": "n",
                                    "SZALLAS_FK": "3"
                                },
                                {
                                    "SZOBA_ID": "19",
                                    "SZOBA_SZAMA": "3",
                                    "FEROHELY": "2",
                                    "POTAGY": "1",
                                    "KLIMAS": "i",
                                    "SZALLAS_FK": "3"
                                },
                                {
                                    "SZOBA_ID": "20",
                                    "SZOBA_SZAMA": "4",
                                    "FEROHELY": "3",
                                    "POTAGY": "0",
                                    "KLIMAS": "i",
                                    "SZALLAS_FK": "3"
                                },
                                {
                                    "SZOBA_ID": "21",
                                    "SZOBA_SZAMA": "5",
                                    "FEROHELY": "2",
                                    "POTAGY": "1",
                                    "KLIMAS": "i",
                                    "SZALLAS_FK": "3"
                                },
                                {
                                    "SZOBA_ID": "22",
                                    "SZOBA_SZAMA": "6",
                                    "FEROHELY": "3",
                                    "POTAGY": "2",
                                    "KLIMAS": "n",
                                    "SZALLAS_FK": "3"
                                },
                                {
                                    "SZOBA_ID": "23",
                                    "SZOBA_SZAMA": "7",
                                    "FEROHELY": "2",
                                    "POTAGY": "0",
                                    "KLIMAS": "n",
                                    "SZALLAS_FK": "3"
                                },
                                {
                                    "SZOBA_ID": "24",
                                    "SZOBA_SZAMA": "8",
                                    "FEROHELY": "4",
                                    "POTAGY": "1",
                                    "KLIMAS": "i",
                                    "SZALLAS_FK": "3"
                                },
                                {
                                    "SZOBA_ID": "25",
                                    "SZOBA_SZAMA": "1",
                                    "FEROHELY": "3",
                                    "POTAGY": "1",
                                    "KLIMAS": "n",
                                    "SZALLAS_FK": "4"
                                },
                                {
                                    "SZOBA_ID": "26",
                                    "SZOBA_SZAMA": "2",
                                    "FEROHELY": "2",
                                    "POTAGY": "1",
                                    "KLIMAS": "i",
                                    "SZALLAS_FK": "4"
                                },
                                {
                                    "SZOBA_ID": "27",
                                    "SZOBA_SZAMA": "3",
                                    "FEROHELY": "3",
                                    "POTAGY": "1",
                                    "KLIMAS": "n",
                                    "SZALLAS_FK": "4"
                                },
                                {
                                    "SZOBA_ID": "28",
                                    "SZOBA_SZAMA": "4",
                                    "FEROHELY": "2",
                                    "POTAGY": "1",
                                    "KLIMAS": "i",
                                    "SZALLAS_FK": "4"
                                },
                                {
                                    "SZOBA_ID": "29",
                                    "SZOBA_SZAMA": "5",
                                    "FEROHELY": "2",
                                    "POTAGY": "0",
                                    "KLIMAS": "n",
                                    "SZALLAS_FK": "4"
                                },
                                {
                                    "SZOBA_ID": "30",
                                    "SZOBA_SZAMA": "6",
                                    "FEROHELY": "3",
                                    "POTAGY": "1",
                                    "KLIMAS": "i",
                                    "SZALLAS_FK": "4"
                                },
                                {
                                    "SZOBA_ID": "31",
                                    "SZOBA_SZAMA": "7",
                                    "FEROHELY": "3",
                                    "POTAGY": "1",
                                    "KLIMAS": "i",
                                    "SZALLAS_FK": "4"
                                },
                                {
                                    "SZOBA_ID": "32",
                                    "SZOBA_SZAMA": "8",
                                    "FEROHELY": "2",
                                    "POTAGY": "0",
                                    "KLIMAS": "i",
                                    "SZALLAS_FK": "4"
                                },
                                {
                                    "SZOBA_ID": "33",
                                    "SZOBA_SZAMA": "9",
                                    "FEROHELY": "2",
                                    "POTAGY": "2",
                                    "KLIMAS": "i",
                                    "SZALLAS_FK": "4"
                                },
                                {
                                    "SZOBA_ID": "34",
                                    "SZOBA_SZAMA": "10",
                                    "FEROHELY": "3",
                                    "POTAGY": "1",
                                    "KLIMAS": "i",
                                    "SZALLAS_FK": "4"
                                },
                                {
                                    "SZOBA_ID": "35",
                                    "SZOBA_SZAMA": "11",
                                    "FEROHELY": "3",
                                    "POTAGY": "0",
                                    "KLIMAS": "i",
                                    "SZALLAS_FK": "4"
                                },
                                {
                                    "SZOBA_ID": "36",
                                    "SZOBA_SZAMA": "12",
                                    "FEROHELY": "3",
                                    "POTAGY": "2",
                                    "KLIMAS": "i",
                                    "SZALLAS_FK": "4"
                                },
                                {
                                    "SZOBA_ID": "37",
                                    "SZOBA_SZAMA": "13",
                                    "FEROHELY": "2",
                                    "POTAGY": "1",
                                    "KLIMAS": "i",
                                    "SZALLAS_FK": "4"
                                },
                                {
                                    "SZOBA_ID": "38",
                                    "SZOBA_SZAMA": "14",
                                    "FEROHELY": "2",
                                    "POTAGY": "1",
                                    "KLIMAS": "i",
                                    "SZALLAS_FK": "4"
                                },
                                {
                                    "SZOBA_ID": "39",
                                    "SZOBA_SZAMA": "15",
                                    "FEROHELY": "2",
                                    "POTAGY": "0",
                                    "KLIMAS": "i",
                                    "SZALLAS_FK": "4"
                                },
                                {
                                    "SZOBA_ID": "40",
                                    "SZOBA_SZAMA": "1",
                                    "FEROHELY": "3",
                                    "POTAGY": "0",
                                    "KLIMAS": "i",
                                    "SZALLAS_FK": "5"
                                },
                                {
                                    "SZOBA_ID": "41",
                                    "SZOBA_SZAMA": "2",
                                    "FEROHELY": "3",
                                    "POTAGY": "0",
                                    "KLIMAS": "n",
                                    "SZALLAS_FK": "5"
                                },
                                {
                                    "SZOBA_ID": "42",
                                    "SZOBA_SZAMA": "3",
                                    "FEROHELY": "2",
                                    "POTAGY": "1",
                                    "KLIMAS": "i",
                                    "SZALLAS_FK": "5"
                                },
                                {
                                    "SZOBA_ID": "43",
                                    "SZOBA_SZAMA": "4",
                                    "FEROHELY": "3",
                                    "POTAGY": "0",
                                    "KLIMAS": "i",
                                    "SZALLAS_FK": "5"
                                },
                                {
                                    "SZOBA_ID": "44",
                                    "SZOBA_SZAMA": "5",
                                    "FEROHELY": "3",
                                    "POTAGY": "0",
                                    "KLIMAS": "i",
                                    "SZALLAS_FK": "5"
                                },
                                {
                                    "SZOBA_ID": "45",
                                    "SZOBA_SZAMA": "6",
                                    "FEROHELY": "2",
                                    "POTAGY": "0",
                                    "KLIMAS": "n",
                                    "SZALLAS_FK": "5"
                                },
                                {
                                    "SZOBA_ID": "46",
                                    "SZOBA_SZAMA": "7",
                                    "FEROHELY": "3",
                                    "POTAGY": "0",
                                    "KLIMAS": "i",
                                    "SZALLAS_FK": "5"
                                },
                                {
                                    "SZOBA_ID": "47",
                                    "SZOBA_SZAMA": "8",
                                    "FEROHELY": "2",
                                    "POTAGY": "0",
                                    "KLIMAS": "i",
                                    "SZALLAS_FK": "5"
                                },
                                {
                                    "SZOBA_ID": "48",
                                    "SZOBA_SZAMA": "9",
                                    "FEROHELY": "3",
                                    "POTAGY": "0",
                                    "KLIMAS": "i",
                                    "SZALLAS_FK": "5"
                                },
                                {
                                    "SZOBA_ID": "49",
                                    "SZOBA_SZAMA": "10",
                                    "FEROHELY": "3",
                                    "POTAGY": "0",
                                    "KLIMAS": "i",
                                    "SZALLAS_FK": "5"
                                },
                                {
                                    "SZOBA_ID": "50",
                                    "SZOBA_SZAMA": "1",
                                    "FEROHELY": "2",
                                    "POTAGY": "0",
                                    "KLIMAS": "n",
                                    "SZALLAS_FK": "6"
                                },
                                {
                                    "SZOBA_ID": "51",
                                    "SZOBA_SZAMA": "2",
                                    "FEROHELY": "3",
                                    "POTAGY": "1",
                                    "KLIMAS": "i",
                                    "SZALLAS_FK": "6"
                                },
                                {
                                    "SZOBA_ID": "52",
                                    "SZOBA_SZAMA": "3",
                                    "FEROHELY": "2",
                                    "POTAGY": "1",
                                    "KLIMAS": "i",
                                    "SZALLAS_FK": "6"
                                },
                                {
                                    "SZOBA_ID": "53",
                                    "SZOBA_SZAMA": "4",
                                    "FEROHELY": "2",
                                    "POTAGY": "1",
                                    "KLIMAS": "i",
                                    "SZALLAS_FK": "6"
                                },
                                {
                                    "SZOBA_ID": "54",
                                    "SZOBA_SZAMA": "5",
                                    "FEROHELY": "3",
                                    "POTAGY": "0",
                                    "KLIMAS": "n",
                                    "SZALLAS_FK": "6"
                                },
                                {
                                    "SZOBA_ID": "55",
                                    "SZOBA_SZAMA": "6",
                                    "FEROHELY": "2",
                                    "POTAGY": "1",
                                    "KLIMAS": "i",
                                    "SZALLAS_FK": "6"
                                },
                                {
                                    "SZOBA_ID": "56",
                                    "SZOBA_SZAMA": "7",
                                    "FEROHELY": "2",
                                    "POTAGY": "0",
                                    "KLIMAS": "i",
                                    "SZALLAS_FK": "6"
                                },
                                {
                                    "SZOBA_ID": "57",
                                    "SZOBA_SZAMA": "8",
                                    "FEROHELY": "2",
                                    "POTAGY": "0",
                                    "KLIMAS": "n",
                                    "SZALLAS_FK": "6"
                                },
                                {
                                    "SZOBA_ID": "58",
                                    "SZOBA_SZAMA": "9",
                                    "FEROHELY": "2",
                                    "POTAGY": "1",
                                    "KLIMAS": "i",
                                    "SZALLAS_FK": "6"
                                },
                                {
                                    "SZOBA_ID": "59",
                                    "SZOBA_SZAMA": "10",
                                    "FEROHELY": "2",
                                    "POTAGY": "1",
                                    "KLIMAS": "n",
                                    "SZALLAS_FK": "6"
                                },
                                {
                                    "SZOBA_ID": "60",
                                    "SZOBA_SZAMA": "11",
                                    "FEROHELY": "3",
                                    "POTAGY": "0",
                                    "KLIMAS": "i",
                                    "SZALLAS_FK": "6"
                                },
                                {
                                    "SZOBA_ID": "61",
                                    "SZOBA_SZAMA": "12",
                                    "FEROHELY": "3",
                                    "POTAGY": "0",
                                    "KLIMAS": "i",
                                    "SZALLAS_FK": "6"
                                },
                                {
                                    "SZOBA_ID": "62",
                                    "SZOBA_SZAMA": "13",
                                    "FEROHELY": "2",
                                    "POTAGY": "0",
                                    "KLIMAS": "n",
                                    "SZALLAS_FK": "6"
                                },
                                {
                                    "SZOBA_ID": "63",
                                    "SZOBA_SZAMA": "14",
                                    "FEROHELY": "2",
                                    "POTAGY": "0",
                                    "KLIMAS": "n",
                                    "SZALLAS_FK": "6"
                                },
                                {
                                    "SZOBA_ID": "64",
                                    "SZOBA_SZAMA": "15",
                                    "FEROHELY": "2",
                                    "POTAGY": "0",
                                    "KLIMAS": "i",
                                    "SZALLAS_FK": "6"
                                },
                                {
                                    "SZOBA_ID": "65",
                                    "SZOBA_SZAMA": "16",
                                    "FEROHELY": "2",
                                    "POTAGY": "0",
                                    "KLIMAS": "n",
                                    "SZALLAS_FK": "6"
                                },
                                {
                                    "SZOBA_ID": "66",
                                    "SZOBA_SZAMA": "17",
                                    "FEROHELY": "3",
                                    "POTAGY": "0",
                                    "KLIMAS": "n",
                                    "SZALLAS_FK": "6"
                                },
                                {
                                    "SZOBA_ID": "67",
                                    "SZOBA_SZAMA": "18",
                                    "FEROHELY": "2",
                                    "POTAGY": "2",
                                    "KLIMAS": "i",
                                    "SZALLAS_FK": "6"
                                },
                                {
                                    "SZOBA_ID": "68",
                                    "SZOBA_SZAMA": "19",
                                    "FEROHELY": "2",
                                    "POTAGY": "2",
                                    "KLIMAS": "i",
                                    "SZALLAS_FK": "6"
                                },
                                {
                                    "SZOBA_ID": "69",
                                    "SZOBA_SZAMA": "20",
                                    "FEROHELY": "3",
                                    "POTAGY": "1",
                                    "KLIMAS": "n",
                                    "SZALLAS_FK": "6"
                                },
                                {
                                    "SZOBA_ID": "70",
                                    "SZOBA_SZAMA": "21",
                                    "FEROHELY": "2",
                                    "POTAGY": "1",
                                    "KLIMAS": "i",
                                    "SZALLAS_FK": "6"
                                },
                                {
                                    "SZOBA_ID": "71",
                                    "SZOBA_SZAMA": "22",
                                    "FEROHELY": "3",
                                    "POTAGY": "0",
                                    "KLIMAS": "i",
                                    "SZALLAS_FK": "6"
                                },
                                {
                                    "SZOBA_ID": "72",
                                    "SZOBA_SZAMA": "23",
                                    "FEROHELY": "2",
                                    "POTAGY": "0",
                                    "KLIMAS": "n",
                                    "SZALLAS_FK": "6"
                                },
                                {
                                    "SZOBA_ID": "73",
                                    "SZOBA_SZAMA": "24",
                                    "FEROHELY": "2",
                                    "POTAGY": "1",
                                    "KLIMAS": "i",
                                    "SZALLAS_FK": "6"
                                },
                                {
                                    "SZOBA_ID": "74",
                                    "SZOBA_SZAMA": "25",
                                    "FEROHELY": "3",
                                    "POTAGY": "1",
                                    "KLIMAS": "n",
                                    "SZALLAS_FK": "6"
                                },
                                {
                                    "SZOBA_ID": "75",
                                    "SZOBA_SZAMA": "26",
                                    "FEROHELY": "2",
                                    "POTAGY": "1",
                                    "KLIMAS": "n",
                                    "SZALLAS_FK": "6"
                                },
                                {
                                    "SZOBA_ID": "76",
                                    "SZOBA_SZAMA": "27",
                                    "FEROHELY": "2",
                                    "POTAGY": "0",
                                    "KLIMAS": "i",
                                    "SZALLAS_FK": "6"
                                },
                                {
                                    "SZOBA_ID": "77",
                                    "SZOBA_SZAMA": "28",
                                    "FEROHELY": "3",
                                    "POTAGY": "1",
                                    "KLIMAS": "i",
                                    "SZALLAS_FK": "6"
                                },
                                {
                                    "SZOBA_ID": "78",
                                    "SZOBA_SZAMA": "29",
                                    "FEROHELY": "2",
                                    "POTAGY": "1",
                                    "KLIMAS": "n",
                                    "SZALLAS_FK": "6"
                                },
                                {
                                    "SZOBA_ID": "79",
                                    "SZOBA_SZAMA": "30",
                                    "FEROHELY": "3",
                                    "POTAGY": "0",
                                    "KLIMAS": "i",
                                    "SZALLAS_FK": "6"
                                },
                                {
                                    "SZOBA_ID": "80",
                                    "SZOBA_SZAMA": "31",
                                    "FEROHELY": "2",
                                    "POTAGY": "1",
                                    "KLIMAS": "i",
                                    "SZALLAS_FK": "6"
                                },
                                {
                                    "SZOBA_ID": "81",
                                    "SZOBA_SZAMA": "32",
                                    "FEROHELY": "2",
                                    "POTAGY": "0",
                                    "KLIMAS": "i",
                                    "SZALLAS_FK": "6"
                                },
                                {
                                    "SZOBA_ID": "82",
                                    "SZOBA_SZAMA": "33",
                                    "FEROHELY": "3",
                                    "POTAGY": "0",
                                    "KLIMAS": "i",
                                    "SZALLAS_FK": "6"
                                },
                                {
                                    "SZOBA_ID": "83",
                                    "SZOBA_SZAMA": "34",
                                    "FEROHELY": "3",
                                    "POTAGY": "0",
                                    "KLIMAS": "i",
                                    "SZALLAS_FK": "6"
                                },
                                {
                                    "SZOBA_ID": "84",
                                    "SZOBA_SZAMA": "35",
                                    "FEROHELY": "3",
                                    "POTAGY": "0",
                                    "KLIMAS": "i",
                                    "SZALLAS_FK": "6"
                                },
                                {
                                    "SZOBA_ID": "85",
                                    "SZOBA_SZAMA": "1",
                                    "FEROHELY": "2",
                                    "POTAGY": "1",
                                    "KLIMAS": "n",
                                    "SZALLAS_FK": "7"
                                },
                                {
                                    "SZOBA_ID": "86",
                                    "SZOBA_SZAMA": "2",
                                    "FEROHELY": "2",
                                    "POTAGY": "1",
                                    "KLIMAS": "i",
                                    "SZALLAS_FK": "7"
                                },
                                {
                                    "SZOBA_ID": "87",
                                    "SZOBA_SZAMA": "3",
                                    "FEROHELY": "3",
                                    "POTAGY": "0",
                                    "KLIMAS": "i",
                                    "SZALLAS_FK": "7"
                                },
                                {
                                    "SZOBA_ID": "88",
                                    "SZOBA_SZAMA": "4",
                                    "FEROHELY": "3",
                                    "POTAGY": "0",
                                    "KLIMAS": "n",
                                    "SZALLAS_FK": "7"
                                },
                                {
                                    "SZOBA_ID": "89",
                                    "SZOBA_SZAMA": "5",
                                    "FEROHELY": "3",
                                    "POTAGY": "0",
                                    "KLIMAS": "i",
                                    "SZALLAS_FK": "7"
                                },
                                {
                                    "SZOBA_ID": "90",
                                    "SZOBA_SZAMA": "6",
                                    "FEROHELY": "3",
                                    "POTAGY": "0",
                                    "KLIMAS": "i",
                                    "SZALLAS_FK": "7"
                                },
                                {
                                    "SZOBA_ID": "91",
                                    "SZOBA_SZAMA": "1",
                                    "FEROHELY": "2",
                                    "POTAGY": "0",
                                    "KLIMAS": "n",
                                    "SZALLAS_FK": "8"
                                },
                                {
                                    "SZOBA_ID": "92",
                                    "SZOBA_SZAMA": "2",
                                    "FEROHELY": "3",
                                    "POTAGY": "1",
                                    "KLIMAS": "i",
                                    "SZALLAS_FK": "8"
                                },
                                {
                                    "SZOBA_ID": "93",
                                    "SZOBA_SZAMA": "3",
                                    "FEROHELY": "3",
                                    "POTAGY": "2",
                                    "KLIMAS": "i",
                                    "SZALLAS_FK": "8"
                                },
                                {
                                    "SZOBA_ID": "94",
                                    "SZOBA_SZAMA": "4",
                                    "FEROHELY": "2",
                                    "POTAGY": "0",
                                    "KLIMAS": "n",
                                    "SZALLAS_FK": "8"
                                },
                                {
                                    "SZOBA_ID": "95",
                                    "SZOBA_SZAMA": "5",
                                    "FEROHELY": "3",
                                    "POTAGY": "1",
                                    "KLIMAS": "i",
                                    "SZALLAS_FK": "8"
                                },
                                {
                                    "SZOBA_ID": "96",
                                    "SZOBA_SZAMA": "6",
                                    "FEROHELY": "3",
                                    "POTAGY": "0",
                                    "KLIMAS": "n",
                                    "SZALLAS_FK": "8"
                                },
                                {
                                    "SZOBA_ID": "97",
                                    "SZOBA_SZAMA": "7",
                                    "FEROHELY": "3",
                                    "POTAGY": "2",
                                    "KLIMAS": "n",
                                    "SZALLAS_FK": "8"
                                },
                                {
                                    "SZOBA_ID": "98",
                                    "SZOBA_SZAMA": "8",
                                    "FEROHELY": "2",
                                    "POTAGY": "0",
                                    "KLIMAS": "n",
                                    "SZALLAS_FK": "8"
                                },
                                {
                                    "SZOBA_ID": "99",
                                    "SZOBA_SZAMA": "9",
                                    "FEROHELY": "2",
                                    "POTAGY": "0",
                                    "KLIMAS": "n",
                                    "SZALLAS_FK": "8"
                                },
                                {
                                    "SZOBA_ID": "100",
                                    "SZOBA_SZAMA": "10",
                                    "FEROHELY": "2",
                                    "POTAGY": "1",
                                    "KLIMAS": "i",
                                    "SZALLAS_FK": "8"
                                },
                                {
                                    "SZOBA_ID": "101",
                                    "SZOBA_SZAMA": "11",
                                    "FEROHELY": "2",
                                    "POTAGY": "0",
                                    "KLIMAS": "i",
                                    "SZALLAS_FK": "8"
                                },
                                {
                                    "SZOBA_ID": "102",
                                    "SZOBA_SZAMA": "12",
                                    "FEROHELY": "2",
                                    "POTAGY": "1",
                                    "KLIMAS": "i",
                                    "SZALLAS_FK": "8"
                                },
                                {
                                    "SZOBA_ID": "103",
                                    "SZOBA_SZAMA": "13",
                                    "FEROHELY": "2",
                                    "POTAGY": "1",
                                    "KLIMAS": "i",
                                    "SZALLAS_FK": "8"
                                },
                                {
                                    "SZOBA_ID": "104",
                                    "SZOBA_SZAMA": "14",
                                    "FEROHELY": "3",
                                    "POTAGY": "0",
                                    "KLIMAS": "i",
                                    "SZALLAS_FK": "8"
                                },
                                {
                                    "SZOBA_ID": "105",
                                    "SZOBA_SZAMA": "15",
                                    "FEROHELY": "2",
                                    "POTAGY": "0",
                                    "KLIMAS": "i",
                                    "SZALLAS_FK": "8"
                                },
                                {
                                    "SZOBA_ID": "106",
                                    "SZOBA_SZAMA": "16",
                                    "FEROHELY": "2",
                                    "POTAGY": "0",
                                    "KLIMAS": "i",
                                    "SZALLAS_FK": "8"
                                },
                                {
                                    "SZOBA_ID": "107",
                                    "SZOBA_SZAMA": "17",
                                    "FEROHELY": "2",
                                    "POTAGY": "1",
                                    "KLIMAS": "n",
                                    "SZALLAS_FK": "8"
                                },
                                {
                                    "SZOBA_ID": "108",
                                    "SZOBA_SZAMA": "18",
                                    "FEROHELY": "2",
                                    "POTAGY": "0",
                                    "KLIMAS": "i",
                                    "SZALLAS_FK": "8"
                                },
                                {
                                    "SZOBA_ID": "109",
                                    "SZOBA_SZAMA": "19",
                                    "FEROHELY": "2",
                                    "POTAGY": "1",
                                    "KLIMAS": "i",
                                    "SZALLAS_FK": "8"
                                },
                                {
                                    "SZOBA_ID": "110",
                                    "SZOBA_SZAMA": "20",
                                    "FEROHELY": "2",
                                    "POTAGY": "0",
                                    "KLIMAS": "i",
                                    "SZALLAS_FK": "8"
                                },
                                {
                                    "SZOBA_ID": "111",
                                    "SZOBA_SZAMA": "21",
                                    "FEROHELY": "2",
                                    "POTAGY": "1",
                                    "KLIMAS": "i",
                                    "SZALLAS_FK": "8"
                                },
                                {
                                    "SZOBA_ID": "112",
                                    "SZOBA_SZAMA": "22",
                                    "FEROHELY": "3",
                                    "POTAGY": "0",
                                    "KLIMAS": "i",
                                    "SZALLAS_FK": "8"
                                },
                                {
                                    "SZOBA_ID": "113",
                                    "SZOBA_SZAMA": "23",
                                    "FEROHELY": "3",
                                    "POTAGY": "2",
                                    "KLIMAS": "i",
                                    "SZALLAS_FK": "8"
                                },
                                {
                                    "SZOBA_ID": "114",
                                    "SZOBA_SZAMA": "24",
                                    "FEROHELY": "2",
                                    "POTAGY": "1",
                                    "KLIMAS": "n",
                                    "SZALLAS_FK": "8"
                                },
                                {
                                    "SZOBA_ID": "115",
                                    "SZOBA_SZAMA": "25",
                                    "FEROHELY": "3",
                                    "POTAGY": "0",
                                    "KLIMAS": "i",
                                    "SZALLAS_FK": "8"
                                },
                                {
                                    "SZOBA_ID": "116",
                                    "SZOBA_SZAMA": "26",
                                    "FEROHELY": "3",
                                    "POTAGY": "0",
                                    "KLIMAS": "i",
                                    "SZALLAS_FK": "8"
                                },
                                {
                                    "SZOBA_ID": "117",
                                    "SZOBA_SZAMA": "27",
                                    "FEROHELY": "3",
                                    "POTAGY": "1",
                                    "KLIMAS": "i",
                                    "SZALLAS_FK": "8"
                                },
                                {
                                    "SZOBA_ID": "118",
                                    "SZOBA_SZAMA": "28",
                                    "FEROHELY": "2",
                                    "POTAGY": "1",
                                    "KLIMAS": "i",
                                    "SZALLAS_FK": "8"
                                },
                                {
                                    "SZOBA_ID": "119",
                                    "SZOBA_SZAMA": "29",
                                    "FEROHELY": "2",
                                    "POTAGY": "0",
                                    "KLIMAS": "i",
                                    "SZALLAS_FK": "8"
                                },
                                {
                                    "SZOBA_ID": "120",
                                    "SZOBA_SZAMA": "30",
                                    "FEROHELY": "3",
                                    "POTAGY": "1",
                                    "KLIMAS": "i",
                                    "SZALLAS_FK": "8"
                                },
                                {
                                    "SZOBA_ID": "121",
                                    "SZOBA_SZAMA": "31",
                                    "FEROHELY": "2",
                                    "POTAGY": "1",
                                    "KLIMAS": "i",
                                    "SZALLAS_FK": "8"
                                },
                                {
                                    "SZOBA_ID": "122",
                                    "SZOBA_SZAMA": "32",
                                    "FEROHELY": "3",
                                    "POTAGY": "1",
                                    "KLIMAS": "i",
                                    "SZALLAS_FK": "8"
                                },
                                {
                                    "SZOBA_ID": "123",
                                    "SZOBA_SZAMA": "33",
                                    "FEROHELY": "3",
                                    "POTAGY": "0",
                                    "KLIMAS": "n",
                                    "SZALLAS_FK": "8"
                                },
                                {
                                    "SZOBA_ID": "124",
                                    "SZOBA_SZAMA": "34",
                                    "FEROHELY": "3",
                                    "POTAGY": "0",
                                    "KLIMAS": "n",
                                    "SZALLAS_FK": "8"
                                },
                                {
                                    "SZOBA_ID": "125",
                                    "SZOBA_SZAMA": "35",
                                    "FEROHELY": "2",
                                    "POTAGY": "1",
                                    "KLIMAS": "i",
                                    "SZALLAS_FK": "8"
                                },
                                {
                                    "SZOBA_ID": "126",
                                    "SZOBA_SZAMA": "36",
                                    "FEROHELY": "2",
                                    "POTAGY": "1",
                                    "KLIMAS": "n",
                                    "SZALLAS_FK": "8"
                                },
                                {
                                    "SZOBA_ID": "127",
                                    "SZOBA_SZAMA": "37",
                                    "FEROHELY": "2",
                                    "POTAGY": "1",
                                    "KLIMAS": "i",
                                    "SZALLAS_FK": "8"
                                },
                                {
                                    "SZOBA_ID": "128",
                                    "SZOBA_SZAMA": "38",
                                    "FEROHELY": "2",
                                    "POTAGY": "1",
                                    "KLIMAS": "i",
                                    "SZALLAS_FK": "8"
                                },
                                {
                                    "SZOBA_ID": "129",
                                    "SZOBA_SZAMA": "39",
                                    "FEROHELY": "2",
                                    "POTAGY": "1",
                                    "KLIMAS": "i",
                                    "SZALLAS_FK": "8"
                                },
                                {
                                    "SZOBA_ID": "130",
                                    "SZOBA_SZAMA": "1",
                                    "FEROHELY": "2",
                                    "POTAGY": "0",
                                    "KLIMAS": "n",
                                    "SZALLAS_FK": "9"
                                },
                                {
                                    "SZOBA_ID": "131",
                                    "SZOBA_SZAMA": "2",
                                    "FEROHELY": "2",
                                    "POTAGY": "0",
                                    "KLIMAS": "n",
                                    "SZALLAS_FK": "9"
                                },
                                {
                                    "SZOBA_ID": "132",
                                    "SZOBA_SZAMA": "3",
                                    "FEROHELY": "3",
                                    "POTAGY": "0",
                                    "KLIMAS": "i",
                                    "SZALLAS_FK": "9"
                                },
                                {
                                    "SZOBA_ID": "133",
                                    "SZOBA_SZAMA": "4",
                                    "FEROHELY": "3",
                                    "POTAGY": "0",
                                    "KLIMAS": "n",
                                    "SZALLAS_FK": "9"
                                },
                                {
                                    "SZOBA_ID": "134",
                                    "SZOBA_SZAMA": "5",
                                    "FEROHELY": "3",
                                    "POTAGY": "0",
                                    "KLIMAS": "i",
                                    "SZALLAS_FK": "9"
                                },
                                {
                                    "SZOBA_ID": "135",
                                    "SZOBA_SZAMA": "1",
                                    "FEROHELY": "3",
                                    "POTAGY": "0",
                                    "KLIMAS": "i",
                                    "SZALLAS_FK": "10"
                                },
                                {
                                    "SZOBA_ID": "136",
                                    "SZOBA_SZAMA": "2",
                                    "FEROHELY": "2",
                                    "POTAGY": "0",
                                    "KLIMAS": "n",
                                    "SZALLAS_FK": "10"
                                },
                                {
                                    "SZOBA_ID": "137",
                                    "SZOBA_SZAMA": "3",
                                    "FEROHELY": "2",
                                    "POTAGY": "1",
                                    "KLIMAS": "i",
                                    "SZALLAS_FK": "10"
                                },
                                {
                                    "SZOBA_ID": "138",
                                    "SZOBA_SZAMA": "4",
                                    "FEROHELY": "3",
                                    "POTAGY": "1",
                                    "KLIMAS": "i",
                                    "SZALLAS_FK": "10"
                                },
                                {
                                    "SZOBA_ID": "139",
                                    "SZOBA_SZAMA": "5",
                                    "FEROHELY": "2",
                                    "POTAGY": "1",
                                    "KLIMAS": "i",
                                    "SZALLAS_FK": "10"
                                },
                                {
                                    "SZOBA_ID": "140",
                                    "SZOBA_SZAMA": "6",
                                    "FEROHELY": "2",
                                    "POTAGY": "1",
                                    "KLIMAS": "i",
                                    "SZALLAS_FK": "10"
                                },
                                {
                                    "SZOBA_ID": "141",
                                    "SZOBA_SZAMA": "7",
                                    "FEROHELY": "2",
                                    "POTAGY": "0",
                                    "KLIMAS": "n",
                                    "SZALLAS_FK": "10"
                                },
                                {
                                    "SZOBA_ID": "142",
                                    "SZOBA_SZAMA": "8",
                                    "FEROHELY": "3",
                                    "POTAGY": "0",
                                    "KLIMAS": "n",
                                    "SZALLAS_FK": "10"
                                },
                                {
                                    "SZOBA_ID": "143",
                                    "SZOBA_SZAMA": "9",
                                    "FEROHELY": "3",
                                    "POTAGY": "1",
                                    "KLIMAS": "i",
                                    "SZALLAS_FK": "10"
                                },
                                {
                                    "SZOBA_ID": "144",
                                    "SZOBA_SZAMA": "10",
                                    "FEROHELY": "3",
                                    "POTAGY": "1",
                                    "KLIMAS": "n",
                                    "SZALLAS_FK": "10"
                                },
                                {
                                    "SZOBA_ID": "145",
                                    "SZOBA_SZAMA": "11",
                                    "FEROHELY": "2",
                                    "POTAGY": "2",
                                    "KLIMAS": "i",
                                    "SZALLAS_FK": "10"
                                },
                                {
                                    "SZOBA_ID": "146",
                                    "SZOBA_SZAMA": "12",
                                    "FEROHELY": "3",
                                    "POTAGY": "0",
                                    "KLIMAS": "i",
                                    "SZALLAS_FK": "10"
                                },
                                {
                                    "SZOBA_ID": "147",
                                    "SZOBA_SZAMA": "13",
                                    "FEROHELY": "2",
                                    "POTAGY": "0",
                                    "KLIMAS": "i",
                                    "SZALLAS_FK": "10"
                                },
                                {
                                    "SZOBA_ID": "148",
                                    "SZOBA_SZAMA": "14",
                                    "FEROHELY": "2",
                                    "POTAGY": "0",
                                    "KLIMAS": "i",
                                    "SZALLAS_FK": "10"
                                },
                                {
                                    "SZOBA_ID": "149",
                                    "SZOBA_SZAMA": "15",
                                    "FEROHELY": "2",
                                    "POTAGY": "0",
                                    "KLIMAS": "i",
                                    "SZALLAS_FK": "10"
                                },
                                {
                                    "SZOBA_ID": "150",
                                    "SZOBA_SZAMA": "16",
                                    "FEROHELY": "2",
                                    "POTAGY": "1",
                                    "KLIMAS": "i",
                                    "SZALLAS_FK": "10"
                                },
                                {
                                    "SZOBA_ID": "151",
                                    "SZOBA_SZAMA": "17",
                                    "FEROHELY": "2",
                                    "POTAGY": "0",
                                    "KLIMAS": "n",
                                    "SZALLAS_FK": "10"
                                },
                                {
                                    "SZOBA_ID": "152",
                                    "SZOBA_SZAMA": "18",
                                    "FEROHELY": "2",
                                    "POTAGY": "0",
                                    "KLIMAS": "i",
                                    "SZALLAS_FK": "10"
                                },
                                {
                                    "SZOBA_ID": "153",
                                    "SZOBA_SZAMA": "19",
                                    "FEROHELY": "3",
                                    "POTAGY": "0",
                                    "KLIMAS": "n",
                                    "SZALLAS_FK": "10"
                                },
                                {
                                    "SZOBA_ID": "154",
                                    "SZOBA_SZAMA": "20",
                                    "FEROHELY": "2",
                                    "POTAGY": "1",
                                    "KLIMAS": "i",
                                    "SZALLAS_FK": "10"
                                },
                                {
                                    "SZOBA_ID": "155",
                                    "SZOBA_SZAMA": "21",
                                    "FEROHELY": "3",
                                    "POTAGY": "1",
                                    "KLIMAS": "n",
                                    "SZALLAS_FK": "10"
                                },
                                {
                                    "SZOBA_ID": "156",
                                    "SZOBA_SZAMA": "22",
                                    "FEROHELY": "2",
                                    "POTAGY": "2",
                                    "KLIMAS": "i",
                                    "SZALLAS_FK": "10"
                                },
                                {
                                    "SZOBA_ID": "157",
                                    "SZOBA_SZAMA": "23",
                                    "FEROHELY": "2",
                                    "POTAGY": "0",
                                    "KLIMAS": "n",
                                    "SZALLAS_FK": "10"
                                },
                                {
                                    "SZOBA_ID": "158",
                                    "SZOBA_SZAMA": "24",
                                    "FEROHELY": "2",
                                    "POTAGY": "1",
                                    "KLIMAS": "n",
                                    "SZALLAS_FK": "10"
                                },
                                {
                                    "SZOBA_ID": "159",
                                    "SZOBA_SZAMA": "25",
                                    "FEROHELY": "3",
                                    "POTAGY": "1",
                                    "KLIMAS": "n",
                                    "SZALLAS_FK": "10"
                                },
                                {
                                    "SZOBA_ID": "160",
                                    "SZOBA_SZAMA": "1",
                                    "FEROHELY": "3",
                                    "POTAGY": "1",
                                    "KLIMAS": "i",
                                    "SZALLAS_FK": "11"
                                },
                                {
                                    "SZOBA_ID": "161",
                                    "SZOBA_SZAMA": "2",
                                    "FEROHELY": "2",
                                    "POTAGY": "2",
                                    "KLIMAS": "i",
                                    "SZALLAS_FK": "11"
                                },
                                {
                                    "SZOBA_ID": "162",
                                    "SZOBA_SZAMA": "3",
                                    "FEROHELY": "3",
                                    "POTAGY": "0",
                                    "KLIMAS": "n",
                                    "SZALLAS_FK": "11"
                                },
                                {
                                    "SZOBA_ID": "163",
                                    "SZOBA_SZAMA": "4",
                                    "FEROHELY": "2",
                                    "POTAGY": "0",
                                    "KLIMAS": "i",
                                    "SZALLAS_FK": "11"
                                },
                                {
                                    "SZOBA_ID": "164",
                                    "SZOBA_SZAMA": "5",
                                    "FEROHELY": "2",
                                    "POTAGY": "0",
                                    "KLIMAS": "i",
                                    "SZALLAS_FK": "11"
                                },
                                {
                                    "SZOBA_ID": "165",
                                    "SZOBA_SZAMA": "1",
                                    "FEROHELY": "2",
                                    "POTAGY": "0",
                                    "KLIMAS": "n",
                                    "SZALLAS_FK": "12"
                                },
                                {
                                    "SZOBA_ID": "166",
                                    "SZOBA_SZAMA": "2",
                                    "FEROHELY": "2",
                                    "POTAGY": "1",
                                    "KLIMAS": "i",
                                    "SZALLAS_FK": "12"
                                },
                                {
                                    "SZOBA_ID": "167",
                                    "SZOBA_SZAMA": "3",
                                    "FEROHELY": "3",
                                    "POTAGY": "0",
                                    "KLIMAS": "i",
                                    "SZALLAS_FK": "12"
                                },
                                {
                                    "SZOBA_ID": "168",
                                    "SZOBA_SZAMA": "4",
                                    "FEROHELY": "2",
                                    "POTAGY": "2",
                                    "KLIMAS": "i",
                                    "SZALLAS_FK": "12"
                                },
                                {
                                    "SZOBA_ID": "169",
                                    "SZOBA_SZAMA": "5",
                                    "FEROHELY": "2",
                                    "POTAGY": "1",
                                    "KLIMAS": "i",
                                    "SZALLAS_FK": "12"
                                },
                                {
                                    "SZOBA_ID": "170",
                                    "SZOBA_SZAMA": "6",
                                    "FEROHELY": "2",
                                    "POTAGY": "0",
                                    "KLIMAS": "i",
                                    "SZALLAS_FK": "12"
                                },
                                {
                                    "SZOBA_ID": "171",
                                    "SZOBA_SZAMA": "7",
                                    "FEROHELY": "2",
                                    "POTAGY": "1",
                                    "KLIMAS": "i",
                                    "SZALLAS_FK": "12"
                                },
                                {
                                    "SZOBA_ID": "172",
                                    "SZOBA_SZAMA": "8",
                                    "FEROHELY": "2",
                                    "POTAGY": "2",
                                    "KLIMAS": "n",
                                    "SZALLAS_FK": "12"
                                },
                                {
                                    "SZOBA_ID": "173",
                                    "SZOBA_SZAMA": "9",
                                    "FEROHELY": "2",
                                    "POTAGY": "0",
                                    "KLIMAS": "i",
                                    "SZALLAS_FK": "12"
                                },
                                {
                                    "SZOBA_ID": "174",
                                    "SZOBA_SZAMA": "10",
                                    "FEROHELY": "2",
                                    "POTAGY": "0",
                                    "KLIMAS": "i",
                                    "SZALLAS_FK": "12"
                                },
                                {
                                    "SZOBA_ID": "175",
                                    "SZOBA_SZAMA": "11",
                                    "FEROHELY": "2",
                                    "POTAGY": "0",
                                    "KLIMAS": "i",
                                    "SZALLAS_FK": "12"
                                },
                                {
                                    "SZOBA_ID": "176",
                                    "SZOBA_SZAMA": "12",
                                    "FEROHELY": "3",
                                    "POTAGY": "1",
                                    "KLIMAS": "i",
                                    "SZALLAS_FK": "12"
                                },
                                {
                                    "SZOBA_ID": "177",
                                    "SZOBA_SZAMA": "13",
                                    "FEROHELY": "3",
                                    "POTAGY": "2",
                                    "KLIMAS": "i",
                                    "SZALLAS_FK": "12"
                                },
                                {
                                    "SZOBA_ID": "178",
                                    "SZOBA_SZAMA": "14",
                                    "FEROHELY": "3",
                                    "POTAGY": "0",
                                    "KLIMAS": "i",
                                    "SZALLAS_FK": "12"
                                },
                                {
                                    "SZOBA_ID": "179",
                                    "SZOBA_SZAMA": "15",
                                    "FEROHELY": "3",
                                    "POTAGY": "2",
                                    "KLIMAS": "i",
                                    "SZALLAS_FK": "12"
                                },
                                {
                                    "SZOBA_ID": "180",
                                    "SZOBA_SZAMA": "16",
                                    "FEROHELY": "2",
                                    "POTAGY": "2",
                                    "KLIMAS": "i",
                                    "SZALLAS_FK": "12"
                                },
                                {
                                    "SZOBA_ID": "181",
                                    "SZOBA_SZAMA": "17",
                                    "FEROHELY": "3",
                                    "POTAGY": "0",
                                    "KLIMAS": "i",
                                    "SZALLAS_FK": "12"
                                },
                                {
                                    "SZOBA_ID": "182",
                                    "SZOBA_SZAMA": "18",
                                    "FEROHELY": "2",
                                    "POTAGY": "0",
                                    "KLIMAS": "n",
                                    "SZALLAS_FK": "12"
                                },
                                {
                                    "SZOBA_ID": "183",
                                    "SZOBA_SZAMA": "19",
                                    "FEROHELY": "3",
                                    "POTAGY": "0",
                                    "KLIMAS": "i",
                                    "SZALLAS_FK": "12"
                                },
                                {
                                    "SZOBA_ID": "184",
                                    "SZOBA_SZAMA": "20",
                                    "FEROHELY": "2",
                                    "POTAGY": "0",
                                    "KLIMAS": "n",
                                    "SZALLAS_FK": "12"
                                },
                                {
                                    "SZOBA_ID": "185",
                                    "SZOBA_SZAMA": "21",
                                    "FEROHELY": "3",
                                    "POTAGY": "0",
                                    "KLIMAS": "i",
                                    "SZALLAS_FK": "12"
                                },
                                {
                                    "SZOBA_ID": "186",
                                    "SZOBA_SZAMA": "22",
                                    "FEROHELY": "2",
                                    "POTAGY": "2",
                                    "KLIMAS": "i",
                                    "SZALLAS_FK": "12"
                                },
                                {
                                    "SZOBA_ID": "187",
                                    "SZOBA_SZAMA": "23",
                                    "FEROHELY": "3",
                                    "POTAGY": "1",
                                    "KLIMAS": "i",
                                    "SZALLAS_FK": "12"
                                },
                                {
                                    "SZOBA_ID": "188",
                                    "SZOBA_SZAMA": "24",
                                    "FEROHELY": "3",
                                    "POTAGY": "0",
                                    "KLIMAS": "i",
                                    "SZALLAS_FK": "12"
                                },
                                {
                                    "SZOBA_ID": "189",
                                    "SZOBA_SZAMA": "25",
                                    "FEROHELY": "2",
                                    "POTAGY": "2",
                                    "KLIMAS": "i",
                                    "SZALLAS_FK": "12"
                                },
                                {
                                    "SZOBA_ID": "190",
                                    "SZOBA_SZAMA": "26",
                                    "FEROHELY": "2",
                                    "POTAGY": "0",
                                    "KLIMAS": "i",
                                    "SZALLAS_FK": "12"
                                },
                                {
                                    "SZOBA_ID": "191",
                                    "SZOBA_SZAMA": "27",
                                    "FEROHELY": "2",
                                    "POTAGY": "1",
                                    "KLIMAS": "i",
                                    "SZALLAS_FK": "12"
                                },
                                {
                                    "SZOBA_ID": "192",
                                    "SZOBA_SZAMA": "28",
                                    "FEROHELY": "2",
                                    "POTAGY": "1",
                                    "KLIMAS": "i",
                                    "SZALLAS_FK": "12"
                                },
                                {
                                    "SZOBA_ID": "193",
                                    "SZOBA_SZAMA": "29",
                                    "FEROHELY": "3",
                                    "POTAGY": "2",
                                    "KLIMAS": "n",
                                    "SZALLAS_FK": "12"
                                },
                                {
                                    "SZOBA_ID": "194",
                                    "SZOBA_SZAMA": "30",
                                    "FEROHELY": "2",
                                    "POTAGY": "1",
                                    "KLIMAS": "i",
                                    "SZALLAS_FK": "12"
                                },
                                {
                                    "SZOBA_ID": "195",
                                    "SZOBA_SZAMA": "31",
                                    "FEROHELY": "2",
                                    "POTAGY": "0",
                                    "KLIMAS": "i",
                                    "SZALLAS_FK": "12"
                                },
                                {
                                    "SZOBA_ID": "196",
                                    "SZOBA_SZAMA": "32",
                                    "FEROHELY": "2",
                                    "POTAGY": "1",
                                    "KLIMAS": "i",
                                    "SZALLAS_FK": "12"
                                },
                                {
                                    "SZOBA_ID": "197",
                                    "SZOBA_SZAMA": "33",
                                    "FEROHELY": "3",
                                    "POTAGY": "0",
                                    "KLIMAS": "i",
                                    "SZALLAS_FK": "12"
                                },
                                {
                                    "SZOBA_ID": "198",
                                    "SZOBA_SZAMA": "34",
                                    "FEROHELY": "3",
                                    "POTAGY": "0",
                                    "KLIMAS": "i",
                                    "SZALLAS_FK": "12"
                                },
                                {
                                    "SZOBA_ID": "199",
                                    "SZOBA_SZAMA": "35",
                                    "FEROHELY": "3",
                                    "POTAGY": "2",
                                    "KLIMAS": "i",
                                    "SZALLAS_FK": "12"
                                },
                                {
                                    "SZOBA_ID": "200",
                                    "SZOBA_SZAMA": "36",
                                    "FEROHELY": "2",
                                    "POTAGY": "0",
                                    "KLIMAS": "i",
                                    "SZALLAS_FK": "12"
                                },
                                {
                                    "SZOBA_ID": "201",
                                    "SZOBA_SZAMA": "37",
                                    "FEROHELY": "3",
                                    "POTAGY": "1",
                                    "KLIMAS": "n",
                                    "SZALLAS_FK": "12"
                                },
                                {
                                    "SZOBA_ID": "202",
                                    "SZOBA_SZAMA": "38",
                                    "FEROHELY": "3",
                                    "POTAGY": "1",
                                    "KLIMAS": "i",
                                    "SZALLAS_FK": "12"
                                },
                                {
                                    "SZOBA_ID": "203",
                                    "SZOBA_SZAMA": "39",
                                    "FEROHELY": "3",
                                    "POTAGY": "0",
                                    "KLIMAS": "i",
                                    "SZALLAS_FK": "12"
                                },
                                {
                                    "SZOBA_ID": "204",
                                    "SZOBA_SZAMA": "40",
                                    "FEROHELY": "3",
                                    "POTAGY": "1",
                                    "KLIMAS": "i",
                                    "SZALLAS_FK": "12"
                                },
                                {
                                    "SZOBA_ID": "205",
                                    "SZOBA_SZAMA": "41",
                                    "FEROHELY": "3",
                                    "POTAGY": "0",
                                    "KLIMAS": "i",
                                    "SZALLAS_FK": "12"
                                },
                                {
                                    "SZOBA_ID": "206",
                                    "SZOBA_SZAMA": "42",
                                    "FEROHELY": "2",
                                    "POTAGY": "1",
                                    "KLIMAS": "i",
                                    "SZALLAS_FK": "12"
                                },
                                {
                                    "SZOBA_ID": "207",
                                    "SZOBA_SZAMA": "43",
                                    "FEROHELY": "2",
                                    "POTAGY": "1",
                                    "KLIMAS": "i",
                                    "SZALLAS_FK": "12"
                                },
                                {
                                    "SZOBA_ID": "208",
                                    "SZOBA_SZAMA": "44",
                                    "FEROHELY": "2",
                                    "POTAGY": "1",
                                    "KLIMAS": "i",
                                    "SZALLAS_FK": "12"
                                },
                                {
                                    "SZOBA_ID": "209",
                                    "SZOBA_SZAMA": "45",
                                    "FEROHELY": "3",
                                    "POTAGY": "2",
                                    "KLIMAS": "n",
                                    "SZALLAS_FK": "12"
                                },
                                {
                                    "SZOBA_ID": "210",
                                    "SZOBA_SZAMA": "46",
                                    "FEROHELY": "2",
                                    "POTAGY": "0",
                                    "KLIMAS": "i",
                                    "SZALLAS_FK": "12"
                                },
                                {
                                    "SZOBA_ID": "211",
                                    "SZOBA_SZAMA": "47",
                                    "FEROHELY": "2",
                                    "POTAGY": "1",
                                    "KLIMAS": "i",
                                    "SZALLAS_FK": "12"
                                },
                                {
                                    "SZOBA_ID": "212",
                                    "SZOBA_SZAMA": "48",
                                    "FEROHELY": "3",
                                    "POTAGY": "0",
                                    "KLIMAS": "n",
                                    "SZALLAS_FK": "12"
                                },
                                {
                                    "SZOBA_ID": "213",
                                    "SZOBA_SZAMA": "49",
                                    "FEROHELY": "3",
                                    "POTAGY": "0",
                                    "KLIMAS": "i",
                                    "SZALLAS_FK": "12"
                                },
                                {
                                    "SZOBA_ID": "214",
                                    "SZOBA_SZAMA": "50",
                                    "FEROHELY": "3",
                                    "POTAGY": "1",
                                    "KLIMAS": "i",
                                    "SZALLAS_FK": "12"
                                },
                                {
                                    "SZOBA_ID": "215",
                                    "SZOBA_SZAMA": "1",
                                    "FEROHELY": "2",
                                    "POTAGY": "1",
                                    "KLIMAS": "i",
                                    "SZALLAS_FK": "13"
                                },
                                {
                                    "SZOBA_ID": "216",
                                    "SZOBA_SZAMA": "2",
                                    "FEROHELY": "3",
                                    "POTAGY": "1",
                                    "KLIMAS": "i",
                                    "SZALLAS_FK": "13"
                                },
                                {
                                    "SZOBA_ID": "217",
                                    "SZOBA_SZAMA": "3",
                                    "FEROHELY": "2",
                                    "POTAGY": "1",
                                    "KLIMAS": "n",
                                    "SZALLAS_FK": "13"
                                },
                                {
                                    "SZOBA_ID": "218",
                                    "SZOBA_SZAMA": "4",
                                    "FEROHELY": "3",
                                    "POTAGY": "0",
                                    "KLIMAS": "i",
                                    "SZALLAS_FK": "13"
                                },
                                {
                                    "SZOBA_ID": "219",
                                    "SZOBA_SZAMA": "5",
                                    "FEROHELY": "2",
                                    "POTAGY": "0",
                                    "KLIMAS": "n",
                                    "SZALLAS_FK": "13"
                                },
                                {
                                    "SZOBA_ID": "220",
                                    "SZOBA_SZAMA": "6",
                                    "FEROHELY": "3",
                                    "POTAGY": "0",
                                    "KLIMAS": "i",
                                    "SZALLAS_FK": "13"
                                },
                                {
                                    "SZOBA_ID": "221",
                                    "SZOBA_SZAMA": "7",
                                    "FEROHELY": "3",
                                    "POTAGY": "0",
                                    "KLIMAS": "i",
                                    "SZALLAS_FK": "13"
                                },
                                {
                                    "SZOBA_ID": "222",
                                    "SZOBA_SZAMA": "8",
                                    "FEROHELY": "2",
                                    "POTAGY": "0",
                                    "KLIMAS": "n",
                                    "SZALLAS_FK": "13"
                                },
                                {
                                    "SZOBA_ID": "223",
                                    "SZOBA_SZAMA": "9",
                                    "FEROHELY": "2",
                                    "POTAGY": "1",
                                    "KLIMAS": "i",
                                    "SZALLAS_FK": "13"
                                },
                                {
                                    "SZOBA_ID": "224",
                                    "SZOBA_SZAMA": "10",
                                    "FEROHELY": "2",
                                    "POTAGY": "0",
                                    "KLIMAS": "i",
                                    "SZALLAS_FK": "13"
                                },
                                {
                                    "SZOBA_ID": "225",
                                    "SZOBA_SZAMA": "11",
                                    "FEROHELY": "2",
                                    "POTAGY": "1",
                                    "KLIMAS": "i",
                                    "SZALLAS_FK": "13"
                                },
                                {
                                    "SZOBA_ID": "226",
                                    "SZOBA_SZAMA": "12",
                                    "FEROHELY": "3",
                                    "POTAGY": "1",
                                    "KLIMAS": "n",
                                    "SZALLAS_FK": "13"
                                },
                                {
                                    "SZOBA_ID": "227",
                                    "SZOBA_SZAMA": "1",
                                    "FEROHELY": "2",
                                    "POTAGY": "1",
                                    "KLIMAS": "i",
                                    "SZALLAS_FK": "14"
                                },
                                {
                                    "SZOBA_ID": "228",
                                    "SZOBA_SZAMA": "2",
                                    "FEROHELY": "3",
                                    "POTAGY": "0",
                                    "KLIMAS": "i",
                                    "SZALLAS_FK": "14"
                                },
                                {
                                    "SZOBA_ID": "229",
                                    "SZOBA_SZAMA": "3",
                                    "FEROHELY": "2",
                                    "POTAGY": "0",
                                    "KLIMAS": "i",
                                    "SZALLAS_FK": "14"
                                },
                                {
                                    "SZOBA_ID": "230",
                                    "SZOBA_SZAMA": "4",
                                    "FEROHELY": "3",
                                    "POTAGY": "2",
                                    "KLIMAS": "i",
                                    "SZALLAS_FK": "14"
                                },
                                {
                                    "SZOBA_ID": "231",
                                    "SZOBA_SZAMA": "1",
                                    "FEROHELY": "2",
                                    "POTAGY": "0",
                                    "KLIMAS": "i",
                                    "SZALLAS_FK": "15"
                                },
                                {
                                    "SZOBA_ID": "232",
                                    "SZOBA_SZAMA": "2",
                                    "FEROHELY": "2",
                                    "POTAGY": "0",
                                    "KLIMAS": "i",
                                    "SZALLAS_FK": "15"
                                },
                                {
                                    "SZOBA_ID": "233",
                                    "SZOBA_SZAMA": "3",
                                    "FEROHELY": "3",
                                    "POTAGY": "0",
                                    "KLIMAS": "n",
                                    "SZALLAS_FK": "15"
                                },
                                {
                                    "SZOBA_ID": "234",
                                    "SZOBA_SZAMA": "4",
                                    "FEROHELY": "3",
                                    "POTAGY": "1",
                                    "KLIMAS": "i",
                                    "SZALLAS_FK": "15"
                                },
                                {
                                    "SZOBA_ID": "235",
                                    "SZOBA_SZAMA": "5",
                                    "FEROHELY": "3",
                                    "POTAGY": "0",
                                    "KLIMAS": "i",
                                    "SZALLAS_FK": "15"
                                },
                                {
                                    "SZOBA_ID": "236",
                                    "SZOBA_SZAMA": "6",
                                    "FEROHELY": "3",
                                    "POTAGY": "1",
                                    "KLIMAS": "n",
                                    "SZALLAS_FK": "15"
                                },
                                {
                                    "SZOBA_ID": "237",
                                    "SZOBA_SZAMA": "7",
                                    "FEROHELY": "2",
                                    "POTAGY": "2",
                                    "KLIMAS": "n",
                                    "SZALLAS_FK": "15"
                                },
                                {
                                    "SZOBA_ID": "238",
                                    "SZOBA_SZAMA": "8",
                                    "FEROHELY": "3",
                                    "POTAGY": "1",
                                    "KLIMAS": "i",
                                    "SZALLAS_FK": "15"
                                },
                                {
                                    "SZOBA_ID": "239",
                                    "SZOBA_SZAMA": "9",
                                    "FEROHELY": "2",
                                    "POTAGY": "2",
                                    "KLIMAS": "i",
                                    "SZALLAS_FK": "15"
                                },
                                {
                                    "SZOBA_ID": "240",
                                    "SZOBA_SZAMA": "10",
                                    "FEROHELY": "3",
                                    "POTAGY": "0",
                                    "KLIMAS": "i",
                                    "SZALLAS_FK": "15"
                                },
                                {
                                    "SZOBA_ID": "241",
                                    "SZOBA_SZAMA": "11",
                                    "FEROHELY": "2",
                                    "POTAGY": "0",
                                    "KLIMAS": "i",
                                    "SZALLAS_FK": "15"
                                },
                                {
                                    "SZOBA_ID": "242",
                                    "SZOBA_SZAMA": "12",
                                    "FEROHELY": "2",
                                    "POTAGY": "1",
                                    "KLIMAS": "i",
                                    "SZALLAS_FK": "15"
                                },
                                {
                                    "SZOBA_ID": "243",
                                    "SZOBA_SZAMA": "1",
                                    "FEROHELY": "2",
                                    "POTAGY": "0",
                                    "KLIMAS": "i",
                                    "SZALLAS_FK": "16"
                                },
                                {
                                    "SZOBA_ID": "244",
                                    "SZOBA_SZAMA": "2",
                                    "FEROHELY": "2",
                                    "POTAGY": "1",
                                    "KLIMAS": "i",
                                    "SZALLAS_FK": "16"
                                },
                                {
                                    "SZOBA_ID": "245",
                                    "SZOBA_SZAMA": "3",
                                    "FEROHELY": "2",
                                    "POTAGY": "1",
                                    "KLIMAS": "i",
                                    "SZALLAS_FK": "16"
                                },
                                {
                                    "SZOBA_ID": "246",
                                    "SZOBA_SZAMA": "4",
                                    "FEROHELY": "2",
                                    "POTAGY": "0",
                                    "KLIMAS": "i",
                                    "SZALLAS_FK": "16"
                                },
                                {
                                    "SZOBA_ID": "247",
                                    "SZOBA_SZAMA": "5",
                                    "FEROHELY": "2",
                                    "POTAGY": "0",
                                    "KLIMAS": "i",
                                    "SZALLAS_FK": "16"
                                },
                                {
                                    "SZOBA_ID": "248",
                                    "SZOBA_SZAMA": "6",
                                    "FEROHELY": "2",
                                    "POTAGY": "2",
                                    "KLIMAS": "i",
                                    "SZALLAS_FK": "16"
                                },
                                {
                                    "SZOBA_ID": "249",
                                    "SZOBA_SZAMA": "7",
                                    "FEROHELY": "2",
                                    "POTAGY": "1",
                                    "KLIMAS": "n",
                                    "SZALLAS_FK": "16"
                                },
                                {
                                    "SZOBA_ID": "250",
                                    "SZOBA_SZAMA": "8",
                                    "FEROHELY": "3",
                                    "POTAGY": "1",
                                    "KLIMAS": "n",
                                    "SZALLAS_FK": "16"
                                },
                                {
                                    "SZOBA_ID": "251",
                                    "SZOBA_SZAMA": "9",
                                    "FEROHELY": "3",
                                    "POTAGY": "0",
                                    "KLIMAS": "n",
                                    "SZALLAS_FK": "16"
                                },
                                {
                                    "SZOBA_ID": "252",
                                    "SZOBA_SZAMA": "10",
                                    "FEROHELY": "3",
                                    "POTAGY": "1",
                                    "KLIMAS": "i",
                                    "SZALLAS_FK": "16"
                                },
                                {
                                    "SZOBA_ID": "253",
                                    "SZOBA_SZAMA": "11",
                                    "FEROHELY": "2",
                                    "POTAGY": "0",
                                    "KLIMAS": "i",
                                    "SZALLAS_FK": "16"
                                },
                                {
                                    "SZOBA_ID": "254",
                                    "SZOBA_SZAMA": "12",
                                    "FEROHELY": "2",
                                    "POTAGY": "0",
                                    "KLIMAS": "i",
                                    "SZALLAS_FK": "16"
                                },
                                {
                                    "SZOBA_ID": "255",
                                    "SZOBA_SZAMA": "13",
                                    "FEROHELY": "3",
                                    "POTAGY": "0",
                                    "KLIMAS": "n",
                                    "SZALLAS_FK": "16"
                                },
                                {
                                    "SZOBA_ID": "256",
                                    "SZOBA_SZAMA": "14",
                                    "FEROHELY": "3",
                                    "POTAGY": "1",
                                    "KLIMAS": "i",
                                    "SZALLAS_FK": "16"
                                },
                                {
                                    "SZOBA_ID": "257",
                                    "SZOBA_SZAMA": "15",
                                    "FEROHELY": "2",
                                    "POTAGY": "0",
                                    "KLIMAS": "i",
                                    "SZALLAS_FK": "16"
                                },
                                {
                                    "SZOBA_ID": "258",
                                    "SZOBA_SZAMA": "16",
                                    "FEROHELY": "2",
                                    "POTAGY": "0",
                                    "KLIMAS": "i",
                                    "SZALLAS_FK": "16"
                                },
                                {
                                    "SZOBA_ID": "259",
                                    "SZOBA_SZAMA": "17",
                                    "FEROHELY": "2",
                                    "POTAGY": "0",
                                    "KLIMAS": "i",
                                    "SZALLAS_FK": "16"
                                },
                                {
                                    "SZOBA_ID": "260",
                                    "SZOBA_SZAMA": "18",
                                    "FEROHELY": "2",
                                    "POTAGY": "0",
                                    "KLIMAS": "i",
                                    "SZALLAS_FK": "16"
                                },
                                {
                                    "SZOBA_ID": "261",
                                    "SZOBA_SZAMA": "19",
                                    "FEROHELY": "1",
                                    "POTAGY": "1",
                                    "KLIMAS": "n",
                                    "SZALLAS_FK": "16"
                                },
                                {
                                    "SZOBA_ID": "262",
                                    "SZOBA_SZAMA": "20",
                                    "FEROHELY": "1",
                                    "POTAGY": "0",
                                    "KLIMAS": "n",
                                    "SZALLAS_FK": "16"
                                },
                                {
                                    "SZOBA_ID": "263",
                                    "SZOBA_SZAMA": "1",
                                    "FEROHELY": "2",
                                    "POTAGY": "2",
                                    "KLIMAS": "i",
                                    "SZALLAS_FK": "17"
                                },
                                {
                                    "SZOBA_ID": "264",
                                    "SZOBA_SZAMA": "2",
                                    "FEROHELY": "3",
                                    "POTAGY": "0",
                                    "KLIMAS": "i",
                                    "SZALLAS_FK": "17"
                                },
                                {
                                    "SZOBA_ID": "265",
                                    "SZOBA_SZAMA": "3",
                                    "FEROHELY": "3",
                                    "POTAGY": "0",
                                    "KLIMAS": "i",
                                    "SZALLAS_FK": "17"
                                },
                                {
                                    "SZOBA_ID": "266",
                                    "SZOBA_SZAMA": "4",
                                    "FEROHELY": "2",
                                    "POTAGY": "1",
                                    "KLIMAS": "i",
                                    "SZALLAS_FK": "17"
                                },
                                {
                                    "SZOBA_ID": "267",
                                    "SZOBA_SZAMA": "5",
                                    "FEROHELY": "2",
                                    "POTAGY": "1",
                                    "KLIMAS": "n",
                                    "SZALLAS_FK": "17"
                                },
                                {
                                    "SZOBA_ID": "268",
                                    "SZOBA_SZAMA": "6",
                                    "FEROHELY": "2",
                                    "POTAGY": "2",
                                    "KLIMAS": "n",
                                    "SZALLAS_FK": "17"
                                },
                                {
                                    "SZOBA_ID": "269",
                                    "SZOBA_SZAMA": "7",
                                    "FEROHELY": "2",
                                    "POTAGY": "1",
                                    "KLIMAS": "i",
                                    "SZALLAS_FK": "17"
                                },
                                {
                                    "SZOBA_ID": "270",
                                    "SZOBA_SZAMA": "8",
                                    "FEROHELY": "3",
                                    "POTAGY": "0",
                                    "KLIMAS": "n",
                                    "SZALLAS_FK": "17"
                                },
                                {
                                    "SZOBA_ID": "271",
                                    "SZOBA_SZAMA": "9",
                                    "FEROHELY": "3",
                                    "POTAGY": "0",
                                    "KLIMAS": "i",
                                    "SZALLAS_FK": "17"
                                },
                                {
                                    "SZOBA_ID": "272",
                                    "SZOBA_SZAMA": "10",
                                    "FEROHELY": "3",
                                    "POTAGY": "0",
                                    "KLIMAS": "i",
                                    "SZALLAS_FK": "17"
                                },
                                {
                                    "SZOBA_ID": "273",
                                    "SZOBA_SZAMA": "11",
                                    "FEROHELY": "2",
                                    "POTAGY": "1",
                                    "KLIMAS": "i",
                                    "SZALLAS_FK": "17"
                                },
                                {
                                    "SZOBA_ID": "274",
                                    "SZOBA_SZAMA": "12",
                                    "FEROHELY": "3",
                                    "POTAGY": "1",
                                    "KLIMAS": "i",
                                    "SZALLAS_FK": "17"
                                },
                                {
                                    "SZOBA_ID": "275",
                                    "SZOBA_SZAMA": "13",
                                    "FEROHELY": "2",
                                    "POTAGY": "1",
                                    "KLIMAS": "n",
                                    "SZALLAS_FK": "17"
                                },
                                {
                                    "SZOBA_ID": "276",
                                    "SZOBA_SZAMA": "14",
                                    "FEROHELY": "2",
                                    "POTAGY": "0",
                                    "KLIMAS": "i",
                                    "SZALLAS_FK": "17"
                                },
                                {
                                    "SZOBA_ID": "277",
                                    "SZOBA_SZAMA": "15",
                                    "FEROHELY": "2",
                                    "POTAGY": "0",
                                    "KLIMAS": "i",
                                    "SZALLAS_FK": "17"
                                },
                                {
                                    "SZOBA_ID": "278",
                                    "SZOBA_SZAMA": "1",
                                    "FEROHELY": "3",
                                    "POTAGY": "1",
                                    "KLIMAS": "i",
                                    "SZALLAS_FK": "18"
                                },
                                {
                                    "SZOBA_ID": "279",
                                    "SZOBA_SZAMA": "2",
                                    "FEROHELY": "2",
                                    "POTAGY": "1",
                                    "KLIMAS": "i",
                                    "SZALLAS_FK": "18"
                                },
                                {
                                    "SZOBA_ID": "280",
                                    "SZOBA_SZAMA": "3",
                                    "FEROHELY": "3",
                                    "POTAGY": "0",
                                    "KLIMAS": "n",
                                    "SZALLAS_FK": "18"
                                },
                                {
                                    "SZOBA_ID": "281",
                                    "SZOBA_SZAMA": "1",
                                    "FEROHELY": "2",
                                    "POTAGY": "0",
                                    "KLIMAS": "n",
                                    "SZALLAS_FK": "19"
                                },
                                {
                                    "SZOBA_ID": "282",
                                    "SZOBA_SZAMA": "2",
                                    "FEROHELY": "2",
                                    "POTAGY": "0",
                                    "KLIMAS": "i",
                                    "SZALLAS_FK": "19"
                                },
                                {
                                    "SZOBA_ID": "283",
                                    "SZOBA_SZAMA": "3",
                                    "FEROHELY": "2",
                                    "POTAGY": "0",
                                    "KLIMAS": "n",
                                    "SZALLAS_FK": "19"
                                },
                                {
                                    "SZOBA_ID": "284",
                                    "SZOBA_SZAMA": "4",
                                    "FEROHELY": "2",
                                    "POTAGY": "2",
                                    "KLIMAS": "i",
                                    "SZALLAS_FK": "19"
                                },
                                {
                                    "SZOBA_ID": "285",
                                    "SZOBA_SZAMA": "1",
                                    "FEROHELY": "2",
                                    "POTAGY": "1",
                                    "KLIMAS": "i",
                                    "SZALLAS_FK": "20"
                                },
                                {
                                    "SZOBA_ID": "286",
                                    "SZOBA_SZAMA": "2",
                                    "FEROHELY": "3",
                                    "POTAGY": "0",
                                    "KLIMAS": "i",
                                    "SZALLAS_FK": "20"
                                },
                                {
                                    "SZOBA_ID": "287",
                                    "SZOBA_SZAMA": "3",
                                    "FEROHELY": "3",
                                    "POTAGY": "0",
                                    "KLIMAS": "n",
                                    "SZALLAS_FK": "20"
                                },
                                {
                                    "SZOBA_ID": "288",
                                    "SZOBA_SZAMA": "4",
                                    "FEROHELY": "2",
                                    "POTAGY": "1",
                                    "KLIMAS": "i",
                                    "SZALLAS_FK": "20"
                                },
                                {
                                    "SZOBA_ID": "289",
                                    "SZOBA_SZAMA": "5",
                                    "FEROHELY": "3",
                                    "POTAGY": "0",
                                    "KLIMAS": "i",
                                    "SZALLAS_FK": "20"
                                },
                                {
                                    "SZOBA_ID": "290",
                                    "SZOBA_SZAMA": "6",
                                    "FEROHELY": "2",
                                    "POTAGY": "1",
                                    "KLIMAS": "i",
                                    "SZALLAS_FK": "20"
                                },
                                {
                                    "SZOBA_ID": "291",
                                    "SZOBA_SZAMA": "7",
                                    "FEROHELY": "2",
                                    "POTAGY": "1",
                                    "KLIMAS": "i",
                                    "SZALLAS_FK": "20"
                                },
                                {
                                    "SZOBA_ID": "292",
                                    "SZOBA_SZAMA": "8",
                                    "FEROHELY": "2",
                                    "POTAGY": "1",
                                    "KLIMAS": "i",
                                    "SZALLAS_FK": "20"
                                },
                                {
                                    "SZOBA_ID": "293",
                                    "SZOBA_SZAMA": "9",
                                    "FEROHELY": "2",
                                    "POTAGY": "1",
                                    "KLIMAS": "i",
                                    "SZALLAS_FK": "20"
                                },
                                {
                                    "SZOBA_ID": "294",
                                    "SZOBA_SZAMA": "10",
                                    "FEROHELY": "3",
                                    "POTAGY": "0",
                                    "KLIMAS": "i",
                                    "SZALLAS_FK": "20"
                                }
                            ]
                        },
                        "text/html": [
                            "<table>",
                            "<tr><th>SZOBA_ID</th><th>SZOBA_SZAMA</th><th>FEROHELY</th><th>POTAGY</th><th>KLIMAS</th><th>SZALLAS_FK</th></tr>",
                            "<tr><td>1</td><td>1</td><td>3</td><td>0</td><td>n</td><td>1</td></tr>",
                            "<tr><td>2</td><td>2</td><td>3</td><td>1</td><td>i</td><td>1</td></tr>",
                            "<tr><td>3</td><td>3</td><td>3</td><td>1</td><td>i</td><td>1</td></tr>",
                            "<tr><td>4</td><td>4</td><td>2</td><td>1</td><td>i</td><td>1</td></tr>",
                            "<tr><td>5</td><td>5</td><td>2</td><td>0</td><td>i</td><td>1</td></tr>",
                            "<tr><td>6</td><td>6</td><td>3</td><td>0</td><td>i</td><td>1</td></tr>",
                            "<tr><td>7</td><td>7</td><td>2</td><td>0</td><td>i</td><td>1</td></tr>",
                            "<tr><td>8</td><td>8</td><td>3</td><td>0</td><td>n</td><td>1</td></tr>",
                            "<tr><td>9</td><td>9</td><td>3</td><td>1</td><td>i</td><td>1</td></tr>",
                            "<tr><td>10</td><td>10</td><td>3</td><td>0</td><td>i</td><td>1</td></tr>",
                            "<tr><td>11</td><td>11</td><td>2</td><td>1</td><td>i</td><td>1</td></tr>",
                            "<tr><td>12</td><td>12</td><td>2</td><td>1</td><td>i</td><td>1</td></tr>",
                            "<tr><td>13</td><td>1</td><td>3</td><td>0</td><td>i</td><td>2</td></tr>",
                            "<tr><td>14</td><td>2</td><td>3</td><td>2</td><td>i</td><td>2</td></tr>",
                            "<tr><td>15</td><td>3</td><td>2</td><td>1</td><td>i</td><td>2</td></tr>",
                            "<tr><td>16</td><td>4</td><td>3</td><td>1</td><td>i</td><td>2</td></tr>",
                            "<tr><td>17</td><td>1</td><td>3</td><td>1</td><td>i</td><td>3</td></tr>",
                            "<tr><td>18</td><td>2</td><td>3</td><td>2</td><td>n</td><td>3</td></tr>",
                            "<tr><td>19</td><td>3</td><td>2</td><td>1</td><td>i</td><td>3</td></tr>",
                            "<tr><td>20</td><td>4</td><td>3</td><td>0</td><td>i</td><td>3</td></tr>",
                            "<tr><td>21</td><td>5</td><td>2</td><td>1</td><td>i</td><td>3</td></tr>",
                            "<tr><td>22</td><td>6</td><td>3</td><td>2</td><td>n</td><td>3</td></tr>",
                            "<tr><td>23</td><td>7</td><td>2</td><td>0</td><td>n</td><td>3</td></tr>",
                            "<tr><td>24</td><td>8</td><td>4</td><td>1</td><td>i</td><td>3</td></tr>",
                            "<tr><td>25</td><td>1</td><td>3</td><td>1</td><td>n</td><td>4</td></tr>",
                            "<tr><td>26</td><td>2</td><td>2</td><td>1</td><td>i</td><td>4</td></tr>",
                            "<tr><td>27</td><td>3</td><td>3</td><td>1</td><td>n</td><td>4</td></tr>",
                            "<tr><td>28</td><td>4</td><td>2</td><td>1</td><td>i</td><td>4</td></tr>",
                            "<tr><td>29</td><td>5</td><td>2</td><td>0</td><td>n</td><td>4</td></tr>",
                            "<tr><td>30</td><td>6</td><td>3</td><td>1</td><td>i</td><td>4</td></tr>",
                            "<tr><td>31</td><td>7</td><td>3</td><td>1</td><td>i</td><td>4</td></tr>",
                            "<tr><td>32</td><td>8</td><td>2</td><td>0</td><td>i</td><td>4</td></tr>",
                            "<tr><td>33</td><td>9</td><td>2</td><td>2</td><td>i</td><td>4</td></tr>",
                            "<tr><td>34</td><td>10</td><td>3</td><td>1</td><td>i</td><td>4</td></tr>",
                            "<tr><td>35</td><td>11</td><td>3</td><td>0</td><td>i</td><td>4</td></tr>",
                            "<tr><td>36</td><td>12</td><td>3</td><td>2</td><td>i</td><td>4</td></tr>",
                            "<tr><td>37</td><td>13</td><td>2</td><td>1</td><td>i</td><td>4</td></tr>",
                            "<tr><td>38</td><td>14</td><td>2</td><td>1</td><td>i</td><td>4</td></tr>",
                            "<tr><td>39</td><td>15</td><td>2</td><td>0</td><td>i</td><td>4</td></tr>",
                            "<tr><td>40</td><td>1</td><td>3</td><td>0</td><td>i</td><td>5</td></tr>",
                            "<tr><td>41</td><td>2</td><td>3</td><td>0</td><td>n</td><td>5</td></tr>",
                            "<tr><td>42</td><td>3</td><td>2</td><td>1</td><td>i</td><td>5</td></tr>",
                            "<tr><td>43</td><td>4</td><td>3</td><td>0</td><td>i</td><td>5</td></tr>",
                            "<tr><td>44</td><td>5</td><td>3</td><td>0</td><td>i</td><td>5</td></tr>",
                            "<tr><td>45</td><td>6</td><td>2</td><td>0</td><td>n</td><td>5</td></tr>",
                            "<tr><td>46</td><td>7</td><td>3</td><td>0</td><td>i</td><td>5</td></tr>",
                            "<tr><td>47</td><td>8</td><td>2</td><td>0</td><td>i</td><td>5</td></tr>",
                            "<tr><td>48</td><td>9</td><td>3</td><td>0</td><td>i</td><td>5</td></tr>",
                            "<tr><td>49</td><td>10</td><td>3</td><td>0</td><td>i</td><td>5</td></tr>",
                            "<tr><td>50</td><td>1</td><td>2</td><td>0</td><td>n</td><td>6</td></tr>",
                            "<tr><td>51</td><td>2</td><td>3</td><td>1</td><td>i</td><td>6</td></tr>",
                            "<tr><td>52</td><td>3</td><td>2</td><td>1</td><td>i</td><td>6</td></tr>",
                            "<tr><td>53</td><td>4</td><td>2</td><td>1</td><td>i</td><td>6</td></tr>",
                            "<tr><td>54</td><td>5</td><td>3</td><td>0</td><td>n</td><td>6</td></tr>",
                            "<tr><td>55</td><td>6</td><td>2</td><td>1</td><td>i</td><td>6</td></tr>",
                            "<tr><td>56</td><td>7</td><td>2</td><td>0</td><td>i</td><td>6</td></tr>",
                            "<tr><td>57</td><td>8</td><td>2</td><td>0</td><td>n</td><td>6</td></tr>",
                            "<tr><td>58</td><td>9</td><td>2</td><td>1</td><td>i</td><td>6</td></tr>",
                            "<tr><td>59</td><td>10</td><td>2</td><td>1</td><td>n</td><td>6</td></tr>",
                            "<tr><td>60</td><td>11</td><td>3</td><td>0</td><td>i</td><td>6</td></tr>",
                            "<tr><td>61</td><td>12</td><td>3</td><td>0</td><td>i</td><td>6</td></tr>",
                            "<tr><td>62</td><td>13</td><td>2</td><td>0</td><td>n</td><td>6</td></tr>",
                            "<tr><td>63</td><td>14</td><td>2</td><td>0</td><td>n</td><td>6</td></tr>",
                            "<tr><td>64</td><td>15</td><td>2</td><td>0</td><td>i</td><td>6</td></tr>",
                            "<tr><td>65</td><td>16</td><td>2</td><td>0</td><td>n</td><td>6</td></tr>",
                            "<tr><td>66</td><td>17</td><td>3</td><td>0</td><td>n</td><td>6</td></tr>",
                            "<tr><td>67</td><td>18</td><td>2</td><td>2</td><td>i</td><td>6</td></tr>",
                            "<tr><td>68</td><td>19</td><td>2</td><td>2</td><td>i</td><td>6</td></tr>",
                            "<tr><td>69</td><td>20</td><td>3</td><td>1</td><td>n</td><td>6</td></tr>",
                            "<tr><td>70</td><td>21</td><td>2</td><td>1</td><td>i</td><td>6</td></tr>",
                            "<tr><td>71</td><td>22</td><td>3</td><td>0</td><td>i</td><td>6</td></tr>",
                            "<tr><td>72</td><td>23</td><td>2</td><td>0</td><td>n</td><td>6</td></tr>",
                            "<tr><td>73</td><td>24</td><td>2</td><td>1</td><td>i</td><td>6</td></tr>",
                            "<tr><td>74</td><td>25</td><td>3</td><td>1</td><td>n</td><td>6</td></tr>",
                            "<tr><td>75</td><td>26</td><td>2</td><td>1</td><td>n</td><td>6</td></tr>",
                            "<tr><td>76</td><td>27</td><td>2</td><td>0</td><td>i</td><td>6</td></tr>",
                            "<tr><td>77</td><td>28</td><td>3</td><td>1</td><td>i</td><td>6</td></tr>",
                            "<tr><td>78</td><td>29</td><td>2</td><td>1</td><td>n</td><td>6</td></tr>",
                            "<tr><td>79</td><td>30</td><td>3</td><td>0</td><td>i</td><td>6</td></tr>",
                            "<tr><td>80</td><td>31</td><td>2</td><td>1</td><td>i</td><td>6</td></tr>",
                            "<tr><td>81</td><td>32</td><td>2</td><td>0</td><td>i</td><td>6</td></tr>",
                            "<tr><td>82</td><td>33</td><td>3</td><td>0</td><td>i</td><td>6</td></tr>",
                            "<tr><td>83</td><td>34</td><td>3</td><td>0</td><td>i</td><td>6</td></tr>",
                            "<tr><td>84</td><td>35</td><td>3</td><td>0</td><td>i</td><td>6</td></tr>",
                            "<tr><td>85</td><td>1</td><td>2</td><td>1</td><td>n</td><td>7</td></tr>",
                            "<tr><td>86</td><td>2</td><td>2</td><td>1</td><td>i</td><td>7</td></tr>",
                            "<tr><td>87</td><td>3</td><td>3</td><td>0</td><td>i</td><td>7</td></tr>",
                            "<tr><td>88</td><td>4</td><td>3</td><td>0</td><td>n</td><td>7</td></tr>",
                            "<tr><td>89</td><td>5</td><td>3</td><td>0</td><td>i</td><td>7</td></tr>",
                            "<tr><td>90</td><td>6</td><td>3</td><td>0</td><td>i</td><td>7</td></tr>",
                            "<tr><td>91</td><td>1</td><td>2</td><td>0</td><td>n</td><td>8</td></tr>",
                            "<tr><td>92</td><td>2</td><td>3</td><td>1</td><td>i</td><td>8</td></tr>",
                            "<tr><td>93</td><td>3</td><td>3</td><td>2</td><td>i</td><td>8</td></tr>",
                            "<tr><td>94</td><td>4</td><td>2</td><td>0</td><td>n</td><td>8</td></tr>",
                            "<tr><td>95</td><td>5</td><td>3</td><td>1</td><td>i</td><td>8</td></tr>",
                            "<tr><td>96</td><td>6</td><td>3</td><td>0</td><td>n</td><td>8</td></tr>",
                            "<tr><td>97</td><td>7</td><td>3</td><td>2</td><td>n</td><td>8</td></tr>",
                            "<tr><td>98</td><td>8</td><td>2</td><td>0</td><td>n</td><td>8</td></tr>",
                            "<tr><td>99</td><td>9</td><td>2</td><td>0</td><td>n</td><td>8</td></tr>",
                            "<tr><td>100</td><td>10</td><td>2</td><td>1</td><td>i</td><td>8</td></tr>",
                            "<tr><td>101</td><td>11</td><td>2</td><td>0</td><td>i</td><td>8</td></tr>",
                            "<tr><td>102</td><td>12</td><td>2</td><td>1</td><td>i</td><td>8</td></tr>",
                            "<tr><td>103</td><td>13</td><td>2</td><td>1</td><td>i</td><td>8</td></tr>",
                            "<tr><td>104</td><td>14</td><td>3</td><td>0</td><td>i</td><td>8</td></tr>",
                            "<tr><td>105</td><td>15</td><td>2</td><td>0</td><td>i</td><td>8</td></tr>",
                            "<tr><td>106</td><td>16</td><td>2</td><td>0</td><td>i</td><td>8</td></tr>",
                            "<tr><td>107</td><td>17</td><td>2</td><td>1</td><td>n</td><td>8</td></tr>",
                            "<tr><td>108</td><td>18</td><td>2</td><td>0</td><td>i</td><td>8</td></tr>",
                            "<tr><td>109</td><td>19</td><td>2</td><td>1</td><td>i</td><td>8</td></tr>",
                            "<tr><td>110</td><td>20</td><td>2</td><td>0</td><td>i</td><td>8</td></tr>",
                            "<tr><td>111</td><td>21</td><td>2</td><td>1</td><td>i</td><td>8</td></tr>",
                            "<tr><td>112</td><td>22</td><td>3</td><td>0</td><td>i</td><td>8</td></tr>",
                            "<tr><td>113</td><td>23</td><td>3</td><td>2</td><td>i</td><td>8</td></tr>",
                            "<tr><td>114</td><td>24</td><td>2</td><td>1</td><td>n</td><td>8</td></tr>",
                            "<tr><td>115</td><td>25</td><td>3</td><td>0</td><td>i</td><td>8</td></tr>",
                            "<tr><td>116</td><td>26</td><td>3</td><td>0</td><td>i</td><td>8</td></tr>",
                            "<tr><td>117</td><td>27</td><td>3</td><td>1</td><td>i</td><td>8</td></tr>",
                            "<tr><td>118</td><td>28</td><td>2</td><td>1</td><td>i</td><td>8</td></tr>",
                            "<tr><td>119</td><td>29</td><td>2</td><td>0</td><td>i</td><td>8</td></tr>",
                            "<tr><td>120</td><td>30</td><td>3</td><td>1</td><td>i</td><td>8</td></tr>",
                            "<tr><td>121</td><td>31</td><td>2</td><td>1</td><td>i</td><td>8</td></tr>",
                            "<tr><td>122</td><td>32</td><td>3</td><td>1</td><td>i</td><td>8</td></tr>",
                            "<tr><td>123</td><td>33</td><td>3</td><td>0</td><td>n</td><td>8</td></tr>",
                            "<tr><td>124</td><td>34</td><td>3</td><td>0</td><td>n</td><td>8</td></tr>",
                            "<tr><td>125</td><td>35</td><td>2</td><td>1</td><td>i</td><td>8</td></tr>",
                            "<tr><td>126</td><td>36</td><td>2</td><td>1</td><td>n</td><td>8</td></tr>",
                            "<tr><td>127</td><td>37</td><td>2</td><td>1</td><td>i</td><td>8</td></tr>",
                            "<tr><td>128</td><td>38</td><td>2</td><td>1</td><td>i</td><td>8</td></tr>",
                            "<tr><td>129</td><td>39</td><td>2</td><td>1</td><td>i</td><td>8</td></tr>",
                            "<tr><td>130</td><td>1</td><td>2</td><td>0</td><td>n</td><td>9</td></tr>",
                            "<tr><td>131</td><td>2</td><td>2</td><td>0</td><td>n</td><td>9</td></tr>",
                            "<tr><td>132</td><td>3</td><td>3</td><td>0</td><td>i</td><td>9</td></tr>",
                            "<tr><td>133</td><td>4</td><td>3</td><td>0</td><td>n</td><td>9</td></tr>",
                            "<tr><td>134</td><td>5</td><td>3</td><td>0</td><td>i</td><td>9</td></tr>",
                            "<tr><td>135</td><td>1</td><td>3</td><td>0</td><td>i</td><td>10</td></tr>",
                            "<tr><td>136</td><td>2</td><td>2</td><td>0</td><td>n</td><td>10</td></tr>",
                            "<tr><td>137</td><td>3</td><td>2</td><td>1</td><td>i</td><td>10</td></tr>",
                            "<tr><td>138</td><td>4</td><td>3</td><td>1</td><td>i</td><td>10</td></tr>",
                            "<tr><td>139</td><td>5</td><td>2</td><td>1</td><td>i</td><td>10</td></tr>",
                            "<tr><td>140</td><td>6</td><td>2</td><td>1</td><td>i</td><td>10</td></tr>",
                            "<tr><td>141</td><td>7</td><td>2</td><td>0</td><td>n</td><td>10</td></tr>",
                            "<tr><td>142</td><td>8</td><td>3</td><td>0</td><td>n</td><td>10</td></tr>",
                            "<tr><td>143</td><td>9</td><td>3</td><td>1</td><td>i</td><td>10</td></tr>",
                            "<tr><td>144</td><td>10</td><td>3</td><td>1</td><td>n</td><td>10</td></tr>",
                            "<tr><td>145</td><td>11</td><td>2</td><td>2</td><td>i</td><td>10</td></tr>",
                            "<tr><td>146</td><td>12</td><td>3</td><td>0</td><td>i</td><td>10</td></tr>",
                            "<tr><td>147</td><td>13</td><td>2</td><td>0</td><td>i</td><td>10</td></tr>",
                            "<tr><td>148</td><td>14</td><td>2</td><td>0</td><td>i</td><td>10</td></tr>",
                            "<tr><td>149</td><td>15</td><td>2</td><td>0</td><td>i</td><td>10</td></tr>",
                            "<tr><td>150</td><td>16</td><td>2</td><td>1</td><td>i</td><td>10</td></tr>",
                            "<tr><td>151</td><td>17</td><td>2</td><td>0</td><td>n</td><td>10</td></tr>",
                            "<tr><td>152</td><td>18</td><td>2</td><td>0</td><td>i</td><td>10</td></tr>",
                            "<tr><td>153</td><td>19</td><td>3</td><td>0</td><td>n</td><td>10</td></tr>",
                            "<tr><td>154</td><td>20</td><td>2</td><td>1</td><td>i</td><td>10</td></tr>",
                            "<tr><td>155</td><td>21</td><td>3</td><td>1</td><td>n</td><td>10</td></tr>",
                            "<tr><td>156</td><td>22</td><td>2</td><td>2</td><td>i</td><td>10</td></tr>",
                            "<tr><td>157</td><td>23</td><td>2</td><td>0</td><td>n</td><td>10</td></tr>",
                            "<tr><td>158</td><td>24</td><td>2</td><td>1</td><td>n</td><td>10</td></tr>",
                            "<tr><td>159</td><td>25</td><td>3</td><td>1</td><td>n</td><td>10</td></tr>",
                            "<tr><td>160</td><td>1</td><td>3</td><td>1</td><td>i</td><td>11</td></tr>",
                            "<tr><td>161</td><td>2</td><td>2</td><td>2</td><td>i</td><td>11</td></tr>",
                            "<tr><td>162</td><td>3</td><td>3</td><td>0</td><td>n</td><td>11</td></tr>",
                            "<tr><td>163</td><td>4</td><td>2</td><td>0</td><td>i</td><td>11</td></tr>",
                            "<tr><td>164</td><td>5</td><td>2</td><td>0</td><td>i</td><td>11</td></tr>",
                            "<tr><td>165</td><td>1</td><td>2</td><td>0</td><td>n</td><td>12</td></tr>",
                            "<tr><td>166</td><td>2</td><td>2</td><td>1</td><td>i</td><td>12</td></tr>",
                            "<tr><td>167</td><td>3</td><td>3</td><td>0</td><td>i</td><td>12</td></tr>",
                            "<tr><td>168</td><td>4</td><td>2</td><td>2</td><td>i</td><td>12</td></tr>",
                            "<tr><td>169</td><td>5</td><td>2</td><td>1</td><td>i</td><td>12</td></tr>",
                            "<tr><td>170</td><td>6</td><td>2</td><td>0</td><td>i</td><td>12</td></tr>",
                            "<tr><td>171</td><td>7</td><td>2</td><td>1</td><td>i</td><td>12</td></tr>",
                            "<tr><td>172</td><td>8</td><td>2</td><td>2</td><td>n</td><td>12</td></tr>",
                            "<tr><td>173</td><td>9</td><td>2</td><td>0</td><td>i</td><td>12</td></tr>",
                            "<tr><td>174</td><td>10</td><td>2</td><td>0</td><td>i</td><td>12</td></tr>",
                            "<tr><td>175</td><td>11</td><td>2</td><td>0</td><td>i</td><td>12</td></tr>",
                            "<tr><td>176</td><td>12</td><td>3</td><td>1</td><td>i</td><td>12</td></tr>",
                            "<tr><td>177</td><td>13</td><td>3</td><td>2</td><td>i</td><td>12</td></tr>",
                            "<tr><td>178</td><td>14</td><td>3</td><td>0</td><td>i</td><td>12</td></tr>",
                            "<tr><td>179</td><td>15</td><td>3</td><td>2</td><td>i</td><td>12</td></tr>",
                            "<tr><td>180</td><td>16</td><td>2</td><td>2</td><td>i</td><td>12</td></tr>",
                            "<tr><td>181</td><td>17</td><td>3</td><td>0</td><td>i</td><td>12</td></tr>",
                            "<tr><td>182</td><td>18</td><td>2</td><td>0</td><td>n</td><td>12</td></tr>",
                            "<tr><td>183</td><td>19</td><td>3</td><td>0</td><td>i</td><td>12</td></tr>",
                            "<tr><td>184</td><td>20</td><td>2</td><td>0</td><td>n</td><td>12</td></tr>",
                            "<tr><td>185</td><td>21</td><td>3</td><td>0</td><td>i</td><td>12</td></tr>",
                            "<tr><td>186</td><td>22</td><td>2</td><td>2</td><td>i</td><td>12</td></tr>",
                            "<tr><td>187</td><td>23</td><td>3</td><td>1</td><td>i</td><td>12</td></tr>",
                            "<tr><td>188</td><td>24</td><td>3</td><td>0</td><td>i</td><td>12</td></tr>",
                            "<tr><td>189</td><td>25</td><td>2</td><td>2</td><td>i</td><td>12</td></tr>",
                            "<tr><td>190</td><td>26</td><td>2</td><td>0</td><td>i</td><td>12</td></tr>",
                            "<tr><td>191</td><td>27</td><td>2</td><td>1</td><td>i</td><td>12</td></tr>",
                            "<tr><td>192</td><td>28</td><td>2</td><td>1</td><td>i</td><td>12</td></tr>",
                            "<tr><td>193</td><td>29</td><td>3</td><td>2</td><td>n</td><td>12</td></tr>",
                            "<tr><td>194</td><td>30</td><td>2</td><td>1</td><td>i</td><td>12</td></tr>",
                            "<tr><td>195</td><td>31</td><td>2</td><td>0</td><td>i</td><td>12</td></tr>",
                            "<tr><td>196</td><td>32</td><td>2</td><td>1</td><td>i</td><td>12</td></tr>",
                            "<tr><td>197</td><td>33</td><td>3</td><td>0</td><td>i</td><td>12</td></tr>",
                            "<tr><td>198</td><td>34</td><td>3</td><td>0</td><td>i</td><td>12</td></tr>",
                            "<tr><td>199</td><td>35</td><td>3</td><td>2</td><td>i</td><td>12</td></tr>",
                            "<tr><td>200</td><td>36</td><td>2</td><td>0</td><td>i</td><td>12</td></tr>",
                            "<tr><td>201</td><td>37</td><td>3</td><td>1</td><td>n</td><td>12</td></tr>",
                            "<tr><td>202</td><td>38</td><td>3</td><td>1</td><td>i</td><td>12</td></tr>",
                            "<tr><td>203</td><td>39</td><td>3</td><td>0</td><td>i</td><td>12</td></tr>",
                            "<tr><td>204</td><td>40</td><td>3</td><td>1</td><td>i</td><td>12</td></tr>",
                            "<tr><td>205</td><td>41</td><td>3</td><td>0</td><td>i</td><td>12</td></tr>",
                            "<tr><td>206</td><td>42</td><td>2</td><td>1</td><td>i</td><td>12</td></tr>",
                            "<tr><td>207</td><td>43</td><td>2</td><td>1</td><td>i</td><td>12</td></tr>",
                            "<tr><td>208</td><td>44</td><td>2</td><td>1</td><td>i</td><td>12</td></tr>",
                            "<tr><td>209</td><td>45</td><td>3</td><td>2</td><td>n</td><td>12</td></tr>",
                            "<tr><td>210</td><td>46</td><td>2</td><td>0</td><td>i</td><td>12</td></tr>",
                            "<tr><td>211</td><td>47</td><td>2</td><td>1</td><td>i</td><td>12</td></tr>",
                            "<tr><td>212</td><td>48</td><td>3</td><td>0</td><td>n</td><td>12</td></tr>",
                            "<tr><td>213</td><td>49</td><td>3</td><td>0</td><td>i</td><td>12</td></tr>",
                            "<tr><td>214</td><td>50</td><td>3</td><td>1</td><td>i</td><td>12</td></tr>",
                            "<tr><td>215</td><td>1</td><td>2</td><td>1</td><td>i</td><td>13</td></tr>",
                            "<tr><td>216</td><td>2</td><td>3</td><td>1</td><td>i</td><td>13</td></tr>",
                            "<tr><td>217</td><td>3</td><td>2</td><td>1</td><td>n</td><td>13</td></tr>",
                            "<tr><td>218</td><td>4</td><td>3</td><td>0</td><td>i</td><td>13</td></tr>",
                            "<tr><td>219</td><td>5</td><td>2</td><td>0</td><td>n</td><td>13</td></tr>",
                            "<tr><td>220</td><td>6</td><td>3</td><td>0</td><td>i</td><td>13</td></tr>",
                            "<tr><td>221</td><td>7</td><td>3</td><td>0</td><td>i</td><td>13</td></tr>",
                            "<tr><td>222</td><td>8</td><td>2</td><td>0</td><td>n</td><td>13</td></tr>",
                            "<tr><td>223</td><td>9</td><td>2</td><td>1</td><td>i</td><td>13</td></tr>",
                            "<tr><td>224</td><td>10</td><td>2</td><td>0</td><td>i</td><td>13</td></tr>",
                            "<tr><td>225</td><td>11</td><td>2</td><td>1</td><td>i</td><td>13</td></tr>",
                            "<tr><td>226</td><td>12</td><td>3</td><td>1</td><td>n</td><td>13</td></tr>",
                            "<tr><td>227</td><td>1</td><td>2</td><td>1</td><td>i</td><td>14</td></tr>",
                            "<tr><td>228</td><td>2</td><td>3</td><td>0</td><td>i</td><td>14</td></tr>",
                            "<tr><td>229</td><td>3</td><td>2</td><td>0</td><td>i</td><td>14</td></tr>",
                            "<tr><td>230</td><td>4</td><td>3</td><td>2</td><td>i</td><td>14</td></tr>",
                            "<tr><td>231</td><td>1</td><td>2</td><td>0</td><td>i</td><td>15</td></tr>",
                            "<tr><td>232</td><td>2</td><td>2</td><td>0</td><td>i</td><td>15</td></tr>",
                            "<tr><td>233</td><td>3</td><td>3</td><td>0</td><td>n</td><td>15</td></tr>",
                            "<tr><td>234</td><td>4</td><td>3</td><td>1</td><td>i</td><td>15</td></tr>",
                            "<tr><td>235</td><td>5</td><td>3</td><td>0</td><td>i</td><td>15</td></tr>",
                            "<tr><td>236</td><td>6</td><td>3</td><td>1</td><td>n</td><td>15</td></tr>",
                            "<tr><td>237</td><td>7</td><td>2</td><td>2</td><td>n</td><td>15</td></tr>",
                            "<tr><td>238</td><td>8</td><td>3</td><td>1</td><td>i</td><td>15</td></tr>",
                            "<tr><td>239</td><td>9</td><td>2</td><td>2</td><td>i</td><td>15</td></tr>",
                            "<tr><td>240</td><td>10</td><td>3</td><td>0</td><td>i</td><td>15</td></tr>",
                            "<tr><td>241</td><td>11</td><td>2</td><td>0</td><td>i</td><td>15</td></tr>",
                            "<tr><td>242</td><td>12</td><td>2</td><td>1</td><td>i</td><td>15</td></tr>",
                            "<tr><td>243</td><td>1</td><td>2</td><td>0</td><td>i</td><td>16</td></tr>",
                            "<tr><td>244</td><td>2</td><td>2</td><td>1</td><td>i</td><td>16</td></tr>",
                            "<tr><td>245</td><td>3</td><td>2</td><td>1</td><td>i</td><td>16</td></tr>",
                            "<tr><td>246</td><td>4</td><td>2</td><td>0</td><td>i</td><td>16</td></tr>",
                            "<tr><td>247</td><td>5</td><td>2</td><td>0</td><td>i</td><td>16</td></tr>",
                            "<tr><td>248</td><td>6</td><td>2</td><td>2</td><td>i</td><td>16</td></tr>",
                            "<tr><td>249</td><td>7</td><td>2</td><td>1</td><td>n</td><td>16</td></tr>",
                            "<tr><td>250</td><td>8</td><td>3</td><td>1</td><td>n</td><td>16</td></tr>",
                            "<tr><td>251</td><td>9</td><td>3</td><td>0</td><td>n</td><td>16</td></tr>",
                            "<tr><td>252</td><td>10</td><td>3</td><td>1</td><td>i</td><td>16</td></tr>",
                            "<tr><td>253</td><td>11</td><td>2</td><td>0</td><td>i</td><td>16</td></tr>",
                            "<tr><td>254</td><td>12</td><td>2</td><td>0</td><td>i</td><td>16</td></tr>",
                            "<tr><td>255</td><td>13</td><td>3</td><td>0</td><td>n</td><td>16</td></tr>",
                            "<tr><td>256</td><td>14</td><td>3</td><td>1</td><td>i</td><td>16</td></tr>",
                            "<tr><td>257</td><td>15</td><td>2</td><td>0</td><td>i</td><td>16</td></tr>",
                            "<tr><td>258</td><td>16</td><td>2</td><td>0</td><td>i</td><td>16</td></tr>",
                            "<tr><td>259</td><td>17</td><td>2</td><td>0</td><td>i</td><td>16</td></tr>",
                            "<tr><td>260</td><td>18</td><td>2</td><td>0</td><td>i</td><td>16</td></tr>",
                            "<tr><td>261</td><td>19</td><td>1</td><td>1</td><td>n</td><td>16</td></tr>",
                            "<tr><td>262</td><td>20</td><td>1</td><td>0</td><td>n</td><td>16</td></tr>",
                            "<tr><td>263</td><td>1</td><td>2</td><td>2</td><td>i</td><td>17</td></tr>",
                            "<tr><td>264</td><td>2</td><td>3</td><td>0</td><td>i</td><td>17</td></tr>",
                            "<tr><td>265</td><td>3</td><td>3</td><td>0</td><td>i</td><td>17</td></tr>",
                            "<tr><td>266</td><td>4</td><td>2</td><td>1</td><td>i</td><td>17</td></tr>",
                            "<tr><td>267</td><td>5</td><td>2</td><td>1</td><td>n</td><td>17</td></tr>",
                            "<tr><td>268</td><td>6</td><td>2</td><td>2</td><td>n</td><td>17</td></tr>",
                            "<tr><td>269</td><td>7</td><td>2</td><td>1</td><td>i</td><td>17</td></tr>",
                            "<tr><td>270</td><td>8</td><td>3</td><td>0</td><td>n</td><td>17</td></tr>",
                            "<tr><td>271</td><td>9</td><td>3</td><td>0</td><td>i</td><td>17</td></tr>",
                            "<tr><td>272</td><td>10</td><td>3</td><td>0</td><td>i</td><td>17</td></tr>",
                            "<tr><td>273</td><td>11</td><td>2</td><td>1</td><td>i</td><td>17</td></tr>",
                            "<tr><td>274</td><td>12</td><td>3</td><td>1</td><td>i</td><td>17</td></tr>",
                            "<tr><td>275</td><td>13</td><td>2</td><td>1</td><td>n</td><td>17</td></tr>",
                            "<tr><td>276</td><td>14</td><td>2</td><td>0</td><td>i</td><td>17</td></tr>",
                            "<tr><td>277</td><td>15</td><td>2</td><td>0</td><td>i</td><td>17</td></tr>",
                            "<tr><td>278</td><td>1</td><td>3</td><td>1</td><td>i</td><td>18</td></tr>",
                            "<tr><td>279</td><td>2</td><td>2</td><td>1</td><td>i</td><td>18</td></tr>",
                            "<tr><td>280</td><td>3</td><td>3</td><td>0</td><td>n</td><td>18</td></tr>",
                            "<tr><td>281</td><td>1</td><td>2</td><td>0</td><td>n</td><td>19</td></tr>",
                            "<tr><td>282</td><td>2</td><td>2</td><td>0</td><td>i</td><td>19</td></tr>",
                            "<tr><td>283</td><td>3</td><td>2</td><td>0</td><td>n</td><td>19</td></tr>",
                            "<tr><td>284</td><td>4</td><td>2</td><td>2</td><td>i</td><td>19</td></tr>",
                            "<tr><td>285</td><td>1</td><td>2</td><td>1</td><td>i</td><td>20</td></tr>",
                            "<tr><td>286</td><td>2</td><td>3</td><td>0</td><td>i</td><td>20</td></tr>",
                            "<tr><td>287</td><td>3</td><td>3</td><td>0</td><td>n</td><td>20</td></tr>",
                            "<tr><td>288</td><td>4</td><td>2</td><td>1</td><td>i</td><td>20</td></tr>",
                            "<tr><td>289</td><td>5</td><td>3</td><td>0</td><td>i</td><td>20</td></tr>",
                            "<tr><td>290</td><td>6</td><td>2</td><td>1</td><td>i</td><td>20</td></tr>",
                            "<tr><td>291</td><td>7</td><td>2</td><td>1</td><td>i</td><td>20</td></tr>",
                            "<tr><td>292</td><td>8</td><td>2</td><td>1</td><td>i</td><td>20</td></tr>",
                            "<tr><td>293</td><td>9</td><td>2</td><td>1</td><td>i</td><td>20</td></tr>",
                            "<tr><td>294</td><td>10</td><td>3</td><td>0</td><td>i</td><td>20</td></tr>",
                            "</table>"
                        ]
                    }
                }
            ],
            "execution_count": 2
        },
        {
            "cell_type": "markdown",
            "source": [
                "Jelenítsük meg, hogy hány foglalás történt szobánként, naponta (METTOL), valamint szobánként, azon belül naponta \n",
                "\n",
                "- Szempontonként külön-külön számoljuk a foglalásokat\n",
                "- A foglalások száma minden esetben legalább 2 legyen"
            ],
            "metadata": {
                "language": "sql",
                "azdata_cell_guid": "3b1a7958-c87b-4256-8e69-38d255c0b5a4"
            },
            "attachments": {}
        },
        {
            "cell_type": "code",
            "source": [
                "SELECT SZOBA_ID,\r\n",
                "       f.METTOL,\r\n",
                "       COUNT(*)\r\n",
                "FROM Foglalas f\r\n",
                "JOIN Szoba sz ON f.SZOBA_FK = sz.SZOBA_ID\r\n",
                "GROUP BY sz.SZOBA_ID, f.METTOL\r\n",
                "HAVING COUNT(*) >= 2\r\n",
                "ORDER BY sz.SZOBA_ID, f.METTOL;"
            ],
            "metadata": {
                "language": "sql",
                "azdata_cell_guid": "4b1ab195-3433-4eee-b0e8-3ab3ea841e1f"
            },
            "outputs": [],
            "execution_count": null
        },
        {
            "cell_type": "markdown",
            "source": [
                "A Szoba tábla Ferohely oszlopára végezzük el a következő számításokat:\n",
                "\n",
                "- Különböző értékek száma\n",
                "- Minimum, maximum, átlag\n",
                "- Null és Not null értékek százalékos aránya"
            ],
            "metadata": {
                "language": "sql",
                "azdata_cell_guid": "67affc98-303d-4dc7-8f22-06af44f9c5c9"
            },
            "attachments": {}
        },
        {
            "cell_type": "code",
            "source": [
                "SELECT COUNT(distinct(FEROHELY)) as 'Kül érték',\r\n",
                "       MIN(FEROHELY) as 'min',\r\n",
                "       MAX(FEROHELY) as 'max',\r\n",
                "       AVG(FEROHELY) as 'avg'\r\n",
                "from Szoba"
            ],
            "metadata": {
                "language": "sql",
                "azdata_cell_guid": "b5e9087f-867a-48af-a7f1-88c3fb8da97d"
            },
            "outputs": [],
            "execution_count": null
        },
        {
            "cell_type": "code",
            "source": [
                "SELECT\r\n",
                "  (COUNT(Ferohely) - COUNT(NULLIF(Ferohely, 0))) / COUNT(Ferohely) * 100,\r\n",
                "  COUNT(NULLIF(Ferohely, 0)) / COUNT(Ferohely) * 100\r\n",
                "FROM Szoba;"
            ],
            "metadata": {
                "language": "sql",
                "azdata_cell_guid": "c8356c41-497d-430b-9bd7-a4ffeacfc217"
            },
            "outputs": [],
            "execution_count": null
        },
        {
            "cell_type": "markdown",
            "source": [
                "Oldja meg REDIS-ben a következő feladatokat:\n",
                "\n",
                "- hozzon létre egy string kulcsot, amely egy könyvtár nevét tartalmazza\n",
                "- hozzon létre egy hash kulcsot, amely egy könyv legalább 3 adatát tartalmazza\n",
                "- hozzon létre egy set kulcsot, amely a könyvtárban lévő könyvek műfajait tartalmazza (legalább 3)\n",
                "- hozzon létre egy list kulcsot, amely a kikölcsönzött könyvek címeit tartalmazza (legalább 3)\n",
                "- hozzon létre egy sorted set kulcsot, amely az adott könyvek címeit és a könyv kölcsönzéseinek számát tartalmazza (legalább 3)"
            ],
            "metadata": {
                "language": "sql",
                "azdata_cell_guid": "32a43e9a-7717-4bd6-a4a6-6db0efbcb9ab"
            },
            "attachments": {}
        },
        {
            "cell_type": "markdown",
            "source": [
                "SET konyvtár\\_neve \"Valami Könyvtár\"\n",
                "\n",
                "HSET konyv1 cim \"A gyűrűk ura\" szerzo \"J.R.R. Tolkien\" kiadas \"1954\"  \n",
                "\n",
                "SADD konyvtár\\_mufajok fantasy kaland regény  \n",
                "\n",
                "LRPUSH kikolcsonzott \"Büszkeség és Balítélet\" \"Harry Potter\" \"Sherlock Holmes\"  \n",
                "\n",
                "ZADD kolcsonzesek 10 \"A gyűrűk ura\" 5 \"Harry Potter\" 2 \"Büszkeség és Balítélet\""
            ],
            "metadata": {
                "language": "sql",
                "azdata_cell_guid": "11a27a57-cace-45c6-9a19-f6d748b6e078"
            },
            "attachments": {}
        },
        {
            "cell_type": "markdown",
            "source": [
                "Cassandra CQL Shellben hozza létre a következő táblát:\n",
                "\n",
                "STUDENT(ID, Nev, Teljesitett\\_felevek, Eredmenyek, Nyelvtudas)\n",
                "\n",
                "- Az ID legyen az elsődleges kulcs\n",
                "- A Teljesitett félévek legyen LIST, tartalma egész számok, pl: 1, 2, 3\n",
                "- Az Eredmenyek legyen MAP, tartalma, hogy melyik félévben mennyi volt az átlag, pl: 1: 3,00, 2: 4.55, 3: 4,10\n",
                "- A Nyelvtudas legyen SET, tartalma a nyelvek megnevezése\n",
                "\n",
                "Vigyen fel legalább 2 rekordot!"
            ],
            "metadata": {
                "language": "sql",
                "azdata_cell_guid": "23bec823-b764-4a2e-851c-23baff4e5aa7"
            },
            "attachments": {}
        },
        {
            "cell_type": "markdown",
            "source": [
                "CREATE TABLE STUDENT ( ID int PRIMARY KEY, Nev text, Teljesitett\\_felevek list\\<int\\>, Eredmenyek map\\<int, float\\>, Nyelvtudas set\\<text\\> );\n",
                "\n",
                "INSERT INTO STUDENT (ID, Nev, Teljesitett\\_felevek, Eredmenyek, Nyelvtudas) VALUES (1, 'Nagy Ivó', \\[1, 2, 3\\], {1: 3.00, 2: 4.55, 3: 4.10}, {'angol', 'német'}); INSERT INTO STUDENT (ID, Nev, Teljesitett\\_felevek, Eredmenyek, Nyelvtudas) VALUES (2, 'Kovács Zsuzsa', \\[2, 3, 4\\], {2: 4.20, 3: 4.75, 4: 5.00}, {'francia', 'spanyol'});"
            ],
            "metadata": {
                "language": "sql",
                "azdata_cell_guid": "fad5df7c-c3d8-4927-af06-0e6acf5e47e1"
            },
            "attachments": {}
        },
        {
            "cell_type": "markdown",
            "source": [
                "A Neo4j Sandbox-ban vagy a Desktopban jelenítsük meg azon személyeket, akik egy filmben szerepeltek Tom Hanks-sel.\n",
                "\n",
                "- Egy szereplő neve csak egyszer jelenjen meg\n",
                "- Tom Hanks ne legyen benne a listában"
            ],
            "metadata": {
                "language": "sql",
                "azdata_cell_guid": "6a4357c5-5347-4b7f-9cc5-0c915447b78b"
            },
            "attachments": {}
        },
        {
            "cell_type": "markdown",
            "source": [
                "MATCH (p:Person)-\\[:ACTED\\_IN\\]-\\>(m:Movie) WHERE p.name CONTAINS 'Tom Hanks' AND p.name \\<\\> 'Tom Hanks' RETURN p.name"
            ],
            "metadata": {
                "language": "sql",
                "azdata_cell_guid": "f58e08d0-88fa-4a72-a04b-578e2aced6b0"
            },
            "attachments": {}
        }
    ]
}